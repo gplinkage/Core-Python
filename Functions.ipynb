{
  "nbformat": 4,
  "nbformat_minor": 0,
  "metadata": {
    "colab": {
      "provenance": [],
      "authorship_tag": "ABX9TyNOvzPO0E7Ed0ai955gFpyq",
      "include_colab_link": true
    },
    "kernelspec": {
      "name": "python3",
      "display_name": "Python 3"
    },
    "language_info": {
      "name": "python"
    }
  },
  "cells": [
    {
      "cell_type": "markdown",
      "metadata": {
        "id": "view-in-github",
        "colab_type": "text"
      },
      "source": [
        "<a href=\"https://colab.research.google.com/github/gplinkage/Core-Python/blob/main/Functions.ipynb\" target=\"_parent\"><img src=\"https://colab.research.google.com/assets/colab-badge.svg\" alt=\"Open In Colab\"/></a>"
      ]
    },
    {
      "cell_type": "code",
      "execution_count": 1,
      "metadata": {
        "id": "VInYME4p_r-S"
      },
      "outputs": [],
      "source": [
        "def sum(a, b):\n",
        "  return a+b"
      ]
    },
    {
      "cell_type": "code",
      "source": [
        "sum(3,4)"
      ],
      "metadata": {
        "colab": {
          "base_uri": "https://localhost:8080/"
        },
        "id": "G-V8nQ6C_1SK",
        "outputId": "eb8d5e1a-df00-40ba-ca87-e307ac196c84"
      },
      "execution_count": 2,
      "outputs": [
        {
          "output_type": "execute_result",
          "data": {
            "text/plain": [
              "7"
            ]
          },
          "metadata": {},
          "execution_count": 2
        }
      ]
    },
    {
      "cell_type": "code",
      "source": [
        "class Calculator:\n",
        "  def __init__ (self):\n",
        "    pass\n",
        "\n",
        "  def sum(self, a, b):\n",
        "    return a+b\n"
      ],
      "metadata": {
        "id": "mTB26wSq_6zH"
      },
      "execution_count": 7,
      "outputs": []
    },
    {
      "cell_type": "code",
      "source": [
        "obj = Calculator()"
      ],
      "metadata": {
        "id": "L8UpXJ-PAUzU"
      },
      "execution_count": 8,
      "outputs": []
    },
    {
      "cell_type": "code",
      "source": [
        "obj.sum(3,4)"
      ],
      "metadata": {
        "colab": {
          "base_uri": "https://localhost:8080/"
        },
        "id": "0c8hnzmcAZMt",
        "outputId": "4c1658f8-5173-4fa7-8027-25e781bc2311"
      },
      "execution_count": 9,
      "outputs": [
        {
          "output_type": "execute_result",
          "data": {
            "text/plain": [
              "7"
            ]
          },
          "metadata": {},
          "execution_count": 9
        }
      ]
    },
    {
      "cell_type": "code",
      "source": [
        "def sum(a, b, c):\n",
        "  return a+b+c"
      ],
      "metadata": {
        "id": "vfcsROo_AvXN"
      },
      "execution_count": 10,
      "outputs": []
    },
    {
      "cell_type": "code",
      "source": [
        "sum( 2, 3, 4)"
      ],
      "metadata": {
        "colab": {
          "base_uri": "https://localhost:8080/"
        },
        "id": "2AZvwJ-pA3gV",
        "outputId": "b40850ba-5040-4c16-80e4-85ade2b02fe2"
      },
      "execution_count": 11,
      "outputs": [
        {
          "output_type": "execute_result",
          "data": {
            "text/plain": [
              "9"
            ]
          },
          "metadata": {},
          "execution_count": 11
        }
      ]
    },
    {
      "cell_type": "code",
      "source": [
        "def func_sum(a, b, *args):\n",
        "  return (a+b+(sum(args)))"
      ],
      "metadata": {
        "id": "cNL1cz7AA6i3"
      },
      "execution_count": 1,
      "outputs": []
    },
    {
      "cell_type": "code",
      "source": [
        "func_sum(2,3,4,5,6,7)"
      ],
      "metadata": {
        "colab": {
          "base_uri": "https://localhost:8080/"
        },
        "id": "qmL7bcRxBBhy",
        "outputId": "9ad15095-f9d6-4ef5-976f-cc806335b2ad"
      },
      "execution_count": 2,
      "outputs": [
        {
          "output_type": "execute_result",
          "data": {
            "text/plain": [
              "27"
            ]
          },
          "metadata": {},
          "execution_count": 2
        }
      ]
    },
    {
      "cell_type": "code",
      "source": [
        "def func_sum(**kwargs):\n",
        "  return kwargs"
      ],
      "metadata": {
        "id": "mhFd88Ju70Qb"
      },
      "execution_count": 3,
      "outputs": []
    },
    {
      "cell_type": "code",
      "source": [
        "func_sum(a=1, b=2, c=3)"
      ],
      "metadata": {
        "colab": {
          "base_uri": "https://localhost:8080/"
        },
        "id": "pE19tf8n759K",
        "outputId": "fa0c33c9-7c54-4820-84ef-ef9b415d35b5"
      },
      "execution_count": 4,
      "outputs": [
        {
          "output_type": "execute_result",
          "data": {
            "text/plain": [
              "{'a': 1, 'b': 2, 'c': 3}"
            ]
          },
          "metadata": {},
          "execution_count": 4
        }
      ]
    },
    {
      "cell_type": "code",
      "source": [
        "def EmployeeDetails(**kwargs):\n",
        "  return kwargs"
      ],
      "metadata": {
        "id": "KNf7iNC29J0d"
      },
      "execution_count": 5,
      "outputs": []
    },
    {
      "cell_type": "code",
      "source": [
        "EmployeeDetails(name =\"ABCD\", position =\"Data Scientist\", age =\"25\", salary = 120000)"
      ],
      "metadata": {
        "colab": {
          "base_uri": "https://localhost:8080/"
        },
        "id": "qr3SGBrr9VNk",
        "outputId": "f64fed2f-3745-4b52-f202-0fa79b4b340c"
      },
      "execution_count": 6,
      "outputs": [
        {
          "output_type": "execute_result",
          "data": {
            "text/plain": [
              "{'name': 'ABCD', 'position': 'Data Scientist', 'age': '25', 'salary': 120000}"
            ]
          },
          "metadata": {},
          "execution_count": 6
        }
      ]
    }
  ]
}