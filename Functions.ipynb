{
  "nbformat": 4,
  "nbformat_minor": 0,
  "metadata": {
    "colab": {
      "provenance": [],
      "authorship_tag": "ABX9TyOttY2q9fTtnm3h3MwVuZfd",
      "include_colab_link": true
    },
    "kernelspec": {
      "name": "python3",
      "display_name": "Python 3"
    },
    "language_info": {
      "name": "python"
    }
  },
  "cells": [
    {
      "cell_type": "markdown",
      "metadata": {
        "id": "view-in-github",
        "colab_type": "text"
      },
      "source": [
        "<a href=\"https://colab.research.google.com/github/gplinkage/Core-Python/blob/main/Functions.ipynb\" target=\"_parent\"><img src=\"https://colab.research.google.com/assets/colab-badge.svg\" alt=\"Open In Colab\"/></a>"
      ]
    },
    {
      "cell_type": "code",
      "execution_count": 1,
      "metadata": {
        "id": "VInYME4p_r-S"
      },
      "outputs": [],
      "source": [
        "def sum(a, b):\n",
        "  return a+b"
      ]
    },
    {
      "cell_type": "code",
      "source": [
        "sum(3,4)"
      ],
      "metadata": {
        "colab": {
          "base_uri": "https://localhost:8080/"
        },
        "id": "G-V8nQ6C_1SK",
        "outputId": "eb8d5e1a-df00-40ba-ca87-e307ac196c84"
      },
      "execution_count": 2,
      "outputs": [
        {
          "output_type": "execute_result",
          "data": {
            "text/plain": [
              "7"
            ]
          },
          "metadata": {},
          "execution_count": 2
        }
      ]
    },
    {
      "cell_type": "code",
      "source": [
        "class Calculator:\n",
        "  def __init__ (self):\n",
        "    pass\n",
        "\n",
        "  def sum(self, a, b):\n",
        "    return a+b\n"
      ],
      "metadata": {
        "id": "mTB26wSq_6zH"
      },
      "execution_count": 7,
      "outputs": []
    },
    {
      "cell_type": "code",
      "source": [
        "obj = Calculator()"
      ],
      "metadata": {
        "id": "L8UpXJ-PAUzU"
      },
      "execution_count": 8,
      "outputs": []
    },
    {
      "cell_type": "code",
      "source": [
        "obj.sum(3,4)"
      ],
      "metadata": {
        "colab": {
          "base_uri": "https://localhost:8080/"
        },
        "id": "0c8hnzmcAZMt",
        "outputId": "4c1658f8-5173-4fa7-8027-25e781bc2311"
      },
      "execution_count": 9,
      "outputs": [
        {
          "output_type": "execute_result",
          "data": {
            "text/plain": [
              "7"
            ]
          },
          "metadata": {},
          "execution_count": 9
        }
      ]
    },
    {
      "cell_type": "code",
      "source": [
        "def sum(a, b, c):\n",
        "  return a+b+c"
      ],
      "metadata": {
        "id": "vfcsROo_AvXN"
      },
      "execution_count": 10,
      "outputs": []
    },
    {
      "cell_type": "code",
      "source": [
        "sum( 2, 3, 4)"
      ],
      "metadata": {
        "colab": {
          "base_uri": "https://localhost:8080/"
        },
        "id": "2AZvwJ-pA3gV",
        "outputId": "b40850ba-5040-4c16-80e4-85ade2b02fe2"
      },
      "execution_count": 11,
      "outputs": [
        {
          "output_type": "execute_result",
          "data": {
            "text/plain": [
              "9"
            ]
          },
          "metadata": {},
          "execution_count": 11
        }
      ]
    },
    {
      "cell_type": "code",
      "source": [
        "def func_sum(a, b, *args):\n",
        "  return (a+b+(sum(args)))"
      ],
      "metadata": {
        "id": "cNL1cz7AA6i3"
      },
      "execution_count": 1,
      "outputs": []
    },
    {
      "cell_type": "code",
      "source": [
        "func_sum(2,3,4,5,6,7)"
      ],
      "metadata": {
        "colab": {
          "base_uri": "https://localhost:8080/"
        },
        "id": "qmL7bcRxBBhy",
        "outputId": "9ad15095-f9d6-4ef5-976f-cc806335b2ad"
      },
      "execution_count": 2,
      "outputs": [
        {
          "output_type": "execute_result",
          "data": {
            "text/plain": [
              "27"
            ]
          },
          "metadata": {},
          "execution_count": 2
        }
      ]
    },
    {
      "cell_type": "code",
      "source": [
        "def func_sum(**kwargs):\n",
        "  return kwargs"
      ],
      "metadata": {
        "id": "mhFd88Ju70Qb"
      },
      "execution_count": 3,
      "outputs": []
    },
    {
      "cell_type": "code",
      "source": [
        "func_sum(a=1, b=2, c=3)"
      ],
      "metadata": {
        "colab": {
          "base_uri": "https://localhost:8080/"
        },
        "id": "pE19tf8n759K",
        "outputId": "fa0c33c9-7c54-4820-84ef-ef9b415d35b5"
      },
      "execution_count": 4,
      "outputs": [
        {
          "output_type": "execute_result",
          "data": {
            "text/plain": [
              "{'a': 1, 'b': 2, 'c': 3}"
            ]
          },
          "metadata": {},
          "execution_count": 4
        }
      ]
    },
    {
      "cell_type": "code",
      "source": [
        "def EmployeeDetails(**kwargs):\n",
        "  return kwargs"
      ],
      "metadata": {
        "id": "KNf7iNC29J0d"
      },
      "execution_count": 5,
      "outputs": []
    },
    {
      "cell_type": "code",
      "source": [
        "EmployeeDetails(name =\"ABCD\", position =\"Data Scientist\", age =\"25\", salary = 120000)"
      ],
      "metadata": {
        "colab": {
          "base_uri": "https://localhost:8080/"
        },
        "id": "qr3SGBrr9VNk",
        "outputId": "f64fed2f-3745-4b52-f202-0fa79b4b340c"
      },
      "execution_count": 6,
      "outputs": [
        {
          "output_type": "execute_result",
          "data": {
            "text/plain": [
              "{'name': 'ABCD', 'position': 'Data Scientist', 'age': '25', 'salary': 120000}"
            ]
          },
          "metadata": {},
          "execution_count": 6
        }
      ]
    },
    {
      "cell_type": "code",
      "source": [
        "class Human:\n",
        "  def __init__ (self, n , a):\n",
        "    self.name = n\n",
        "    self.occupation = a\n",
        "\n",
        "  def do_work(self):\n",
        "    if self.occupation == 'Actor':\n",
        "       print(self.name, \"Plays roles in movie\")\n",
        "    elif self.occupation == 'Data Scientist':\n",
        "      print(self.name, \"is a Data Scientist\")\n",
        "\n",
        "  def speaks(self):\n",
        "    print (self.name, \"Says, 'How are you?'\")"
      ],
      "metadata": {
        "id": "zjX_UUvDyWq4"
      },
      "execution_count": 16,
      "outputs": []
    },
    {
      "cell_type": "code",
      "source": [
        "tom = Human('Tom Cruise', 'Actor')"
      ],
      "metadata": {
        "id": "dpfgKGgF0lpO"
      },
      "execution_count": 17,
      "outputs": []
    },
    {
      "cell_type": "code",
      "source": [
        "tom.do_work()"
      ],
      "metadata": {
        "colab": {
          "base_uri": "https://localhost:8080/"
        },
        "id": "Yq5tN5to9ZBa",
        "outputId": "92203ee0-2580-4b81-d071-b74133264c6a"
      },
      "execution_count": 18,
      "outputs": [
        {
          "output_type": "stream",
          "name": "stdout",
          "text": [
            "Tom Cruise Plays roles in movie\n"
          ]
        }
      ]
    },
    {
      "cell_type": "code",
      "source": [
        "tom.speaks()"
      ],
      "metadata": {
        "colab": {
          "base_uri": "https://localhost:8080/"
        },
        "id": "hX4-jvVv-FBt",
        "outputId": "0506236e-ca7c-46ad-f0f9-cbf4e8c81b1f"
      },
      "execution_count": 19,
      "outputs": [
        {
          "output_type": "stream",
          "name": "stdout",
          "text": [
            "Tom Cruise Says, 'How are you?'\n"
          ]
        }
      ]
    },
    {
      "cell_type": "code",
      "source": [
        "maria = Human('Maria Sharapova', 'Data Scientist')"
      ],
      "metadata": {
        "id": "OoSpwjWN-MuI"
      },
      "execution_count": 20,
      "outputs": []
    },
    {
      "cell_type": "code",
      "source": [
        "maria.do_work()"
      ],
      "metadata": {
        "colab": {
          "base_uri": "https://localhost:8080/"
        },
        "id": "hE49QBdL-dwE",
        "outputId": "9a89db76-978f-4ee4-f007-2cf351054519"
      },
      "execution_count": 21,
      "outputs": [
        {
          "output_type": "stream",
          "name": "stdout",
          "text": [
            "Maria Sharapova is a Data Scientist\n"
          ]
        }
      ]
    },
    {
      "cell_type": "code",
      "source": [
        "maria.speaks()"
      ],
      "metadata": {
        "colab": {
          "base_uri": "https://localhost:8080/"
        },
        "id": "eZI7uv_J-grk",
        "outputId": "78750a59-7425-4d5f-9076-3bfab64adfa0"
      },
      "execution_count": 22,
      "outputs": [
        {
          "output_type": "stream",
          "name": "stdout",
          "text": [
            "Maria Sharapova Says, 'How are you?'\n"
          ]
        }
      ]
    }
  ]
}