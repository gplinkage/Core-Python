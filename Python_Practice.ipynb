{
  "nbformat": 4,
  "nbformat_minor": 0,
  "metadata": {
    "colab": {
      "provenance": [],
      "authorship_tag": "ABX9TyPa4nd/Tp5YAX0yzw4ksbVS",
      "include_colab_link": true
    },
    "kernelspec": {
      "name": "python3",
      "display_name": "Python 3"
    },
    "language_info": {
      "name": "python"
    }
  },
  "cells": [
    {
      "cell_type": "markdown",
      "metadata": {
        "id": "view-in-github",
        "colab_type": "text"
      },
      "source": [
        "<a href=\"https://colab.research.google.com/github/gplinkage/Core-Python/blob/main/Python_Practice.ipynb\" target=\"_parent\"><img src=\"https://colab.research.google.com/assets/colab-badge.svg\" alt=\"Open In Colab\"/></a>"
      ]
    },
    {
      "cell_type": "code",
      "execution_count": null,
      "metadata": {
        "id": "RYnxS_HFx9JD"
      },
      "outputs": [],
      "source": []
    },
    {
      "cell_type": "code",
      "source": [
        "# Converting a integer inot decimals\n",
        "import decimal\n",
        "integer = 10\n",
        "decimal.Decimal(integer)\n",
        "print(decimal.Decimal(integer))\n",
        "print(type(decimal.Decimal(integer)))"
      ],
      "metadata": {
        "colab": {
          "base_uri": "https://localhost:8080/"
        },
        "id": "qoHScezqyCWW",
        "outputId": "1b930f62-29d0-4569-ea66-9caf4fde5086"
      },
      "execution_count": 5,
      "outputs": [
        {
          "output_type": "stream",
          "name": "stdout",
          "text": [
            "10\n",
            "<class 'decimal.Decimal'>\n"
          ]
        }
      ]
    },
    {
      "cell_type": "code",
      "source": [
        "#Converting an string of integers into decimals\n",
        "integer = '123456789'\n",
        "print(decimal.Decimal(integer))\n",
        "print(decimal.Decimal (integer))\n",
        "type(decimal.Decimal(integer))"
      ],
      "metadata": {
        "colab": {
          "base_uri": "https://localhost:8080/"
        },
        "id": "59RHtypDylVT",
        "outputId": "59a5bc79-f4a3-43c0-c5a0-69b1dc991fd9"
      },
      "execution_count": 9,
      "outputs": [
        {
          "output_type": "stream",
          "name": "stdout",
          "text": [
            "123456789\n",
            "123456789\n"
          ]
        },
        {
          "output_type": "execute_result",
          "data": {
            "text/plain": [
              "decimal.Decimal"
            ]
          },
          "metadata": {},
          "execution_count": 9
        }
      ]
    },
    {
      "cell_type": "code",
      "source": [
        "#reversing a string using an extended slicing technique\n",
        "str='Hello'\n",
        "print(str[::-1])"
      ],
      "metadata": {
        "colab": {
          "base_uri": "https://localhost:8080/"
        },
        "id": "rCA0IKBpzZwV",
        "outputId": "efbb76c2-c961-4996-c731-7b26a881d93e"
      },
      "execution_count": 10,
      "outputs": [
        {
          "output_type": "stream",
          "name": "stdout",
          "text": [
            "olleH\n"
          ]
        }
      ]
    },
    {
      "cell_type": "code",
      "source": [
        "str2= 'Python Programming'\n",
        "print(str2[::-1])"
      ],
      "metadata": {
        "colab": {
          "base_uri": "https://localhost:8080/"
        },
        "id": "Ljaboajl1mFv",
        "outputId": "208e4d2d-5975-4671-b91b-3f1357a89489"
      },
      "execution_count": 11,
      "outputs": [
        {
          "output_type": "stream",
          "name": "stdout",
          "text": [
            "gnimmargorP nohtyP\n"
          ]
        }
      ]
    },
    {
      "cell_type": "code",
      "source": [
        "#counting vowels in a given word\n",
        "\n",
        "vowels = ['a', 'e', 'i', 'o', 'u']\n",
        "count=0\n",
        "\n",
        "word = 'Python programming'\n",
        "for i in word:\n",
        "   if i in vowels:\n",
        "    count+=1\n",
        "print(count)\n"
      ],
      "metadata": {
        "colab": {
          "base_uri": "https://localhost:8080/"
        },
        "id": "9NcQyXXq1y-_",
        "outputId": "58734094-9524-459a-93f5-36e1448df0dd"
      },
      "execution_count": 12,
      "outputs": [
        {
          "output_type": "stream",
          "name": "stdout",
          "text": [
            "4\n"
          ]
        }
      ]
    },
    {
      "cell_type": "code",
      "source": [
        "# counting consonants in given name\n",
        "vowels = ['a', 'e', 'i', 'o', 'u']\n",
        "count=0\n",
        "\n",
        "name = 'Python programming'\n",
        "for i in name:\n",
        "   if i not in vowels:\n",
        "    count+=1\n",
        "print(count)"
      ],
      "metadata": {
        "colab": {
          "base_uri": "https://localhost:8080/"
        },
        "id": "NPnyNC1x2mOS",
        "outputId": "8c18ed9b-de31-4c12-ebdc-c28a26a02ed3"
      },
      "execution_count": 13,
      "outputs": [
        {
          "output_type": "stream",
          "name": "stdout",
          "text": [
            "14\n"
          ]
        }
      ]
    },
    {
      "cell_type": "code",
      "source": [
        "# Creating instance memeber varaiable in python\n",
        "\n",
        "class Test:\n",
        "  def __init__(self):\n",
        "    self.a = 5\n",
        "  def f1(self):\n",
        "    self.b = 10\n",
        "\n",
        "t1= Test()\n",
        "t2 = Test()\n",
        "\n",
        "t1.f1()\n",
        "\n",
        "t1.c = 15\n",
        "\n",
        "print(t1.__dict__)\n",
        "print(t2.__dict__)"
      ],
      "metadata": {
        "colab": {
          "base_uri": "https://localhost:8080/"
        },
        "id": "WteBqhFDpIm6",
        "outputId": "894dfa33-dd14-46f7-ae6a-6a497db818f5"
      },
      "execution_count": 1,
      "outputs": [
        {
          "output_type": "stream",
          "name": "stdout",
          "text": [
            "{'a': 5, 'b': 10, 'c': 15}\n",
            "{'a': 5}\n"
          ]
        }
      ]
    },
    {
      "cell_type": "code",
      "source": [
        "# Addition using lamda function\n",
        "\n",
        "f = lambda x, y: x + y\n",
        "r = f(3, 7)\n",
        "print(r)"
      ],
      "metadata": {
        "colab": {
          "base_uri": "https://localhost:8080/"
        },
        "id": "LzjbfXzL0pFf",
        "outputId": "96975385-57f0-4469-a091-75d3d1ef3677"
      },
      "execution_count": 2,
      "outputs": [
        {
          "output_type": "stream",
          "name": "stdout",
          "text": [
            "10\n"
          ]
        }
      ]
    },
    {
      "cell_type": "code",
      "source": [
        "f = lambda n : 1 if n==0 else n*f (n-1)\n",
        "f(5)"
      ],
      "metadata": {
        "colab": {
          "base_uri": "https://localhost:8080/"
        },
        "id": "fU2RRo4T1AuG",
        "outputId": "99ec390a-f0ec-48ea-d3fa-fa5b542536d8"
      },
      "execution_count": 3,
      "outputs": [
        {
          "output_type": "execute_result",
          "data": {
            "text/plain": [
              "120"
            ]
          },
          "metadata": {},
          "execution_count": 3
        }
      ]
    },
    {
      "cell_type": "code",
      "source": [],
      "metadata": {
        "id": "-KvhaIwk1WNF"
      },
      "execution_count": null,
      "outputs": []
    }
  ]
}