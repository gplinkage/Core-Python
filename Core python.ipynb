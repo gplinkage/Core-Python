{
 "cells": [
  {
   "cell_type": "markdown",
   "metadata": {},
   "source": [
    "Python data type\n",
    "1. Standard data type\n",
    "  numbers (integer, float )\n",
    "  boolean\n",
    "  complex\n",
    "2. Structured data type\n",
    "   list \n",
    "   tuple \n",
    "   set \n",
    "   Dictionary "
   ]
  },
  {
   "cell_type": "code",
   "execution_count": null,
   "metadata": {},
   "outputs": [],
   "source": [
    "\n",
    "int1= 1976\n",
    "print(int1)\n",
    "print(type(int1))"
   ]
  },
  {
   "cell_type": "code",
   "execution_count": null,
   "metadata": {},
   "outputs": [],
   "source": [
    "flt1= 3.234\n",
    "print(flt1)\n",
    "print(type(flt1))"
   ]
  },
  {
   "cell_type": "code",
   "execution_count": null,
   "metadata": {},
   "outputs": [],
   "source": [
    "complx1= 2+3j\n",
    "print(complex)\n",
    "print(type(complex))"
   ]
  },
  {
   "cell_type": "code",
   "execution_count": null,
   "metadata": {},
   "outputs": [],
   "source": [
    "boul1= True\n",
    "print(boul1)\n",
    "print(type(boul1))"
   ]
  },
  {
   "cell_type": "code",
   "execution_count": null,
   "metadata": {},
   "outputs": [],
   "source": [
    "str1 = 'Python programming'\n",
    "print(str1)\n",
    "print(type(str1))"
   ]
  },
  {
   "cell_type": "code",
   "execution_count": null,
   "metadata": {},
   "outputs": [],
   "source": [
    "str2 ='''python programing'''\n",
    "print(str2)\n",
    "print(type(str2))\n"
   ]
  },
  {
   "cell_type": "code",
   "execution_count": null,
   "metadata": {},
   "outputs": [],
   "source": [
    "str3 = \"My name is\" 'John'\n",
    "print(str3)\n",
    "print(type(str3))"
   ]
  },
  {
   "cell_type": "code",
   "execution_count": null,
   "metadata": {},
   "outputs": [],
   "source": [
    "# 1.List is mutable \n",
    "\n",
    "lst = [12,13,14,15]\n",
    "\n",
    "print(lst)"
   ]
  },
  {
   "cell_type": "code",
   "execution_count": null,
   "metadata": {},
   "outputs": [],
   "source": [
    "# Tupple is immutable \n",
    "tup1= (2,4,6,7,8,9)\n",
    "print(tup1)"
   ]
  },
  {
   "cell_type": "code",
   "execution_count": null,
   "metadata": {},
   "outputs": [],
   "source": [
    "# Set\n",
    "#1. Set is combination of unique values \n",
    "#2. Set is collection of unordered element \n",
    "#3. Set is representated by curly brackets\n",
    "#4. Set is mutable \n",
    "\n",
    "set1= {1,2,3,'a','b','c','@',('a','b+5j','c'),'a',True,'b',2.11,\"Art\",False}\n",
    "print(set1)\n",
    "print(type(set1))"
   ]
  },
  {
   "cell_type": "code",
   "execution_count": null,
   "metadata": {},
   "outputs": [],
   "source": [
    "#Dictionary\n",
    "dict1= {'a':'App;e', \n",
    "        'b':'Banana', \n",
    "        'c': 'Cherrries'}\n",
    "\n",
    "print(dict1)\n",
    "print(type(dict1))\n"
   ]
  },
  {
   "cell_type": "code",
   "execution_count": null,
   "metadata": {},
   "outputs": [],
   "source": [
    "str5 = 'GOVINDA POUDEL'\n",
    "print(len(str5))\n"
   ]
  },
  {
   "cell_type": "code",
   "execution_count": null,
   "metadata": {},
   "outputs": [],
   "source": [
    "\n",
    "print(str5[0])\n",
    "print(str5[1])\n",
    "print(str5[2])\n",
    "print(str5[3])\n",
    "print(str5[4])\n",
    "print(str5[5])\n",
    "print(str5[6])\n",
    "print(str5[7])\n",
    "print(str5[8])\n",
    "print(str5[9])\n",
    "print(str5[10])\n",
    "print(str5[11])\n",
    "print(str5[12])\n",
    "print(str5[13])"
   ]
  },
  {
   "cell_type": "code",
   "execution_count": null,
   "metadata": {},
   "outputs": [],
   "source": [
    "print(str5[0:7:1]), print(str5[8:])"
   ]
  },
  {
   "cell_type": "code",
   "execution_count": null,
   "metadata": {},
   "outputs": [],
   "source": [
    "str5[0:7:1]"
   ]
  },
  {
   "cell_type": "code",
   "execution_count": null,
   "metadata": {},
   "outputs": [],
   "source": [
    "str4 = \"I love python\" \" \" 'it is fun to run python'\n",
    "print(str4)\n",
    "print(str4[::])\n",
    "print(str4[14::])\n",
    "print(str4[:13:])\n",
    "str4[:len(str4):]"
   ]
  },
  {
   "cell_type": "code",
   "execution_count": null,
   "metadata": {},
   "outputs": [],
   "source": [
    "#string in-buit function \n",
    "# string splicing [start:stop:step]\n",
    "temp_str = \"Hello Word\"\n",
    "\n",
    "print(temp_str[::2])"
   ]
  },
  {
   "cell_type": "code",
   "execution_count": null,
   "metadata": {},
   "outputs": [],
   "source": [
    "dir(temp_str)\n",
    "\n",
    "#dir is used in development and operations "
   ]
  },
  {
   "cell_type": "code",
   "execution_count": null,
   "metadata": {},
   "outputs": [],
   "source": [
    "# Takes 1st charater of string to upper case \n",
    "print(temp_str.capitalize())\n",
    "\n",
    "# capitalizes everything\n",
    "print(temp_str.upper())\n",
    "\n",
    "#capitalizes first letter of each word\n",
    "print(temp_str.title())\n"
   ]
  },
  {
   "cell_type": "code",
   "execution_count": null,
   "metadata": {},
   "outputs": [],
   "source": [
    "temp_str = \"HeLLo WOrLD\"\n",
    "\n",
    "# returns a string whrere all characters are lowercase \n",
    "print(temp_str.casefold())"
   ]
  },
  {
   "cell_type": "code",
   "execution_count": null,
   "metadata": {},
   "outputs": [],
   "source": [
    "# adds space or charecter specified to either side of the string to keep it in the center \n",
    "print(temp_str.center(15, \"*\"))\n",
    "print(temp_str.center(16, \"*\"))"
   ]
  },
  {
   "cell_type": "code",
   "execution_count": null,
   "metadata": {},
   "outputs": [],
   "source": [
    "#returns ho many times the substring appears in the given range by default picks full string \n",
    "# count function is case sensetive \n",
    "print(temp_str.count(\"Hello\"))\n",
    "print(temp_str.count(\"HeLLo\"))"
   ]
  },
  {
   "cell_type": "code",
   "execution_count": null,
   "metadata": {},
   "outputs": [],
   "source": [
    "# count(value, start, end) \n",
    "temp_str3 = \"hello world how is it going? hello all good\"\n",
    "print(temp_str3.count('hello',))\n",
    "print(temp_str3.count('hello',2))"
   ]
  },
  {
   "cell_type": "code",
   "execution_count": null,
   "metadata": {},
   "outputs": [],
   "source": [
    "# returns True or False on the basis of Suffix passed.\n",
    "temp_str4 = \"hello world how is it going? hello all good\"\n",
    "print(temp_str4.endswith(\"good\"))\n",
    "print(temp_str4.endswith(\"good!\"))"
   ]
  },
  {
   "cell_type": "code",
   "execution_count": null,
   "metadata": {},
   "outputs": [],
   "source": [
    "# endswith (value, start, stop) stop is the length not index position\n",
    "print(temp_str4.endswith(\"o\", 0, 5))\n",
    "print(temp_str4.endswith(\"goo\", 0, 5))\n",
    "print(temp_str4.endswith(\"goo\", 0, len(temp_str4)-1))\n",
    "print(temp_str4.endswith(\"good\", 0, len(temp_str4)))\n"
   ]
  },
  {
   "cell_type": "code",
   "execution_count": null,
   "metadata": {},
   "outputs": [],
   "source": [
    "#returns lowest index of the substreing if found else returns -1\n",
    "temp_str = \"hello world how is it going? hello all good! how are you?\"\n",
    "print(temp_str.find(\"how\"))\n",
    "print(temp_str.find(\"is\"))"
   ]
  },
  {
   "cell_type": "code",
   "execution_count": null,
   "metadata": {},
   "outputs": [],
   "source": [
    "temp_str = \"Hello my name is {fname}, I am a {position}!\"\n",
    "print(temp_str.format(fname=\"Govinda\", position='ML Engineer'))\n"
   ]
  },
  {
   "cell_type": "code",
   "execution_count": null,
   "metadata": {},
   "outputs": [],
   "source": [
    "temp_str = \"Hello my name is {0}, I am a {1}!\"\n",
    "temp_str.format(\"Govinda\",'ML Engineer')"
   ]
  },
  {
   "cell_type": "markdown",
   "metadata": {},
   "source": [
    "temp_str.index('Hello')\n",
    "temp_str.index('is')"
   ]
  },
  {
   "cell_type": "code",
   "execution_count": null,
   "metadata": {},
   "outputs": [],
   "source": [
    "temp_str.isalnum()"
   ]
  },
  {
   "cell_type": "code",
   "execution_count": null,
   "metadata": {},
   "outputs": [],
   "source": [
    "temp_str.isalpha()"
   ]
  },
  {
   "cell_type": "markdown",
   "metadata": {},
   "source": [
    "## Slicing and splicing\n",
    "\n",
    "## String[start (index):stop (index-1):step], stop is the length not index position"
   ]
  },
  {
   "cell_type": "code",
   "execution_count": null,
   "metadata": {},
   "outputs": [],
   "source": [
    "str1= 'Pappa Peg Prefer Python Programing'\n",
    "print(str1)"
   ]
  },
  {
   "cell_type": "code",
   "execution_count": null,
   "metadata": {},
   "outputs": [],
   "source": [
    "str1[0:5], str1[6:9], str1[10:16], str1[17:23], str1[24:]"
   ]
  },
  {
   "cell_type": "code",
   "execution_count": null,
   "metadata": {},
   "outputs": [],
   "source": [
    "str1[4::-1], str1[8:5:-1], str1[15:9:-1], str1[22:16:-1], str1[:23:-1]"
   ]
  },
  {
   "cell_type": "code",
   "execution_count": null,
   "metadata": {},
   "outputs": [],
   "source": [
    "str1[-34:-29], str1[-24:-18], str1[-17:-11:], str1[-11::]"
   ]
  },
  {
   "cell_type": "code",
   "execution_count": null,
   "metadata": {},
   "outputs": [],
   "source": [
    "lst1= ['apple', 'orange', \"fig\", \"cherrie\", 'grapes']\n",
    "print(lst1)"
   ]
  },
  {
   "cell_type": "code",
   "execution_count": null,
   "metadata": {},
   "outputs": [],
   "source": [
    "print(lst1[:])\n",
    "print(lst1[:3])\n",
    "print(lst1[::-1])\n",
    "print(lst1[2:])\n",
    "print(lst1[2::-1])\n",
    "print(lst1[2::])\n",
    "print(lst1[-1::-1])\n",
    "print(lst1[4::-1])\n",
    "print(lst1[:len(str1)])\n",
    "print(lst1[:5])"
   ]
  },
  {
   "cell_type": "code",
   "execution_count": null,
   "metadata": {},
   "outputs": [],
   "source": [
    "lst2=['dog', 1, 'cat', 'horse', 'sheep', 'goat', 12, 'monkey']\n",
    "print(lst2[0:5:1]) # positive indexing positive slicing \n",
    "print(lst2[7::-1]) # positive indexing negative slicing \n",
    "print(lst2[-7::])  # negative indexing positive slicing \n",
    "print(lst2[-1:-6:-1]) # negative indexing negative slicing \n"
   ]
  },
  {
   "cell_type": "code",
   "execution_count": null,
   "metadata": {},
   "outputs": [],
   "source": [
    "# Try it with tupple\n",
    "tupl1=(1, 2, 'apple', 'pear', 22, 17)\n",
    "print(tupl1)\n",
    "print(tupl1[0:4])\n",
    "print(tupl1[::-1])\n",
    "print(tupl1[-1::-1])\n",
    "print(tupl1[-1:-6:-1])\n"
   ]
  },
  {
   "cell_type": "code",
   "execution_count": null,
   "metadata": {},
   "outputs": [],
   "source": [
    "# converting list to tuple\n",
    "tupl2 = tuple(lst2)\n",
    "print(tupl2)"
   ]
  },
  {
   "cell_type": "code",
   "execution_count": null,
   "metadata": {},
   "outputs": [],
   "source": [
    "print(tupl2[0:5:1]) # positive indexing positive slicing \n",
    "print(tupl2[7::-1]) # positive indexing negative slicing \n",
    "print(tupl2[-7::])  # negative indexing positive slicing \n",
    "print(tupl2[-1:-6:-1]) # negative indexing negative slicing "
   ]
  },
  {
   "cell_type": "code",
   "execution_count": null,
   "metadata": {},
   "outputs": [],
   "source": [
    "# returns true if only numbers between 0-9 else returns false \n",
    "temp_str = '\\u00B2'\n",
    "print('km\\u00B2')\n",
    "print(temp_str.isdecimal())\n",
    "print(temp_str.isdigit())"
   ]
  },
  {
   "cell_type": "code",
   "execution_count": null,
   "metadata": {},
   "outputs": [],
   "source": [
    "#Join function, iterables are list, tuple, dictionary, set \n",
    "list_temp= ['Hello', 'World', 'How', 'Are', 'You']\n",
    "print('!'.join(list_temp))\n",
    "print(' '.join(list_temp))\n",
    "print('5'.join(list_temp))"
   ]
  },
  {
   "cell_type": "code",
   "execution_count": null,
   "metadata": {},
   "outputs": [],
   "source": [
    "temp_str= 'Hello World'\n",
    "print(temp_str.lower())     #lower()\n",
    "print(temp_str.casefold())  #casefold()\n",
    "print(temp_str.upper())  "
   ]
  },
  {
   "cell_type": "code",
   "execution_count": null,
   "metadata": {},
   "outputs": [],
   "source": [
    "temp_str= \"     Hello World     \"\n",
    "print(temp_str.lstrip())\n",
    "print(temp_str.rstrip())\n",
    "print(temp_str.strip())"
   ]
  },
  {
   "cell_type": "code",
   "execution_count": null,
   "metadata": {},
   "outputs": [],
   "source": [
    "temp_str = \" I could eat apples all day\"\n",
    "print(temp_str.partition(\"apples\"))\n",
    "print(temp_str.partition(\"apples1\"))"
   ]
  },
  {
   "cell_type": "code",
   "execution_count": null,
   "metadata": {},
   "outputs": [],
   "source": [
    "temp_str = \"I could eat apples all day, all of them has to be delicious\"\n",
    "print(temp_str.replace('all', 'some'))\n",
    "print(temp_str.replace('all', 'none').replace('apples', 'Pizza'))"
   ]
  },
  {
   "cell_type": "code",
   "execution_count": null,
   "metadata": {},
   "outputs": [],
   "source": [
    "print(temp_str.split())\n",
    "print(temp_str.split(','))\n",
    "print(temp_str.split('all'))\n",
    "print(temp_str.split('all'), temp_str.split('has'))\n"
   ]
  },
  {
   "cell_type": "code",
   "execution_count": null,
   "metadata": {},
   "outputs": [],
   "source": [
    "# Dictionary\n",
    "temp_str= {83:80, 83:70} # only keeps the latest value pair)\n",
    "print(temp_str)\n"
   ]
  },
  {
   "cell_type": "code",
   "execution_count": null,
   "metadata": {},
   "outputs": [],
   "source": [
    "temp_str={'brand':'Toyota', 'Model':'Camry', 'year':2015, 'year':2020}\n",
    "print(temp_str)\n",
    "print(temp_str['brand'])\n",
    "print(temp_str['brand'], temp_str['Model'])\n"
   ]
  },
  {
   "cell_type": "markdown",
   "metadata": {},
   "source": [
    "## Basic Python Operators"
   ]
  },
  {
   "cell_type": "code",
   "execution_count": null,
   "metadata": {},
   "outputs": [],
   "source": [
    "#arithmetic operators \n",
    "a= 105\n",
    "b= 20\n",
    "\n",
    "print(a+b)\n",
    "print(a-b)\n",
    "print(a/b)\n",
    "print(a%b) #modulous or remainder after devision\n",
    "print(a//b) #quotient \n",
    "print(a**b) # exponential \n"
   ]
  },
  {
   "cell_type": "code",
   "execution_count": null,
   "metadata": {},
   "outputs": [],
   "source": [
    "#comparision operators\n",
    "print(a==b)\n",
    "print(a!=b)\n",
    "print(a>b)\n",
    "print(a<b)\n",
    "print(a<=b)\n",
    "print(a>=b)"
   ]
  },
  {
   "cell_type": "code",
   "execution_count": null,
   "metadata": {},
   "outputs": [],
   "source": [
    "#Asociate operators \n",
    "\n",
    "# a= a+b =>a+=b\n",
    "\n",
    "a+=b\n",
    "print(a, b)\n",
    "a-=b\n",
    "print(a, b)\n",
    "a/=b\n",
    "print(a, b)\n",
    "\n",
    "a//=b\n",
    "print(a, b)\n",
    "\n",
    "a%=b\n",
    "print(a, b)\n"
   ]
  },
  {
   "cell_type": "markdown",
   "metadata": {},
   "source": [
    "## Python Logical Operators "
   ]
  },
  {
   "cell_type": "code",
   "execution_count": null,
   "metadata": {},
   "outputs": [],
   "source": [
    "# In case of and operators both condition has to be true for or operaters only one condition has to be true\n",
    "\n",
    "a=10\n",
    "b=30\n",
    "\n",
    "print( a>10 and b>20)\n",
    "print (a>10 or b>20 )"
   ]
  },
  {
   "cell_type": "markdown",
   "metadata": {},
   "source": [
    "## Membership operators "
   ]
  },
  {
   "cell_type": "code",
   "execution_count": null,
   "metadata": {},
   "outputs": [],
   "source": [
    "a= 100\n",
    "b = [100, 200, 300, 400,500]\n",
    "\n",
    "a in b"
   ]
  },
  {
   "cell_type": "code",
   "execution_count": null,
   "metadata": {},
   "outputs": [],
   "source": [
    "a not in b"
   ]
  },
  {
   "cell_type": "code",
   "execution_count": null,
   "metadata": {},
   "outputs": [],
   "source": [
    "a=600\n",
    "b = [100, 200, 300, 400, 500]\n",
    "\n",
    "a not in b"
   ]
  },
  {
   "cell_type": "markdown",
   "metadata": {},
   "source": [
    "## Identitiy Operators"
   ]
  },
  {
   "cell_type": "code",
   "execution_count": null,
   "metadata": {},
   "outputs": [],
   "source": [
    "a=2\n",
    "b=4\n",
    "\n",
    "a is not b\n",
    "a is b"
   ]
  },
  {
   "cell_type": "markdown",
   "metadata": {},
   "source": [
    "## IF statement "
   ]
  },
  {
   "cell_type": "code",
   "execution_count": null,
   "metadata": {},
   "outputs": [],
   "source": [
    "a = 200\n",
    "b = 30\n",
    "if a<b: \n",
    "    print( 'a is geater than b')\n",
    "else:\n",
    "    print('a is less than b')"
   ]
  },
  {
   "cell_type": "code",
   "execution_count": null,
   "metadata": {},
   "outputs": [],
   "source": [
    "if (a>b) or (a>b):      # for 'or' either condition  has to be true to execute downstream codes\n",
    "    print('Hello World!')"
   ]
  },
  {
   "cell_type": "code",
   "execution_count": null,
   "metadata": {},
   "outputs": [],
   "source": [
    "def new_func():\n",
    "    if (a>b) or (a==b):\n",
    "        print('Hello World!')\n",
    "\n",
    "new_func()"
   ]
  },
  {
   "cell_type": "code",
   "execution_count": null,
   "metadata": {},
   "outputs": [],
   "source": [
    "if (a>b) or (a!=b):\n",
    "    print('Hello World!')"
   ]
  },
  {
   "cell_type": "code",
   "execution_count": null,
   "metadata": {},
   "outputs": [],
   "source": [
    "if (a>b) and (a==b):   #for 'and' both condition have to be true to execute downstream code\n",
    "    print('Hello World!')"
   ]
  },
  {
   "cell_type": "code",
   "execution_count": null,
   "metadata": {},
   "outputs": [],
   "source": [
    "if (a>b) and (a!=b):\n",
    "    print('Hello World!')"
   ]
  },
  {
   "cell_type": "code",
   "execution_count": 1,
   "metadata": {},
   "outputs": [
    {
     "name": "stdout",
     "output_type": "stream",
     "text": [
      "Distinction\n"
     ]
    }
   ],
   "source": [
    "percentage = float(input(\"Enter your percentage: \"))\n",
    "\n",
    "if percentage >= 80:\n",
    "        print(\"Higher Distinction\")\n",
    "elif 75 <= percentage < 80:\n",
    "        print(\"Distinction\")\n",
    "elif 60 <= percentage < 75:\n",
    "        print(\"First Division\")\n",
    "elif 32 <= percentage < 60:\n",
    "        print(\"Pass\")\n",
    "else:\n",
    "        print(\"Fail\")\n"
   ]
  },
  {
   "cell_type": "code",
   "execution_count": 2,
   "metadata": {},
   "outputs": [
    {
     "name": "stdout",
     "output_type": "stream",
     "text": [
      "22 is not divisible by 7\n"
     ]
    }
   ],
   "source": [
    "# check if a number is divisible by 7 or not\n",
    "\n",
    "num= int(input('Enter the number to evaluate:'))\n",
    "\n",
    "if num%7 ==0:\n",
    "    print(num, 'is divisible by 7')\n",
    "\n",
    "else:\n",
    "    print (num, 'is not divisible by 7')"
   ]
  },
  {
   "cell_type": "code",
   "execution_count": 4,
   "metadata": {},
   "outputs": [
    {
     "name": "stdout",
     "output_type": "stream",
     "text": [
      "21 is divisible by 3 or 7\n"
     ]
    }
   ],
   "source": [
    "# Write a program to print hello if number is multiple of five or 3 else print bye\n",
    "num= int(input('Enter the number to evaluate:'))\n",
    "if num%3==0 or num%5==0:\n",
    "    print(num, 'is divisible by 3 or 7')\n",
    "else:\n",
    "    print(num, 'is not divisible either by 3 or 7')"
   ]
  },
  {
   "cell_type": "code",
   "execution_count": 8,
   "metadata": {},
   "outputs": [
    {
     "name": "stdout",
     "output_type": "stream",
     "text": [
      "invalid light color\n"
     ]
    }
   ],
   "source": [
    "#Write a python program that will check for the following conditions:\n",
    "\n",
    "#If the light is green – Car is allowe\n",
    "#If the light is red – Car has to stop\n",
    "#Other signal – unrecognized signal. Example black, blue, etc…\n",
    "\n",
    "sign= input(\"What color is the light? \").lower()\n",
    "\n",
    "if sign == 'red':\n",
    "    print('Car needs to stop')\n",
    "elif sign == 'yellow':\n",
    "    print('Car needs to slow down')\n",
    "elif sign == 'Green':\n",
    "    print('Car can go')\n",
    "else:\n",
    "    print('invalid light color')\n"
   ]
  },
  {
   "cell_type": "code",
   "execution_count": null,
   "metadata": {},
   "outputs": [],
   "source": [
    "\"\"\"\n",
    "Write a program to trace your subject mark. Your program should fulfill the following conditions:\n",
    "\n",
    "If the subject mark is below 0 and above 100, print “error: mark should be between 0 and 100 only”\n",
    "Students will fail in the subject if their mark is below 50.\n",
    "Students will pass in the subject if they score 50 and above.\n",
    "If subject mark is between 50 and 60, grade student as good.\n",
    "If subject mark is between 60 and 80, grade student as very good.\n",
    "If subject mark is between 80 and 100, grade student as outstanding.\n",
    "\n",
    "Make sure to print their mark in every statement to prove that the condition is fulfilled. Moreover, name, class, and section should be also displayed along with the marks.\n",
    "\"\"\""
   ]
  },
  {
   "cell_type": "code",
   "execution_count": 15,
   "metadata": {},
   "outputs": [
    {
     "name": "stdout",
     "output_type": "stream",
     "text": [
      "Gg you have passed this topic\n",
      "You did very good in this topic\n"
     ]
    }
   ],
   "source": [
    "name= input('Please enter your name: ').title()\n",
    "mark = float(input('Please enter you final mark: '))\n",
    "\n",
    "if mark<0 or mark>100:\n",
    "    print('Error! mark should be between 0 and 100 only')\n",
    "elif mark<50:   \n",
    "    print( name, 'you have failed this topic')\n",
    "elif mark>=50:   \n",
    "    print( name, 'you have passed this topic')\n",
    "if mark>50 and mark<60:\n",
    "    print('You did good in this topic')\n",
    "if mark>60 and mark<80:\n",
    "    print('You did very good in this topic')\n",
    "if mark>80 and mark<100:\n",
    "    print('You did excellent in this topic')\n",
    "        \n"
   ]
  },
  {
   "cell_type": "code",
   "execution_count": 18,
   "metadata": {},
   "outputs": [
    {
     "name": "stdout",
     "output_type": "stream",
     "text": [
      "Your net bonus amount is: 6000.0\n"
     ]
    }
   ],
   "source": [
    "#Q1 A company decided to give bonus of 5% to employee if his/her year of service is more than 5 years.\n",
    "#Ask user for their salary and year of service and print the net bonus amount.\"\"\"\n",
    "\n",
    "salary = float(input('Please enter you salary: '))\n",
    "service = int(input(\"Please enter the number of year of your service: \"))\n",
    "\n",
    "if service >=5:\n",
    "    print('Your net bonus amount is:', salary*0.05)\n",
    "else:\n",
    "    print('You need to have more than 5 years of service for bonus')\n",
    "\n"
   ]
  },
  {
   "cell_type": "code",
   "execution_count": 2,
   "metadata": {},
   "outputs": [
    {
     "name": "stdout",
     "output_type": "stream",
     "text": [
      "Its not a square\n"
     ]
    }
   ],
   "source": [
    "#2.Take values of length and breadth of a rectangle from user and check if it is square or not.\n",
    "\n",
    "length = float(input(\"Length\"))\n",
    "breadth = float(input(\"Breadth\"))\n",
    "\n",
    "if length==breadth:\n",
    "    print('Its a square')\n",
    "else:\n",
    "    print('Its not a square')"
   ]
  },
  {
   "cell_type": "code",
   "execution_count": 3,
   "metadata": {},
   "outputs": [
    {
     "name": "stdout",
     "output_type": "stream",
     "text": [
      "Greater number is 33\n"
     ]
    }
   ],
   "source": [
    "#3 Take two int values from user and print greatest among them.\n",
    "\n",
    "int1= int(input('Please enter first integer value:'))\n",
    "\n",
    "int2= int(input('Please enter second integer value:'))\n",
    "\n",
    "if int1>int2:\n",
    "    print('Greater number is', str(int1))\n",
    "elif int2>int1:\n",
    "    print('Greater number is', str(int2))\n",
    "else:\n",
    "    print('Both are equal')\n"
   ]
  },
  {
   "cell_type": "code",
   "execution_count": 13,
   "metadata": {},
   "outputs": [
    {
     "name": "stdout",
     "output_type": "stream",
     "text": [
      "Total cost is: 500\n"
     ]
    }
   ],
   "source": [
    "#A shop will give discount of 10% if the cost of purchased quantity is more than $1000.\n",
    "#Ask user for quantity\n",
    "#Suppose, one unit will cost 100.\n",
    "#Judge and print total cost for user.\n",
    "\n",
    "quantity = int(input('Enter the quantity:'))\n",
    "\n",
    "total = quantity*100\n",
    "discount = total*0.10\n",
    "\n",
    "if total> 1000:\n",
    "    print('Total cost is:', total- (discount))\n",
    "else:\n",
    "    print('Total cost is:', (total))"
   ]
  },
  {
   "cell_type": "code",
   "execution_count": 18,
   "metadata": {},
   "outputs": [
    {
     "name": "stdout",
     "output_type": "stream",
     "text": [
      "Your grade is E\n"
     ]
    }
   ],
   "source": [
    "\"\"\" Q5. A school has following rules for grading system:\n",
    "a. Below 25 - F\n",
    "b. 25 to 45 - E\n",
    "c. 45 to 50 - D\n",
    "d. 50 to 60 - C\n",
    "e. 60 to 80 - B\n",
    "f. Above 80 - A\n",
    "Ask user to enter marks and print the corresponding grade.\"\"\"\n",
    "\n",
    "mark = float(input('Please enter your mark:'))\n",
    "\n",
    "if mark<25:\n",
    "    print('Your grade is F')\n",
    "\n",
    "elif 45>mark>=25:\n",
    "    print('Your grade is E')\n",
    "\n",
    "elif 50>mark>=45:\n",
    "    print('Your grade is D')\n",
    "\n",
    "elif 60>mark>=50:\n",
    "    print('Your grade is C')\n",
    "\n",
    "elif 80>mark>=60:\n",
    "    print('Your grade is B')\n",
    "\n",
    "elif mark>=80:\n",
    "    print('Your grade is A')"
   ]
  },
  {
   "cell_type": "code",
   "execution_count": 22,
   "metadata": {},
   "outputs": [
    {
     "name": "stdout",
     "output_type": "stream",
     "text": [
      "Person 3 is oldest\n",
      "Person 1 is youngest\n"
     ]
    }
   ],
   "source": [
    "#6.Take input of age of 3 people by user and determine oldest and youngest among them.\n",
    "#approach using what has been taught so far\n",
    "\n",
    "prs1 = int(input('Enter person-1 age: '))\n",
    "prs2 = int(input('Enter person-2 age: '))\n",
    "prs3 = int(input('Enter person-3 age: '))\n",
    "\n",
    "# Finding the oldest\n",
    "if prs1 > prs2 and prs1 > prs3:\n",
    "    print('Person 1 is oldest')\n",
    "elif prs2 > prs1 and prs2 > prs3:\n",
    "    print('Person 2 is oldest')\n",
    "elif prs3 > prs1 and prs3 > prs2:\n",
    "    print('Person 3 is oldest')\n",
    "else:\n",
    "    print('There is a tie for the oldest.')\n",
    "\n",
    "# Finding the youngest\n",
    "if prs1 < prs2 and prs1 < prs3:\n",
    "    print('Person 1 is youngest')\n",
    "elif prs2 < prs1 and prs2 < prs3:\n",
    "    print('Person 2 is youngest')\n",
    "elif prs3 < prs1 and prs3 < prs2:\n",
    "    print('Person 3 is youngest')\n",
    "else:\n",
    "    print('There is a tie for the youngest.')\n",
    "\n"
   ]
  },
  {
   "cell_type": "code",
   "execution_count": 6,
   "metadata": {},
   "outputs": [
    {
     "name": "stdout",
     "output_type": "stream",
     "text": [
      "300\n"
     ]
    }
   ],
   "source": [
    "#7. Write a program to print absolute vlaue of a number entered by user. E.g.-\n",
    "# INPUT: 1        OUTPUT: 1\n",
    "# INPUT: -1        OUTPUT: 1\n",
    "\n",
    "num1= int(input('Please, enter a number: '))\n",
    "\n",
    "if num1<0:\n",
    "    print(num1*(-1))\n",
    "else:\n",
    "    print(num1)\n"
   ]
  },
  {
   "cell_type": "code",
   "execution_count": 9,
   "metadata": {},
   "outputs": [
    {
     "name": "stdout",
     "output_type": "stream",
     "text": [
      "90.0\n",
      "You can attend the class as usual\n"
     ]
    }
   ],
   "source": [
    "# A student will not be allowed to sit in exam if his/her attendence is less than 75%.\n",
    "# Take following input from user\n",
    "# Number of classes held\n",
    "# Number of classes attended.And print\n",
    "#percentage of class attended\n",
    "#Is student is allowed to sit in exam or not.\n",
    "\n",
    "classheld= int(input ('Number of classes held: '))\n",
    "classattended= int(input('Number of classes attended: '))\n",
    "percentage= float((classattended/classheld)*100)\n",
    "print(round(percentage, 1))\n",
    "\n",
    "if percentage<75:\n",
    "    print(\"Sorry, your attendence is poor. You are not allowed to sit the exam\")\n",
    "else:\n",
    "    print('Your attendence is sufficient to sit the exam')\n",
    "   "
   ]
  },
  {
   "cell_type": "code",
   "execution_count": 15,
   "metadata": {},
   "outputs": [
    {
     "name": "stdout",
     "output_type": "stream",
     "text": [
      "90.0\n",
      "Your attendence is sufficient to sit the exam\n"
     ]
    }
   ],
   "source": [
    "#9.Modify the above question to allow student to sit if he/she has medical cause.\n",
    "#Ask user if he/she has medical cause or not ( 'Y' or 'N' ) and print accordingly.\n",
    "\n",
    "classheld= int(input ('Number of classes held: '))\n",
    "classattended= int(input('Number of classes attended: '))\n",
    "percentage= float((classattended/classheld)*100)\n",
    "print(round(percentage, 1))\n",
    "\n",
    "\n",
    "if percentage<75:\n",
    "    reason= input('Do you have an eligible medical condition? Answer: Y for yes or N for no').upper()\n",
    "    if reason == 'Y':\n",
    "         print('You are still allowed to attend the exam')\n",
    "    else:\n",
    "        print(\"Sorry, your attendence is poor. You are not allowed to sit the exam\")\n",
    "else:\n",
    "    print('Your attendence is sufficient to sit the exam')\n"
   ]
  },
  {
   "cell_type": "markdown",
   "metadata": {},
   "source": [
    "### WHILE LOOP"
   ]
  },
  {
   "cell_type": "code",
   "execution_count": 3,
   "metadata": {},
   "outputs": [
    {
     "name": "stdout",
     "output_type": "stream",
     "text": [
      "100 is greater than 10\n",
      "99 is greater than 10\n",
      "98 is greater than 10\n",
      "97 is greater than 10\n",
      "96 is greater than 10\n",
      "95 is greater than 10\n",
      "94 is greater than 10\n",
      "93 is greater than 10\n",
      "92 is greater than 10\n",
      "91 is greater than 10\n",
      "90 is greater than 10\n",
      "89 is greater than 10\n",
      "88 is greater than 10\n",
      "87 is greater than 10\n",
      "86 is greater than 10\n",
      "85 is greater than 10\n",
      "84 is greater than 10\n",
      "83 is greater than 10\n",
      "82 is greater than 10\n",
      "81 is greater than 10\n",
      "80 is greater than 10\n",
      "79 is greater than 10\n",
      "78 is greater than 10\n",
      "77 is greater than 10\n",
      "76 is greater than 10\n",
      "75 is greater than 10\n",
      "74 is greater than 10\n",
      "73 is greater than 10\n",
      "72 is greater than 10\n",
      "71 is greater than 10\n",
      "70 is greater than 10\n",
      "69 is greater than 10\n",
      "68 is greater than 10\n",
      "67 is greater than 10\n",
      "66 is greater than 10\n",
      "65 is greater than 10\n",
      "64 is greater than 10\n",
      "63 is greater than 10\n",
      "62 is greater than 10\n",
      "61 is greater than 10\n",
      "60 is greater than 10\n",
      "59 is greater than 10\n",
      "58 is greater than 10\n",
      "57 is greater than 10\n",
      "56 is greater than 10\n",
      "55 is greater than 10\n",
      "54 is greater than 10\n",
      "53 is greater than 10\n",
      "52 is greater than 10\n",
      "51 is greater than 10\n",
      "50 is greater than 10\n",
      "49 is greater than 10\n",
      "48 is greater than 10\n",
      "47 is greater than 10\n",
      "46 is greater than 10\n",
      "45 is greater than 10\n",
      "44 is greater than 10\n",
      "43 is greater than 10\n",
      "42 is greater than 10\n",
      "41 is greater than 10\n",
      "40 is greater than 10\n",
      "39 is greater than 10\n",
      "38 is greater than 10\n",
      "37 is greater than 10\n",
      "36 is greater than 10\n",
      "35 is greater than 10\n",
      "34 is greater than 10\n",
      "33 is greater than 10\n",
      "32 is greater than 10\n",
      "31 is greater than 10\n",
      "30 is greater than 10\n",
      "29 is greater than 10\n",
      "28 is greater than 10\n",
      "27 is greater than 10\n",
      "26 is greater than 10\n",
      "25 is greater than 10\n",
      "24 is greater than 10\n",
      "23 is greater than 10\n",
      "22 is greater than 10\n",
      "21 is greater than 10\n",
      "20 is greater than 10\n",
      "19 is greater than 10\n",
      "18 is greater than 10\n",
      "17 is greater than 10\n",
      "16 is greater than 10\n",
      "15 is greater than 10\n",
      "14 is greater than 10\n",
      "13 is greater than 10\n",
      "12 is greater than 10\n",
      "11 is greater than 10\n"
     ]
    }
   ],
   "source": [
    "a= 100\n",
    "\n",
    "while a >10:\n",
    "    print(a,'is greater than 10' )\n",
    "    a-=1"
   ]
  },
  {
   "cell_type": "code",
   "execution_count": 8,
   "metadata": {},
   "outputs": [
    {
     "name": "stdout",
     "output_type": "stream",
     "text": [
      "10 is less than 100\n",
      "20 is less than 100\n",
      "30 is less than 100\n",
      "40 is less than 100\n",
      "50 is less than 100\n",
      "60 is less than 100\n",
      "70 is less than 100\n",
      "80 is less than 100\n",
      "90 is less than 100\n"
     ]
    }
   ],
   "source": [
    "a= 10\n",
    "\n",
    "while a<100:\n",
    "    print(a,'is less than 100')\n",
    "    a+=10"
   ]
  },
  {
   "cell_type": "code",
   "execution_count": 9,
   "metadata": {},
   "outputs": [
    {
     "name": "stdout",
     "output_type": "stream",
     "text": [
      "20 is greater than 20\n",
      "30 is greater than 20\n",
      "40 is greater than 20\n",
      "50 is greater than 20\n",
      "60 is greater than 20\n",
      "70 is greater than 20\n",
      "80 is greater than 20\n",
      "90 is greater than 20\n",
      "100 is greater than 20\n",
      "110 is greater than 20\n",
      "120 is greater than 20\n",
      "130 is greater than 20\n",
      "140 is greater than 20\n",
      "150 is greater than 20\n",
      "160 is greater than 20\n",
      "170 is greater than 20\n",
      "180 is greater than 20\n",
      "190 is greater than 20\n",
      "200 is greater than 20\n",
      "210 is greater than 20\n",
      "220 is greater than 20\n",
      "230 is greater than 20\n",
      "240 is greater than 20\n",
      "250 is greater than 20\n",
      "260 is greater than 20\n",
      "270 is greater than 20\n",
      "280 is greater than 20\n",
      "290 is greater than 20\n",
      "300 is greater than 20\n",
      "310 is greater than 20\n",
      "320 is greater than 20\n",
      "330 is greater than 20\n",
      "340 is greater than 20\n",
      "350 is greater than 20\n",
      "360 is greater than 20\n",
      "370 is greater than 20\n",
      "380 is greater than 20\n",
      "390 is greater than 20\n",
      "400 is greater than 20\n",
      "410 is greater than 20\n",
      "420 is greater than 20\n",
      "430 is greater than 20\n",
      "440 is greater than 20\n",
      "450 is greater than 20\n",
      "460 is greater than 20\n",
      "470 is greater than 20\n",
      "480 is greater than 20\n",
      "490 is greater than 20\n"
     ]
    }
   ],
   "source": [
    "a=20\n",
    "\n",
    "while  a<500:\n",
    "    print(a, 'is greater than 20')\n",
    "    a+=10"
   ]
  },
  {
   "cell_type": "code",
   "execution_count": 11,
   "metadata": {},
   "outputs": [
    {
     "name": "stdout",
     "output_type": "stream",
     "text": [
      "200 is greater than 10\n",
      "190 is greater than 10\n",
      "180 is greater than 10\n",
      "170 is greater than 10\n",
      "160 is greater than 10\n",
      "150 is greater than 10\n",
      "140 is greater than 10\n",
      "130 is greater than 10\n",
      "120 is greater than 10\n",
      "110 is greater than 10\n",
      "100 is greater than 10\n",
      "90 is greater than 10\n",
      "80 is greater than 10\n",
      "70 is greater than 10\n",
      "60 is greater than 10\n",
      "50 is greater than 10\n",
      "40 is greater than 10\n",
      "30 is greater than 10\n",
      "20 is greater than 10\n"
     ]
    }
   ],
   "source": [
    "a = 200\n",
    "\n",
    "while a >10:\n",
    "    print( a, 'is greater than 10')\n",
    "    a -=10"
   ]
  },
  {
   "cell_type": "code",
   "execution_count": null,
   "metadata": {},
   "outputs": [
    {
     "name": "stdout",
     "output_type": "stream",
     "text": [
      "200 is greater than 10\n",
      "190 is greater than 10\n",
      "180 is greater than 10\n",
      "170 is greater than 10\n",
      "160 is greater than 10\n",
      "150 is greater than 10\n",
      "140 is greater than 10\n",
      "130 is greater than 10\n",
      "120 is greater than 10\n",
      "110 is greater than 10\n",
      "100 is greater than 10\n",
      "90 is greater than 10\n",
      "80 is greater than 10\n",
      "70 is greater than 10\n",
      "60 is greater than 10\n"
     ]
    }
   ],
   "source": [
    "a = 200\n",
    "\n",
    "while a >10:\n",
    "    if a ==50:\n",
    "        break\n",
    "    print( a, 'is greater than 10')\n",
    "    a -=10"
   ]
  },
  {
   "cell_type": "code",
   "execution_count": 18,
   "metadata": {},
   "outputs": [
    {
     "name": "stdout",
     "output_type": "stream",
     "text": [
      "190 is greater than 10\n",
      "180 is greater than 10\n",
      "170 is greater than 10\n",
      "160 is greater than 10\n",
      "150 is greater than 10\n",
      "140 is greater than 10\n",
      "130 is greater than 10\n",
      "120 is greater than 10\n",
      "110 is greater than 10\n",
      "100 is greater than 10\n",
      "90 is greater than 10\n",
      "80 is greater than 10\n",
      "70 is greater than 10\n",
      "60 is greater than 10\n",
      "40 is greater than 10\n",
      "30 is greater than 10\n",
      "20 is greater than 10\n",
      "10 is greater than 10\n"
     ]
    }
   ],
   "source": [
    "a = 200\n",
    "\n",
    "while a >10:\n",
    "    a -=10\n",
    "    if a==50:\n",
    "        continue\n",
    "    print( a, 'is greater than 10')\n",
    "    "
   ]
  },
  {
   "cell_type": "code",
   "execution_count": 5,
   "metadata": {},
   "outputs": [
    {
     "name": "stdout",
     "output_type": "stream",
     "text": [
      "0 is even number\n",
      "1 is odd number\n",
      "2 is even number\n",
      "3 is odd number\n",
      "4 is even number\n",
      "5 is odd number\n",
      "6 is even number\n",
      "7 is odd number\n",
      "8 is even number\n",
      "9 is odd number\n",
      "10 is even number\n",
      "11 is odd number\n",
      "12 is even number\n",
      "13 is odd number\n",
      "14 is even number\n",
      "15 is odd number\n",
      "16 is even number\n",
      "17 is odd number\n",
      "18 is even number\n",
      "19 is odd number\n",
      "20 is even number\n",
      "21 is odd number\n",
      "22 is even number\n",
      "23 is odd number\n",
      "24 is even number\n",
      "25 is odd number\n",
      "26 is even number\n",
      "27 is odd number\n",
      "28 is even number\n",
      "29 is odd number\n",
      "30 is even number\n",
      "31 is odd number\n",
      "32 is even number\n",
      "33 is odd number\n",
      "34 is even number\n",
      "35 is odd number\n",
      "36 is even number\n",
      "37 is odd number\n",
      "38 is even number\n",
      "39 is odd number\n",
      "40 is even number\n",
      "41 is odd number\n",
      "42 is even number\n",
      "43 is odd number\n",
      "44 is even number\n",
      "45 is odd number\n",
      "46 is even number\n",
      "47 is odd number\n",
      "48 is even number\n",
      "49 is odd number\n",
      "50 is even number\n",
      "51 is odd number\n",
      "52 is even number\n",
      "53 is odd number\n",
      "54 is even number\n",
      "55 is odd number\n",
      "56 is even number\n",
      "57 is odd number\n",
      "58 is even number\n",
      "59 is odd number\n",
      "60 is even number\n",
      "61 is odd number\n",
      "62 is even number\n",
      "63 is odd number\n",
      "64 is even number\n",
      "65 is odd number\n",
      "66 is even number\n",
      "67 is odd number\n",
      "68 is even number\n",
      "69 is odd number\n",
      "70 is even number\n",
      "71 is odd number\n",
      "72 is even number\n",
      "73 is odd number\n",
      "74 is even number\n",
      "75 is odd number\n",
      "76 is even number\n",
      "77 is odd number\n",
      "78 is even number\n",
      "79 is odd number\n",
      "80 is even number\n",
      "81 is odd number\n",
      "82 is even number\n",
      "83 is odd number\n",
      "84 is even number\n",
      "85 is odd number\n",
      "86 is even number\n",
      "87 is odd number\n",
      "88 is even number\n",
      "89 is odd number\n",
      "90 is even number\n",
      "91 is odd number\n",
      "92 is even number\n",
      "93 is odd number\n",
      "94 is even number\n",
      "95 is odd number\n",
      "96 is even number\n",
      "97 is odd number\n",
      "98 is even number\n",
      "99 is odd number\n"
     ]
    }
   ],
   "source": [
    "# wtrite a program 0 to 100 and find odd and even numbers; use while loop\n",
    "\n",
    "a=0\n",
    "\n",
    "while a<100:\n",
    "    if a%2==0:\n",
    "        print(a,'is even number')\n",
    "    else:\n",
    "        print(a, 'is odd number')\n",
    "    a+=1"
   ]
  },
  {
   "cell_type": "code",
   "execution_count": 10,
   "metadata": {},
   "outputs": [
    {
     "name": "stdout",
     "output_type": "stream",
     "text": [
      "41\n"
     ]
    }
   ],
   "source": [
    "# write a program that takes values and give sum until used input 0 \n",
    "\n",
    "total=0\n",
    "\n",
    "num = int(input('Enter a number '))\n",
    "\n",
    "while num !=0:\n",
    "    total += num\n",
    "    num = int(input('Enter a number '))\n",
    "print(total)\n"
   ]
  },
  {
   "cell_type": "code",
   "execution_count": 12,
   "metadata": {},
   "outputs": [
    {
     "name": "stdout",
     "output_type": "stream",
     "text": [
      "There are 5 eligible voters\n"
     ]
    }
   ],
   "source": [
    "# write a programm that counts number of people equal to or over 18 using while loop \n",
    "count = 0\n",
    "age = int(input('Please enter your age '))\n",
    "\n",
    "while age >=18:\n",
    "    count+=1\n",
    "    age = int(input('Please enter your age '))\n",
    "print('There are', count, 'eligible voters')\n"
   ]
  },
  {
   "cell_type": "code",
   "execution_count": 16,
   "metadata": {},
   "outputs": [
    {
     "name": "stdout",
     "output_type": "stream",
     "text": [
      "[1, 3, 4, 5, 6, 8, 12, 6, 8, 9, 55, 76, 89]\n",
      "[1, 3, 4, 5, 6, 8, 12, 6, 8, 9, 55, 76]\n",
      "[1, 3, 4, 5, 6, 8, 12, 6, 8, 9, 55]\n",
      "[1, 3, 4, 5, 6, 8, 12, 6, 8, 9]\n",
      "[1, 3, 4, 5, 6, 8, 12, 6, 8]\n",
      "[1, 3, 4, 5, 6, 8, 12, 6]\n",
      "[1, 3, 4, 5, 6, 8, 12]\n",
      "[1, 3, 4, 5, 6, 8]\n",
      "[1, 3, 4, 5, 6]\n",
      "[1, 3, 4, 5]\n",
      "[1, 3, 4]\n",
      "[1, 3]\n",
      "[1]\n",
      "[]\n"
     ]
    }
   ],
   "source": [
    "# write a program that delete elements from a list until the list is empty by using while loop and pop() fuction\n",
    "\n",
    "lst1 = [1,3,4,5,6,8,12,6,8,9,55,76,89,90]\n",
    "\n",
    "while lst1 > []:\n",
    "    lst1==lst1.pop()\n",
    "    print(lst1)\n"
   ]
  },
  {
   "cell_type": "code",
   "execution_count": 21,
   "metadata": {},
   "outputs": [
    {
     "name": "stdout",
     "output_type": "stream",
     "text": [
      "25 is not divisible by 5 and 7\n"
     ]
    }
   ],
   "source": [
    "# write a program where a number is divisible by 5 and 7 \n",
    "\n",
    "num = int(input('Enter a number '))\n",
    "\n",
    "while (num%5==0) and (num%7==0):\n",
    "    print(num, 'is divisible by 5 and 7')\n",
    "    break\n",
    "else:\n",
    "    print(num, 'is not divisible by 5 and 7')"
   ]
  },
  {
   "cell_type": "markdown",
   "metadata": {},
   "source": [
    "### FOR LOOP"
   ]
  },
  {
   "cell_type": "code",
   "execution_count": 22,
   "metadata": {},
   "outputs": [
    {
     "name": "stdout",
     "output_type": "stream",
     "text": [
      "value of i 1\n",
      "value of i 3\n",
      "value of i 4\n",
      "value of i 5\n",
      "value of i 6\n",
      "value of i 8\n",
      "value of i 12\n",
      "value of i 6\n",
      "value of i 8\n",
      "value of i 9\n",
      "value of i 55\n",
      "value of i 76\n",
      "value of i 89\n",
      "value of i 90\n"
     ]
    }
   ],
   "source": [
    "lst1 = [1,3,4,5,6,8,12,6,8,9,55,76,89,90]\n",
    "\n",
    "for i in lst1:\n",
    "    print('value of i', i)"
   ]
  },
  {
   "cell_type": "code",
   "execution_count": 23,
   "metadata": {},
   "outputs": [
    {
     "name": "stdout",
     "output_type": "stream",
     "text": [
      "value of i apple\n",
      "value of i pears\n",
      "value of i cherries\n",
      "value of i grapefruit\n"
     ]
    }
   ],
   "source": [
    "tup1 = ('apple', 'pears', 'cherries', 'grapefruit')\n",
    "\n",
    "for i in tup1:\n",
    "    print('value of i', i)"
   ]
  },
  {
   "cell_type": "code",
   "execution_count": 24,
   "metadata": {},
   "outputs": [
    {
     "name": "stdout",
     "output_type": "stream",
     "text": [
      "value of i 1\n",
      "value of i 3\n",
      "value of i 4\n",
      "value of i 5\n",
      "value of i 6\n",
      "value of i 8\n",
      "value of i 9\n",
      "value of i 12\n",
      "value of i 76\n",
      "value of i pears\n",
      "value of i 89\n",
      "value of i 90\n",
      "value of i apple\n",
      "value of i cherries\n",
      "value of i 55\n",
      "value of i grapefruit\n"
     ]
    }
   ],
   "source": [
    "set1= {'apple', 'pears', 'cherries', 'grapefruit',1,3,4,5,6,8,12,6,8,9,55,76,89,90}\n",
    "\n",
    "for i in set1:\n",
    "    print('value of i', i)"
   ]
  },
  {
   "cell_type": "code",
   "execution_count": 25,
   "metadata": {},
   "outputs": [
    {
     "name": "stdout",
     "output_type": "stream",
     "text": [
      "value of i P\n",
      "value of i e\n",
      "value of i p\n",
      "value of i p\n",
      "value of i a\n",
      "value of i  \n",
      "value of i p\n",
      "value of i r\n",
      "value of i e\n",
      "value of i f\n",
      "value of i e\n",
      "value of i r\n",
      "value of i  \n",
      "value of i p\n",
      "value of i y\n",
      "value of i t\n",
      "value of i h\n",
      "value of i o\n",
      "value of i n\n",
      "value of i  \n",
      "value of i p\n",
      "value of i r\n",
      "value of i o\n",
      "value of i g\n",
      "value of i r\n",
      "value of i a\n",
      "value of i m\n",
      "value of i m\n",
      "value of i i\n",
      "value of i n\n",
      "value of i g\n"
     ]
    }
   ],
   "source": [
    "str1 = 'Peppa prefer python programming'\n",
    "\n",
    "for i in str1:\n",
    "    print('value of i', i)"
   ]
  },
  {
   "cell_type": "code",
   "execution_count": 1,
   "metadata": {},
   "outputs": [
    {
     "name": "stdout",
     "output_type": "stream",
     "text": [
      "value of i 0\n",
      "value of i 1\n",
      "value of i 2\n",
      "value of i 3\n",
      "value of i 4\n",
      "value of i 5\n",
      "value of i 6\n",
      "value of i 7\n",
      "value of i 8\n",
      "value of i 9\n"
     ]
    }
   ],
   "source": [
    "for i in range (10):\n",
    "    print('value of i', i)"
   ]
  },
  {
   "cell_type": "code",
   "execution_count": 2,
   "metadata": {},
   "outputs": [
    {
     "name": "stdout",
     "output_type": "stream",
     "text": [
      "value of i 0\n",
      "value of i 1\n",
      "value of i 2\n",
      "value of i 3\n",
      "value of i 4\n",
      "value of i 5\n",
      "value of i 6\n",
      "value of i 7\n",
      "value of i 8\n",
      "value of i 9\n"
     ]
    }
   ],
   "source": [
    "for i in range (0,10):\n",
    "    print('value of i', i)"
   ]
  },
  {
   "cell_type": "code",
   "execution_count": 3,
   "metadata": {},
   "outputs": [
    {
     "name": "stdout",
     "output_type": "stream",
     "text": [
      "value of i 0\n",
      "value of i 2\n",
      "value of i 4\n",
      "value of i 6\n",
      "value of i 8\n"
     ]
    }
   ],
   "source": [
    "for i in range (0,10,2):       # start, stop, skip\n",
    "    print('value of i',i)"
   ]
  },
  {
   "cell_type": "code",
   "execution_count": 6,
   "metadata": {},
   "outputs": [
    {
     "name": "stdout",
     "output_type": "stream",
     "text": [
      "*  *  *  *  *  *  *  *  *  *  \n",
      "*  *  *  *  *  *  *  *  *  *  \n",
      "*  *  *  *  *  *  *  *  *  *  \n",
      "*  *  *  *  *  *  *  *  *  *  \n",
      "*  *  *  *  *  *  *  *  *  *  \n",
      "*  *  *  *  *  *  *  *  *  *  \n",
      "*  *  *  *  *  *  *  *  *  *  \n",
      "*  *  *  *  *  *  *  *  *  *  \n",
      "*  *  *  *  *  *  *  *  *  *  \n",
      "*  *  *  *  *  *  *  *  *  *  \n"
     ]
    }
   ],
   "source": [
    "for i in range(10):\n",
    "    for j in range(10):\n",
    "        print('*', end= \"  \")\n",
    "    print('\\r')"
   ]
  },
  {
   "cell_type": "code",
   "execution_count": 16,
   "metadata": {},
   "outputs": [
    {
     "name": "stdout",
     "output_type": "stream",
     "text": [
      "0  1  2  3  4  5  6  7  8  9  \n",
      "10  11  12  13  14  15  16  17  18  19  \n",
      "20  21  22  23  24  25  26  27  28  29  \n",
      "30  31  32  33  34  35  36  37  38  39  \n",
      "40  41  42  43  44  45  46  47  48  49  \n",
      "50  51  52  53  54  55  56  57  58  59  \n",
      "60  61  62  63  64  65  66  67  68  69  \n",
      "70  71  72  73  74  75  76  77  78  79  \n",
      "80  81  82  83  84  85  86  87  88  89  \n",
      "90  91  92  93  94  95  96  97  98  99  \n"
     ]
    }
   ],
   "source": [
    "# write numbers instead of '*'\n",
    "\n",
    "k=0\n",
    "\n",
    "for i in range (10):\n",
    "    for j in range (10):\n",
    "        print(k, end = '  ')\n",
    "        k+=1\n",
    "    print('\\r')"
   ]
  },
  {
   "cell_type": "code",
   "execution_count": 19,
   "metadata": {},
   "outputs": [
    {
     "name": "stdout",
     "output_type": "stream",
     "text": [
      "          * \n",
      "         * * \n",
      "        * * * \n",
      "       * * * * \n",
      "      * * * * * \n",
      "     * * * * * * \n",
      "    * * * * * * * \n",
      "   * * * * * * * * \n",
      "  * * * * * * * * * \n",
      " * * * * * * * * * * \n"
     ]
    }
   ],
   "source": [
    "# Print a pyramid of '*'\n",
    "for i in range(10):\n",
    "    for j in range(0, 10-i):\n",
    "        print(' ', end = '')\n",
    "    for k in range(0, i+1):\n",
    "        print('*', end =' ')\n",
    "    print('\\r')\n"
   ]
  },
  {
   "cell_type": "code",
   "execution_count": 23,
   "metadata": {},
   "outputs": [
    {
     "name": "stdout",
     "output_type": "stream",
     "text": [
      " * * * * * * * * * * \n",
      "  * * * * * * * * * \n",
      "   * * * * * * * * \n",
      "    * * * * * * * \n",
      "     * * * * * * \n",
      "      * * * * * \n",
      "       * * * * \n",
      "        * * * \n",
      "         * * \n",
      "          * \n"
     ]
    }
   ],
   "source": [
    "# print an inverted pyramid of '*'\n",
    "\n",
    "for i in range (10):\n",
    "    for j in range(0, i+1):\n",
    "        print(' ', end = '')\n",
    "    for k in range(0, 10-i):\n",
    "        print(\"*\", end = ' ')\n",
    "    print('\\r')"
   ]
  },
  {
   "cell_type": "code",
   "execution_count": 82,
   "metadata": {},
   "outputs": [
    {
     "name": "stdout",
     "output_type": "stream",
     "text": [
      " * * * * * * * * * * \n",
      "  * * * * * * * * * \n",
      "   * * * * * * * * \n",
      "    * * * * * * * \n",
      "     * * * * * * \n",
      "      * * * * * \n",
      "       * * * * \n",
      "        * * * \n",
      "         * * \n",
      "          * \n",
      "         * * \n",
      "        * * * \n",
      "       * * * * \n",
      "      * * * * * \n",
      "     * * * * * * \n",
      "    * * * * * * * \n",
      "   * * * * * * * * \n",
      "  * * * * * * * * * \n",
      " * * * * * * * * * * \n"
     ]
    }
   ],
   "source": [
    "# print two pyramids facing opposite\n",
    "\n",
    "for i in range (10):\n",
    "    for j in range (0, i+1):\n",
    "        print(\" \", end= '')\n",
    "    for k in range (0, 10-i):\n",
    "        print( \"*\", end=\" \")\n",
    "    print('\\r')\n",
    "    \n",
    "for i in range (1,10): \n",
    "    for j in range (0, 10-i):\n",
    "        print(\" \", end= '')\n",
    "    for k in range (0, i+1):\n",
    "        print( \"*\", end=\" \")\n",
    "    print('\\r')"
   ]
  },
  {
   "cell_type": "code",
   "execution_count": 84,
   "metadata": {},
   "outputs": [
    {
     "name": "stdout",
     "output_type": "stream",
     "text": [
      "          * \n",
      "         * * \n",
      "        * * * \n",
      "       * * * * \n",
      "      * * * * * \n",
      "     * * * * * * \n",
      "    * * * * * * * \n",
      "   * * * * * * * * \n",
      "  * * * * * * * * * \n",
      " * * * * * * * * * * \n",
      " * * * * * * * * * * \n",
      "  * * * * * * * * * \n",
      "   * * * * * * * * \n",
      "    * * * * * * * \n",
      "     * * * * * * \n",
      "      * * * * * \n",
      "       * * * * \n",
      "        * * * \n",
      "         * * \n",
      "          * \n"
     ]
    }
   ],
   "source": [
    "## print a diamond with two pyramids facing each other\n",
    "    \n",
    "for i in range (10): \n",
    "    for j in range (0, 10-i):\n",
    "        print(\" \", end= '')\n",
    "    for k in range (0, i+1):\n",
    "        print( \"*\", end=\" \")\n",
    "    print('\\r')\n",
    "\n",
    "for i in range (10):\n",
    "    for j in range (0, i+1):\n",
    "        print(\" \", end= '')\n",
    "    for k in range (0, 10-i):\n",
    "        print( \"*\", end=\" \")\n",
    "    print('\\r')"
   ]
  },
  {
   "cell_type": "code",
   "execution_count": 91,
   "metadata": {},
   "outputs": [
    {
     "name": "stdout",
     "output_type": "stream",
     "text": [
      "* * * * * * * * * * \n",
      "*                 * \n",
      "*                 * \n",
      "*                 * \n",
      "*                 * \n",
      "*                 * \n",
      "*                 * \n",
      "*                 * \n",
      "*                 * \n",
      "* * * * * * * * * * \n"
     ]
    }
   ],
   "source": [
    "# Draw a hollow rectangle \n",
    "\n",
    "for i in range (10):\n",
    "    for j in range (10):\n",
    "        if i==0 or i == 10-1 or j==0 or j== 10-1:\n",
    "            print('*', end= ' ')\n",
    "        else:\n",
    "            print(\" \", end= \" \")\n",
    "    print()"
   ]
  },
  {
   "cell_type": "code",
   "execution_count": 27,
   "metadata": {},
   "outputs": [
    {
     "name": "stdout",
     "output_type": "stream",
     "text": [
      "----------* \n",
      "---------* * \n",
      "--------* * * \n",
      "-------* * * * \n",
      "------* * * * * \n",
      "-----* * * * * * \n",
      "----* * * * * * * \n",
      "---* * * * * * * * \n",
      "--* * * * * * * * * \n",
      "-* * * * * * * * * * \n"
     ]
    }
   ],
   "source": [
    "for i in range (10):\n",
    "    for j in range (0, 10-i):\n",
    "        print('-', end = \"\")\n",
    "    for j in range (0, i+1):\n",
    "        print('*', end= ' ')\n",
    "    print('\\r')"
   ]
  },
  {
   "cell_type": "code",
   "execution_count": 25,
   "metadata": {},
   "outputs": [
    {
     "name": "stdout",
     "output_type": "stream",
     "text": [
      "-* * * * * * * * * * \n",
      "--* * * * * * * * * \n",
      "---* * * * * * * * \n",
      "----* * * * * * * \n",
      "-----* * * * * * \n",
      "------* * * * * \n",
      "-------* * * * \n",
      "--------* * * \n",
      "---------* * \n",
      "----------* \n"
     ]
    }
   ],
   "source": [
    "for i in range (10):\n",
    "    for j in range (0, i+1):\n",
    "        print('-', end = \"\")\n",
    "    for k in range (0, 10-i):\n",
    "        print(\"*\", end= ' ')\n",
    "    print('\\r')"
   ]
  },
  {
   "cell_type": "code",
   "execution_count": 41,
   "metadata": {},
   "outputs": [
    {
     "name": "stdout",
     "output_type": "stream",
     "text": [
      "* * * * * * * * * * \n",
      "*                 * \n",
      "*                 * \n",
      "*                 * \n",
      "*                 * \n",
      "*                 * \n",
      "*                 * \n",
      "*                 * \n",
      "*                 * \n",
      "* * * * * * * * * * \n"
     ]
    }
   ],
   "source": [
    "for i in range (10):\n",
    "    for j in range (10):\n",
    "        if i==0 or i==9 or j==0 or j==9:\n",
    "            print('*', end= \" \")\n",
    "        else:\n",
    "            print( \" \", end= \" \")\n",
    "    print()"
   ]
  },
  {
   "cell_type": "code",
   "execution_count": 46,
   "metadata": {},
   "outputs": [
    {
     "name": "stdout",
     "output_type": "stream",
     "text": [
      "* * * * * * * * * * \n",
      "  *               * \n",
      "    *             * \n",
      "      *           * \n",
      "        *         * \n",
      "          *       * \n",
      "            *     * \n",
      "              *   * \n",
      "                * * \n",
      "                  * \n"
     ]
    }
   ],
   "source": [
    "for i in range (10):\n",
    "    for j in range (10):\n",
    "        if i==0 or i==j or j==9:\n",
    "            print('*', end= \" \")\n",
    "        else:\n",
    "            print(' ', end= \" \" )\n",
    "    print()"
   ]
  },
  {
   "cell_type": "code",
   "execution_count": 55,
   "metadata": {},
   "outputs": [
    {
     "name": "stdout",
     "output_type": "stream",
     "text": [
      "                    * \n",
      "                  *   * \n",
      "                *       * \n",
      "              *           * \n",
      "            *               * \n",
      "          *                   * \n",
      "        *                       * \n",
      "      *                           * \n",
      "    *                               * \n",
      "  * * * * * * * * * * * * * * * * * * * \n"
     ]
    }
   ],
   "source": [
    "for i in range (10):\n",
    "    for j in range (10-i):\n",
    "        print(\" \", end= \" \")\n",
    "    for j in range (2 * i+1):\n",
    "        if j==0 or j==i*2 or i==10-1:\n",
    "            print('*', end= \" \")\n",
    "        else:\n",
    "            print(\" \", end= \" \")\n",
    "    print()"
   ]
  },
  {
   "cell_type": "code",
   "execution_count": 65,
   "metadata": {},
   "outputs": [
    {
     "name": "stdout",
     "output_type": "stream",
     "text": [
      "0 1 1 2 3 5 8 13 21 34 "
     ]
    }
   ],
   "source": [
    "# febonacci series \n",
    "\n",
    "# 0, 1, 1, 2, 3, 5, 8, 13, 21..\n",
    "\n",
    "n= int(input(\" Enter the number of febonacci numbers you would like to see from 0: \"))\n",
    "\n",
    "a , b = 0, 1\n",
    "\n",
    "print( a, b, end=\" \")\n",
    "\n",
    "for i in range (n-2):\n",
    "    c = a + b\n",
    "    print (c, end= \" \")\n",
    "    a=b\n",
    "    b=c\n",
    "    \n"
   ]
  },
  {
   "cell_type": "code",
   "execution_count": 69,
   "metadata": {},
   "outputs": [
    {
     "name": "stdout",
     "output_type": "stream",
     "text": [
      "[0, 1, 1, 2, 3, 5, 8, 13, 21, 34]\n"
     ]
    }
   ],
   "source": [
    "\n",
    "lst= [0,1]\n",
    "n= int(input(\" Enter the number of febonacci numbers you would like to see from 0: \"))\n",
    "a , b = 0, 1\n",
    "\n",
    "for i in range (n-2):\n",
    "    c = a + b\n",
    "    lst.append(c)\n",
    "    a=b\n",
    "    b=c\n",
    "\n",
    "print(lst)"
   ]
  },
  {
   "cell_type": "code",
   "execution_count": 2,
   "metadata": {},
   "outputs": [
    {
     "name": "stdout",
     "output_type": "stream",
     "text": [
      "Sammer 89\n",
      "Sabina 90\n",
      "Santosh 35\n",
      "Pawan 52\n",
      "Pramod 45\n"
     ]
    }
   ],
   "source": [
    "stu_records = {'Sammer':89, 'Sabina':90, 'Santosh':35, 'Pawan':52, 'Pramod':45}\n",
    "\n",
    "for keys, values in stu_records.items():\n",
    "    print(keys, values)"
   ]
  },
  {
   "cell_type": "code",
   "execution_count": 6,
   "metadata": {},
   "outputs": [
    {
     "name": "stdout",
     "output_type": "stream",
     "text": [
      "Sammer your mark is 89 , You scored distinction\n",
      "Sabina your mark is 90 , You scored distinction\n",
      "Santosh your mark is 35 , You scored second division\n",
      "Pawan your mark is 52 , You scored second division\n",
      "Pramod your mark is 45 , You scored second division\n",
      "Prasad your mark is 31 , You failed the topic\n"
     ]
    }
   ],
   "source": [
    "# recording values in dictionary and assessing keys and values \n",
    "\n",
    "stu_records = {'Sammer':89, 'Sabina':90, 'Santosh':35, 'Pawan':52, 'Pramod':45, 'Prasad': 31}\n",
    "\n",
    "for name, mark in stu_records.items():\n",
    "    if mark<32:\n",
    "        print(name, 'your mark is', mark, ', You failed the topic')\n",
    "    elif 32<=mark<60:\n",
    "        print(name, 'your mark is', mark, ', You scored second division')\n",
    "    elif 60<=mark<80:\n",
    "        print(name, 'your mark is', mark, ', You scored first division')\n",
    "    elif 80<=mark<100:\n",
    "        print(name, 'your mark is', mark, ', You scored distinction')\n",
    "    else:\n",
    "        print ('ERROR: Invalid mark')\n"
   ]
  },
  {
   "cell_type": "markdown",
   "metadata": {},
   "source": [
    "### Functions in Python"
   ]
  },
  {
   "cell_type": "markdown",
   "metadata": {},
   "source": [
    "1. Built-in functions \n",
    "2. User defined fucntions"
   ]
  },
  {
   "cell_type": "code",
   "execution_count": null,
   "metadata": {},
   "outputs": [],
   "source": [
    "# Type casting functions \n",
    "int(), float(), complex()"
   ]
  },
  {
   "cell_type": "code",
   "execution_count": 10,
   "metadata": {},
   "outputs": [
    {
     "name": "stdout",
     "output_type": "stream",
     "text": [
      "1945.0\n",
      "(1945+0j)\n",
      "True\n",
      "1945\n"
     ]
    }
   ],
   "source": [
    "int1= 1945\n",
    "\n",
    "print(float(int1))\n",
    "print(complex(int1))\n",
    "print(bool(int1))\n",
    "print(str(int1))"
   ]
  },
  {
   "cell_type": "code",
   "execution_count": 14,
   "metadata": {},
   "outputs": [
    {
     "name": "stdout",
     "output_type": "stream",
     "text": [
      "Decimal:  24\n",
      "Binary:  0b11000\n",
      "Octa Decimal:  0o30\n",
      "Hexa Decimal:  0x18\n"
     ]
    }
   ],
   "source": [
    "a = int(input('Enter the number of interest: '))\n",
    "\n",
    "print('Decimal: ', a)\n",
    "print('Binary: ', bin(a))\n",
    "print('Octa Decimal: ', oct(a))\n",
    "print('Hexa Decimal: ', hex(a))"
   ]
  },
  {
   "cell_type": "markdown",
   "metadata": {},
   "source": [
    "User defined functions"
   ]
  },
  {
   "cell_type": "code",
   "execution_count": 2,
   "metadata": {},
   "outputs": [],
   "source": [
    "def sum_of_two(a, b):\n",
    "    return (a + b)"
   ]
  },
  {
   "cell_type": "code",
   "execution_count": 3,
   "metadata": {},
   "outputs": [
    {
     "data": {
      "text/plain": [
       "8"
      ]
     },
     "execution_count": 3,
     "metadata": {},
     "output_type": "execute_result"
    }
   ],
   "source": [
    "sum_of_two(3,5)"
   ]
  },
  {
   "cell_type": "code",
   "execution_count": null,
   "metadata": {},
   "outputs": [
    {
     "name": "stdout",
     "output_type": "stream",
     "text": [
      "The GCD is 10\n"
     ]
    }
   ],
   "source": [
    "# write a program to find greatest common divisor (CGD) or Higher common factor (HCF) of a given number \n",
    "\n",
    "a = int(input('First Number'))\n",
    "b = int(input('Second number'))\n",
    "\n",
    "smallest_number = min(a, b)\n",
    "for k in range(smallest_number, -1, -1):\n",
    "    if a%k ==0 and b%k==0:\n",
    "        print ('The GCD is', k)\n",
    "        break"
   ]
  },
  {
   "cell_type": "code",
   "execution_count": 1,
   "metadata": {},
   "outputs": [
    {
     "name": "stdout",
     "output_type": "stream",
     "text": [
      "120\n"
     ]
    }
   ],
   "source": [
    "#factorial of a number\n",
    "\n",
    "num = int(input('Please enter a number'))\n",
    "factorial = 1\n",
    "for k in range (1, num+1):\n",
    "    factorial = factorial*k\n",
    "print(factorial)"
   ]
  },
  {
   "cell_type": "code",
   "execution_count": 2,
   "metadata": {},
   "outputs": [
    {
     "name": "stdout",
     "output_type": "stream",
     "text": [
      "24\n"
     ]
    }
   ],
   "source": [
    "num= int(input('Entere a number'))\n",
    "\n",
    "factorial = 1\n",
    "\n",
    "for k in range (1, num+1):\n",
    "    factorial = factorial*k\n",
    "\n",
    "print(factorial)"
   ]
  },
  {
   "cell_type": "code",
   "execution_count": 3,
   "metadata": {},
   "outputs": [
    {
     "name": "stdout",
     "output_type": "stream",
     "text": [
      "[2, 4, 6, 7, 5, 15]\n",
      "[-3, -10, -2]\n"
     ]
    }
   ],
   "source": [
    "list1= [2, 4, 6, 7,-3, -10, 5, 15, -2]\n",
    "\n",
    "pos_lst =[]\n",
    "neg_lst = []\n",
    "\n",
    "for k in list1:\n",
    "    if k<0:\n",
    "        neg_lst.append(k)\n",
    "    else:\n",
    "        pos_lst.append (k)\n",
    "print(pos_lst)\n",
    "print(neg_lst)"
   ]
  },
  {
   "cell_type": "code",
   "execution_count": 8,
   "metadata": {},
   "outputs": [],
   "source": [
    "# fibonacci numbers \n",
    "fibonacci_lst = [0,1]\n",
    "\n",
    "number_of_terms = int(input('Number of terms:- '))\n",
    "\n",
    "while len(fibonacci_lst)< number_of_terms:\n",
    "    next_term = fibonacci_lst[-1]+fibonacci_lst[-2]\n",
    "    fibonacci_lst.append(next_term)\n",
    "\n",
    "print(fibonacci_lst)"
   ]
  },
  {
   "cell_type": "markdown",
   "metadata": {},
   "source": [
    "**File Operation**"
   ]
  },
  {
   "cell_type": "code",
   "execution_count": 5,
   "metadata": {},
   "outputs": [
    {
     "ename": "FileExistsError",
     "evalue": "[Errno 17] File exists: 'my_file.txt'",
     "output_type": "error",
     "traceback": [
      "\u001b[0;31m---------------------------------------------------------------------------\u001b[0m",
      "\u001b[0;31mFileExistsError\u001b[0m                           Traceback (most recent call last)",
      "Cell \u001b[0;32mIn[5], line 1\u001b[0m\n\u001b[0;32m----> 1\u001b[0m f \u001b[38;5;241m=\u001b[39m \u001b[38;5;28;43mopen\u001b[39;49m\u001b[43m(\u001b[49m\u001b[38;5;124;43m'\u001b[39;49m\u001b[38;5;124;43mmy_file.txt\u001b[39;49m\u001b[38;5;124;43m'\u001b[39;49m\u001b[43m,\u001b[49m\u001b[43m \u001b[49m\u001b[38;5;124;43m'\u001b[39;49m\u001b[38;5;124;43mx\u001b[39;49m\u001b[38;5;124;43m'\u001b[39;49m\u001b[43m)\u001b[49m\n",
      "File \u001b[0;32m~/.local/lib/python3.10/site-packages/IPython/core/interactiveshell.py:324\u001b[0m, in \u001b[0;36m_modified_open\u001b[0;34m(file, *args, **kwargs)\u001b[0m\n\u001b[1;32m    317\u001b[0m \u001b[38;5;28;01mif\u001b[39;00m file \u001b[38;5;129;01min\u001b[39;00m {\u001b[38;5;241m0\u001b[39m, \u001b[38;5;241m1\u001b[39m, \u001b[38;5;241m2\u001b[39m}:\n\u001b[1;32m    318\u001b[0m     \u001b[38;5;28;01mraise\u001b[39;00m \u001b[38;5;167;01mValueError\u001b[39;00m(\n\u001b[1;32m    319\u001b[0m         \u001b[38;5;124mf\u001b[39m\u001b[38;5;124m\"\u001b[39m\u001b[38;5;124mIPython won\u001b[39m\u001b[38;5;124m'\u001b[39m\u001b[38;5;124mt let you open fd=\u001b[39m\u001b[38;5;132;01m{\u001b[39;00mfile\u001b[38;5;132;01m}\u001b[39;00m\u001b[38;5;124m by default \u001b[39m\u001b[38;5;124m\"\u001b[39m\n\u001b[1;32m    320\u001b[0m         \u001b[38;5;124m\"\u001b[39m\u001b[38;5;124mas it is likely to crash IPython. If you know what you are doing, \u001b[39m\u001b[38;5;124m\"\u001b[39m\n\u001b[1;32m    321\u001b[0m         \u001b[38;5;124m\"\u001b[39m\u001b[38;5;124myou can use builtins\u001b[39m\u001b[38;5;124m'\u001b[39m\u001b[38;5;124m open.\u001b[39m\u001b[38;5;124m\"\u001b[39m\n\u001b[1;32m    322\u001b[0m     )\n\u001b[0;32m--> 324\u001b[0m \u001b[38;5;28;01mreturn\u001b[39;00m \u001b[43mio_open\u001b[49m\u001b[43m(\u001b[49m\u001b[43mfile\u001b[49m\u001b[43m,\u001b[49m\u001b[43m \u001b[49m\u001b[38;5;241;43m*\u001b[39;49m\u001b[43margs\u001b[49m\u001b[43m,\u001b[49m\u001b[43m \u001b[49m\u001b[38;5;241;43m*\u001b[39;49m\u001b[38;5;241;43m*\u001b[39;49m\u001b[43mkwargs\u001b[49m\u001b[43m)\u001b[49m\n",
      "\u001b[0;31mFileExistsError\u001b[0m: [Errno 17] File exists: 'my_file.txt'"
     ]
    }
   ],
   "source": [
    "f = open('my_file.txt', 'x')"
   ]
  },
  {
   "cell_type": "code",
   "execution_count": 6,
   "metadata": {},
   "outputs": [],
   "source": [
    "f= open('my_file.txt', \"w\")"
   ]
  },
  {
   "cell_type": "code",
   "execution_count": 7,
   "metadata": {},
   "outputs": [
    {
     "data": {
      "text/plain": [
       "21"
      ]
     },
     "execution_count": 7,
     "metadata": {},
     "output_type": "execute_result"
    }
   ],
   "source": [
    "f.write('This is my first file')"
   ]
  },
  {
   "cell_type": "code",
   "execution_count": 11,
   "metadata": {},
   "outputs": [],
   "source": [
    "f= open('my_file.txt', \"r\")\n"
   ]
  },
  {
   "cell_type": "code",
   "execution_count": 12,
   "metadata": {},
   "outputs": [
    {
     "data": {
      "text/plain": [
       "'This is my first file'"
      ]
     },
     "execution_count": 12,
     "metadata": {},
     "output_type": "execute_result"
    }
   ],
   "source": [
    "f.read()"
   ]
  },
  {
   "cell_type": "code",
   "execution_count": 13,
   "metadata": {},
   "outputs": [],
   "source": [
    "f = open ('my_file.txt', 'a')"
   ]
  },
  {
   "cell_type": "code",
   "execution_count": 14,
   "metadata": {},
   "outputs": [
    {
     "data": {
      "text/plain": [
       "67"
      ]
     },
     "execution_count": 14,
     "metadata": {},
     "output_type": "execute_result"
    }
   ],
   "source": [
    "f.write('This is test text for adding new text into my existing file my_file')"
   ]
  },
  {
   "cell_type": "code",
   "execution_count": 15,
   "metadata": {},
   "outputs": [],
   "source": [
    "f = open('my_file.txt', 'r')"
   ]
  },
  {
   "cell_type": "code",
   "execution_count": 16,
   "metadata": {},
   "outputs": [
    {
     "data": {
      "text/plain": [
       "'This is my first fileThis is test text for adding new text into my existing file my_file'"
      ]
     },
     "execution_count": 16,
     "metadata": {},
     "output_type": "execute_result"
    }
   ],
   "source": [
    "f.read()"
   ]
  },
  {
   "cell_type": "markdown",
   "metadata": {},
   "source": [
    "**Exception Handling**\n",
    "\n",
    "1. Syntax Error\n",
    "2. Logical Error\n",
    "3. Run time Error"
   ]
  },
  {
   "cell_type": "code",
   "execution_count": 1,
   "metadata": {},
   "outputs": [
    {
     "ename": "IndentationError",
     "evalue": "expected an indented block after 'for' statement on line 1 (3979827255.py, line 2)",
     "output_type": "error",
     "traceback": [
      "\u001b[0;36m  Cell \u001b[0;32mIn[1], line 2\u001b[0;36m\u001b[0m\n\u001b[0;31m    print(i)\u001b[0m\n\u001b[0m    ^\u001b[0m\n\u001b[0;31mIndentationError\u001b[0m\u001b[0;31m:\u001b[0m expected an indented block after 'for' statement on line 1\n"
     ]
    }
   ],
   "source": [
    "for i in range(10):\n",
    "print(i)    "
   ]
  },
  {
   "cell_type": "markdown",
   "metadata": {},
   "source": [
    "Fix index error by fixing the error itself"
   ]
  },
  {
   "cell_type": "code",
   "execution_count": 4,
   "metadata": {},
   "outputs": [
    {
     "name": "stdout",
     "output_type": "stream",
     "text": [
      "7 10\n",
      "value inside my list  2\n",
      "value inside my list  3\n",
      "value inside my list  4\n",
      "value inside my list  5\n",
      "value inside my list  6\n",
      "value inside my list  7\n",
      "value inside my list  8\n"
     ]
    },
    {
     "ename": "IndexError",
     "evalue": "list index out of range",
     "output_type": "error",
     "traceback": [
      "\u001b[0;31m---------------------------------------------------------------------------\u001b[0m",
      "\u001b[0;31mIndexError\u001b[0m                                Traceback (most recent call last)",
      "Cell \u001b[0;32mIn[4], line 6\u001b[0m\n\u001b[1;32m      3\u001b[0m \u001b[38;5;28mprint\u001b[39m(v_len, v_len\u001b[38;5;241m+\u001b[39m\u001b[38;5;241m3\u001b[39m)\n\u001b[1;32m      5\u001b[0m \u001b[38;5;28;01mfor\u001b[39;00m i \u001b[38;5;129;01min\u001b[39;00m \u001b[38;5;28mrange\u001b[39m (v_len\u001b[38;5;241m+\u001b[39m\u001b[38;5;241m3\u001b[39m):\n\u001b[0;32m----> 6\u001b[0m     \u001b[38;5;28mprint\u001b[39m(\u001b[38;5;124m'\u001b[39m\u001b[38;5;124mvalue inside my list \u001b[39m\u001b[38;5;124m'\u001b[39m, \u001b[43mlst1\u001b[49m\u001b[43m[\u001b[49m\u001b[43mi\u001b[49m\u001b[43m]\u001b[49m)\n",
      "\u001b[0;31mIndexError\u001b[0m: list index out of range"
     ]
    }
   ],
   "source": [
    "lst1= [2,3,4,5,6,7,8]\n",
    "v_len = len(lst1)\n",
    "print(v_len, v_len+3)\n",
    "\n",
    "for i in range (v_len+3):\n",
    "    print('value inside my list ', lst1[i])"
   ]
  },
  {
   "cell_type": "code",
   "execution_count": 5,
   "metadata": {},
   "outputs": [
    {
     "name": "stdout",
     "output_type": "stream",
     "text": [
      "value inside my list  2\n",
      "value inside my list  3\n",
      "value inside my list  4\n",
      "value inside my list  5\n",
      "value inside my list  6\n",
      "value inside my list  7\n",
      "value inside my list  8\n",
      "Please check your input list index out of range\n"
     ]
    }
   ],
   "source": [
    "try:\n",
    "    for i in range (v_len+3):\n",
    "        print('value inside my list ', lst1[i])\n",
    "except IndexError as fidt:\n",
    "    print(\"Please check your input\", fidt)"
   ]
  },
  {
   "cell_type": "code",
   "execution_count": 6,
   "metadata": {},
   "outputs": [
    {
     "ename": "AttributeError",
     "evalue": "'tuple' object has no attribute 'append'",
     "output_type": "error",
     "traceback": [
      "\u001b[0;31m---------------------------------------------------------------------------\u001b[0m",
      "\u001b[0;31mAttributeError\u001b[0m                            Traceback (most recent call last)",
      "Cell \u001b[0;32mIn[6], line 2\u001b[0m\n\u001b[1;32m      1\u001b[0m tup1 \u001b[38;5;241m=\u001b[39m (\u001b[38;5;241m2\u001b[39m,\u001b[38;5;241m3\u001b[39m,\u001b[38;5;241m5\u001b[39m,\u001b[38;5;241m6\u001b[39m,\u001b[38;5;241m7\u001b[39m)\n\u001b[0;32m----> 2\u001b[0m \u001b[43mtup1\u001b[49m\u001b[38;5;241;43m.\u001b[39;49m\u001b[43mappend\u001b[49m(\u001b[38;5;241m10\u001b[39m)\n",
      "\u001b[0;31mAttributeError\u001b[0m: 'tuple' object has no attribute 'append'"
     ]
    }
   ],
   "source": [
    "tup1 = (2,3,5,6,7)\n",
    "tup1.append(10)"
   ]
  },
  {
   "cell_type": "code",
   "execution_count": 7,
   "metadata": {},
   "outputs": [
    {
     "name": "stdout",
     "output_type": "stream",
     "text": [
      "Atrribute Exception 'tuple' object has no attribute 'append'\n"
     ]
    }
   ],
   "source": [
    "try:\n",
    "    tup1.append(10)\n",
    "except AttributeError as ae:\n",
    "    print('Atrribute Exception', ae)"
   ]
  },
  {
   "cell_type": "code",
   "execution_count": 8,
   "metadata": {},
   "outputs": [
    {
     "ename": "TypeError",
     "evalue": "unsupported operand type(s) for +: 'int' and 'str'",
     "output_type": "error",
     "traceback": [
      "\u001b[0;31m---------------------------------------------------------------------------\u001b[0m",
      "\u001b[0;31mTypeError\u001b[0m                                 Traceback (most recent call last)",
      "Cell \u001b[0;32mIn[8], line 4\u001b[0m\n\u001b[1;32m      1\u001b[0m a\u001b[38;5;241m=\u001b[39m\u001b[38;5;241m23\u001b[39m\n\u001b[1;32m      2\u001b[0m b\u001b[38;5;241m=\u001b[39m \u001b[38;5;124m'\u001b[39m\u001b[38;5;124mprograming\u001b[39m\u001b[38;5;124m'\u001b[39m\n\u001b[0;32m----> 4\u001b[0m c\u001b[38;5;241m=\u001b[39m \u001b[43ma\u001b[49m\u001b[38;5;241;43m+\u001b[39;49m\u001b[43mb\u001b[49m\n",
      "\u001b[0;31mTypeError\u001b[0m: unsupported operand type(s) for +: 'int' and 'str'"
     ]
    }
   ],
   "source": [
    "a=23\n",
    "b= 'programing'\n",
    "c= a+b"
   ]
  },
  {
   "cell_type": "code",
   "execution_count": 9,
   "metadata": {},
   "outputs": [
    {
     "name": "stdout",
     "output_type": "stream",
     "text": [
      "TypeError Exception unsupported operand type(s) for +: 'int' and 'str'\n"
     ]
    }
   ],
   "source": [
    "try:\n",
    "    a=23\n",
    "    b= 'programing'\n",
    "    c= a+b\n",
    "except TypeError as te:\n",
    "    print('TypeError Exception', te)"
   ]
  },
  {
   "cell_type": "markdown",
   "metadata": {},
   "source": [
    "**Object Oriented Programming**"
   ]
  },
  {
   "cell_type": "code",
   "execution_count": 2,
   "metadata": {},
   "outputs": [],
   "source": [
    "class university_student:\n",
    "    def student_info():\n",
    "        pass"
   ]
  },
  {
   "cell_type": "code",
   "execution_count": 3,
   "metadata": {},
   "outputs": [],
   "source": [
    "obj1 = university_student()"
   ]
  },
  {
   "cell_type": "code",
   "execution_count": 4,
   "metadata": {},
   "outputs": [
    {
     "ename": "TypeError",
     "evalue": "university_student.student_info() takes 0 positional arguments but 1 was given",
     "output_type": "error",
     "traceback": [
      "\u001b[0;31m---------------------------------------------------------------------------\u001b[0m",
      "\u001b[0;31mTypeError\u001b[0m                                 Traceback (most recent call last)",
      "Cell \u001b[0;32mIn[4], line 1\u001b[0m\n\u001b[0;32m----> 1\u001b[0m \u001b[43mobj1\u001b[49m\u001b[38;5;241;43m.\u001b[39;49m\u001b[43mstudent_info\u001b[49m\u001b[43m(\u001b[49m\u001b[43m)\u001b[49m\n",
      "\u001b[0;31mTypeError\u001b[0m: university_student.student_info() takes 0 positional arguments but 1 was given"
     ]
    }
   ],
   "source": [
    "obj1.student_info()"
   ]
  },
  {
   "cell_type": "code",
   "execution_count": 5,
   "metadata": {},
   "outputs": [],
   "source": [
    "class university_student:\n",
    "    def __init__(self, fname, mname, lname, email, contact):\n",
    "        pass"
   ]
  },
  {
   "cell_type": "code",
   "execution_count": 6,
   "metadata": {},
   "outputs": [],
   "source": [
    "obj1= university_student('Kin', 'Zen', 'Aunto', 'jin.aunto@gmail.com',987654)"
   ]
  },
  {
   "cell_type": "code",
   "execution_count": 8,
   "metadata": {},
   "outputs": [
    {
     "name": "stdout",
     "output_type": "stream",
     "text": [
      "<class '__main__.university_student'>\n"
     ]
    }
   ],
   "source": [
    "print(type(obj1))"
   ]
  },
  {
   "cell_type": "code",
   "execution_count": 13,
   "metadata": {},
   "outputs": [],
   "source": [
    "class university_student:\n",
    "    def __init__(self, fname, mname, lname, email, contact):\n",
    "        self.fname = fname\n",
    "        self.mname = mname\n",
    "        self.lname = lname\n",
    "        self.email = email\n",
    "        self.contact = contact\n",
    "\n",
    "        print(self.fname, self.mname, self.lname, self.email, self.contact)"
   ]
  },
  {
   "cell_type": "code",
   "execution_count": 14,
   "metadata": {},
   "outputs": [
    {
     "name": "stdout",
     "output_type": "stream",
     "text": [
      "Raja Ram Chalise raja.ram@gmail.com 8453\n"
     ]
    }
   ],
   "source": [
    "obj1 = university_student('Raja', 'Ram', 'Chalise', 'raja.ram@gmail.com', 8453)"
   ]
  },
  {
   "cell_type": "code",
   "execution_count": 18,
   "metadata": {},
   "outputs": [],
   "source": [
    "class Computer:\n",
    "    def __init__(self, ram, harddisk, processor):\n",
    "        self.ram = ram\n",
    "        self.harddisk = harddisk\n",
    "        self.processor = processor\n",
    "    \n",
    "    def type_pc (self):\n",
    "        print(f'The ram of this PC is {self.ram}.')\n",
    "        print(f'The harddisk capacity of this PC is {self.harddisk}.')\n",
    "        print(f'The porcessor of this PC is {self.processor}.')"
   ]
  },
  {
   "cell_type": "code",
   "execution_count": 19,
   "metadata": {},
   "outputs": [],
   "source": [
    "objt3 = Computer('4GB', 256, 'i7')"
   ]
  },
  {
   "cell_type": "code",
   "execution_count": 20,
   "metadata": {},
   "outputs": [
    {
     "name": "stdout",
     "output_type": "stream",
     "text": [
      "The ram of this PC is 4GB.\n",
      "The harddisk capacity of this PC is 256.\n",
      "The porcessor of this PC is i7.\n"
     ]
    }
   ],
   "source": [
    "objt3.type_pc()"
   ]
  },
  {
   "cell_type": "code",
   "execution_count": 14,
   "metadata": {},
   "outputs": [],
   "source": [
    "def sum(a,b):\n",
    "        return (a+b)\n",
    "    "
   ]
  },
  {
   "cell_type": "code",
   "execution_count": 15,
   "metadata": {},
   "outputs": [
    {
     "data": {
      "text/plain": [
       "10"
      ]
     },
     "execution_count": 15,
     "metadata": {},
     "output_type": "execute_result"
    }
   ],
   "source": [
    "sum(3,7)"
   ]
  },
  {
   "cell_type": "code",
   "execution_count": 22,
   "metadata": {},
   "outputs": [],
   "source": [
    "class Car:\n",
    "    def __init__(self, make, model, year, miles):\n",
    "        self.make = make\n",
    "        self.model = model\n",
    "        self.year = year\n",
    "        self.miles = miles\n",
    "\n",
    "    def car_details(self):\n",
    "        print(self.make, self.model, self.year, self.miles)"
   ]
  },
  {
   "cell_type": "code",
   "execution_count": 23,
   "metadata": {},
   "outputs": [],
   "source": [
    "car1= Car('Toyota', 'Corrola', 2022, 50000)\n",
    "car2 = Car('Honda', 'c-rv', 2022, 55000)"
   ]
  },
  {
   "cell_type": "code",
   "execution_count": 28,
   "metadata": {},
   "outputs": [
    {
     "name": "stdout",
     "output_type": "stream",
     "text": [
      "Toyota Corrola 2022 50000\n",
      "Honda c-rv 2022 55000\n"
     ]
    }
   ],
   "source": [
    "car1.car_details()\n",
    "car2.car_details()"
   ]
  },
  {
   "cell_type": "code",
   "execution_count": 40,
   "metadata": {},
   "outputs": [],
   "source": [
    "class Person:\n",
    "    def __init__ (self, fname, lname):\n",
    "        self.fname = fname\n",
    "        self.lname = lname\n",
    "\n",
    "    def printname(self):\n",
    "        print( self.fname,'', self.lname)"
   ]
  },
  {
   "cell_type": "code",
   "execution_count": 41,
   "metadata": {},
   "outputs": [],
   "source": [
    "Ram = Person('Raja','Ram')"
   ]
  },
  {
   "cell_type": "code",
   "execution_count": 42,
   "metadata": {},
   "outputs": [
    {
     "name": "stdout",
     "output_type": "stream",
     "text": [
      "Raja  Ram\n"
     ]
    }
   ],
   "source": [
    "Ram.printname()"
   ]
  },
  {
   "cell_type": "code",
   "execution_count": 44,
   "metadata": {},
   "outputs": [],
   "source": [
    "# Child class\n",
    "\n",
    "class childclass (Person):\n",
    "    pass"
   ]
  },
  {
   "cell_type": "code",
   "execution_count": 45,
   "metadata": {},
   "outputs": [],
   "source": [
    "Hari = childclass('Hari', 'Krishna')"
   ]
  },
  {
   "cell_type": "code",
   "execution_count": 46,
   "metadata": {},
   "outputs": [
    {
     "name": "stdout",
     "output_type": "stream",
     "text": [
      "Hari  Krishna\n"
     ]
    }
   ],
   "source": [
    "Hari.printname()"
   ]
  },
  {
   "cell_type": "code",
   "execution_count": 51,
   "metadata": {},
   "outputs": [],
   "source": [
    "class childclass:\n",
    "    def __init__ (self, fname, lname, age):\n",
    "        self.firstname = fname\n",
    "        self.lastname = lname\n",
    "        self.age= age\n",
    "\n",
    "    def printname(self):\n",
    "        print('from child', self.firstname, self.lastname, self.age)"
   ]
  },
  {
   "cell_type": "code",
   "execution_count": 52,
   "metadata": {},
   "outputs": [],
   "source": [
    "Hari = childclass('Hari', 'Krishna', 55)"
   ]
  },
  {
   "cell_type": "code",
   "execution_count": 53,
   "metadata": {},
   "outputs": [
    {
     "name": "stdout",
     "output_type": "stream",
     "text": [
      "from child Hari Krishna 55\n"
     ]
    }
   ],
   "source": [
    "Hari.printname()"
   ]
  },
  {
   "cell_type": "code",
   "execution_count": 3,
   "metadata": {},
   "outputs": [
    {
     "name": "stdout",
     "output_type": "stream",
     "text": [
      "Prime pairs are 3 5\n",
      "Prime pairs are 5 7\n",
      "Prime pairs are 11 13\n",
      "Prime pairs are 17 19\n",
      "Prime pairs are 29 31\n",
      "Prime pairs are 41 43\n",
      "Prime pairs are 59 61\n",
      "Prime pairs are 71 73\n"
     ]
    }
   ],
   "source": [
    "#Write a program to print twin prime numbers less than 1000. If two consecutive odd numbers are both pirme then they are known as twin primes. \n",
    "\n",
    "# Logical Breaking of the problem\n",
    "# 1. First iterate till 1000\n",
    "#2. Only check for odd number\n",
    "#3. Use 'and' to filter both prime numbers \n",
    "\n",
    "\n",
    "n = int(input('Enter the Max range :-'))\n",
    "\n",
    "def check_prime_number(num):\n",
    "    for i in range (2, num):\n",
    "        if num%i==0:\n",
    "            return False\n",
    "    return True\n",
    "\n",
    "def print_prime_pairs(n):\n",
    "    for k in range (3,n,2):\n",
    "        if check_prime_number(k) and check_prime_number (k+2):\n",
    "            print('Prime pairs are', k, k+2)\n",
    "\n",
    "print_prime_pairs(n)"
   ]
  }
 ],
 "metadata": {
  "kernelspec": {
   "display_name": "Python 3",
   "language": "python",
   "name": "python3"
  },
  "language_info": {
   "codemirror_mode": {
    "name": "ipython",
    "version": 3
   },
   "file_extension": ".py",
   "mimetype": "text/x-python",
   "name": "python",
   "nbconvert_exporter": "python",
   "pygments_lexer": "ipython3",
   "version": "3.10.13"
  }
 },
 "nbformat": 4,
 "nbformat_minor": 2
}
