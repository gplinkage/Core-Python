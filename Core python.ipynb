{
 "cells": [
  {
   "cell_type": "markdown",
   "metadata": {},
   "source": [
    "Python data type\n",
    "1. Standard data type\n",
    "  numbers (integer, float )\n",
    "  boolean\n",
    "  complex\n",
    "2. Structured data type\n",
    "   list \n",
    "   tuple \n",
    "   set \n",
    "   Dictionary "
   ]
  },
  {
   "cell_type": "code",
   "execution_count": 1,
   "metadata": {},
   "outputs": [
    {
     "name": "stdout",
     "output_type": "stream",
     "text": [
      "1976\n",
      "<class 'int'>\n"
     ]
    }
   ],
   "source": [
    "\n",
    "int1= 1976\n",
    "print(int1)\n",
    "print(type(int1))"
   ]
  },
  {
   "cell_type": "code",
   "execution_count": 2,
   "metadata": {},
   "outputs": [
    {
     "name": "stdout",
     "output_type": "stream",
     "text": [
      "3.234\n",
      "<class 'float'>\n"
     ]
    }
   ],
   "source": [
    "flt1= 3.234\n",
    "print(flt1)\n",
    "print(type(flt1))"
   ]
  },
  {
   "cell_type": "code",
   "execution_count": 3,
   "metadata": {},
   "outputs": [
    {
     "name": "stdout",
     "output_type": "stream",
     "text": [
      "<class 'complex'>\n",
      "<class 'type'>\n"
     ]
    }
   ],
   "source": [
    "complx1= 2+3j\n",
    "print(complex)\n",
    "print(type(complex))"
   ]
  },
  {
   "cell_type": "code",
   "execution_count": 4,
   "metadata": {},
   "outputs": [
    {
     "name": "stdout",
     "output_type": "stream",
     "text": [
      "True\n",
      "<class 'bool'>\n"
     ]
    }
   ],
   "source": [
    "boul1= True\n",
    "print(boul1)\n",
    "print(type(boul1))"
   ]
  },
  {
   "cell_type": "code",
   "execution_count": 6,
   "metadata": {},
   "outputs": [
    {
     "name": "stdout",
     "output_type": "stream",
     "text": [
      "Python programming\n",
      "<class 'str'>\n"
     ]
    }
   ],
   "source": [
    "str1 = 'Python programming'\n",
    "print(str1)\n",
    "print(type(str1))"
   ]
  },
  {
   "cell_type": "code",
   "execution_count": 8,
   "metadata": {},
   "outputs": [
    {
     "name": "stdout",
     "output_type": "stream",
     "text": [
      "python programing\n",
      "<class 'str'>\n"
     ]
    }
   ],
   "source": [
    "str2 ='''python programing'''\n",
    "print(str2)\n",
    "print(type(str2))\n"
   ]
  },
  {
   "cell_type": "code",
   "execution_count": 12,
   "metadata": {},
   "outputs": [
    {
     "name": "stdout",
     "output_type": "stream",
     "text": [
      "My name is John\n",
      "<class 'str'>\n"
     ]
    }
   ],
   "source": [
    "str3 = \"My name is\" 'John'\n",
    "print(str3)\n",
    "print(type(str3))"
   ]
  },
  {
   "cell_type": "code",
   "execution_count": 2,
   "metadata": {},
   "outputs": [
    {
     "name": "stdout",
     "output_type": "stream",
     "text": [
      "[12, 13, 14, 15]\n"
     ]
    }
   ],
   "source": [
    "# 1.List is mutable \n",
    "\n",
    "lst = [12,13,14,15]\n",
    "\n",
    "print(lst)"
   ]
  },
  {
   "cell_type": "code",
   "execution_count": 3,
   "metadata": {},
   "outputs": [
    {
     "name": "stdout",
     "output_type": "stream",
     "text": [
      "(2, 4, 6, 7, 8, 9)\n"
     ]
    }
   ],
   "source": [
    "# Tupple is immutable \n",
    "tup1= (2,4,6,7,8,9)\n",
    "print(tup1)"
   ]
  },
  {
   "cell_type": "code",
   "execution_count": 15,
   "metadata": {},
   "outputs": [
    {
     "name": "stdout",
     "output_type": "stream",
     "text": [
      "{False, 1, 2, 3, 2.11, 'Art', 'a', 'c', 'b', ('a', 'b+5j', 'c'), '@'}\n",
      "<class 'set'>\n"
     ]
    }
   ],
   "source": [
    "# Set\n",
    "#1. Set is combination of unique values \n",
    "#2. Set is collection of unordered element \n",
    "#3. Set is representated by curly brackets\n",
    "#4. Set is mutable \n",
    "\n",
    "set1= {1,2,3,'a','b','c','@',('a','b+5j','c'),'a',True,'b',2.11,\"Art\",False}\n",
    "print(set1)\n",
    "print(type(set1))"
   ]
  }
 ],
 "metadata": {
  "kernelspec": {
   "display_name": "Python 3",
   "language": "python",
   "name": "python3"
  },
  "language_info": {
   "codemirror_mode": {
    "name": "ipython",
    "version": 3
   },
   "file_extension": ".py",
   "mimetype": "text/x-python",
   "name": "python",
   "nbconvert_exporter": "python",
   "pygments_lexer": "ipython3",
   "version": "3.11.4"
  }
 },
 "nbformat": 4,
 "nbformat_minor": 2
}
