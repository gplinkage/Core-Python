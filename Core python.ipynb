{
 "cells": [
  {
   "cell_type": "markdown",
   "metadata": {},
   "source": [
    "Python data type\n",
    "1. Standard data type\n",
    "  numbers (integer, float )\n",
    "  boolean\n",
    "  complex\n",
    "2. Structured data type\n",
    "   list \n",
    "   tuple \n",
    "   set \n",
    "   Dictionary "
   ]
  },
  {
   "cell_type": "code",
   "execution_count": null,
   "metadata": {},
   "outputs": [],
   "source": [
    "\n",
    "int1= 1976\n",
    "print(int1)\n",
    "print(type(int1))"
   ]
  },
  {
   "cell_type": "code",
   "execution_count": null,
   "metadata": {},
   "outputs": [],
   "source": [
    "flt1= 3.234\n",
    "print(flt1)\n",
    "print(type(flt1))"
   ]
  },
  {
   "cell_type": "code",
   "execution_count": null,
   "metadata": {},
   "outputs": [],
   "source": [
    "complx1= 2+3j\n",
    "print(complex)\n",
    "print(type(complex))"
   ]
  },
  {
   "cell_type": "code",
   "execution_count": null,
   "metadata": {},
   "outputs": [],
   "source": [
    "boul1= True\n",
    "print(boul1)\n",
    "print(type(boul1))"
   ]
  },
  {
   "cell_type": "code",
   "execution_count": null,
   "metadata": {},
   "outputs": [],
   "source": [
    "str1 = 'Python programming'\n",
    "print(str1)\n",
    "print(type(str1))"
   ]
  },
  {
   "cell_type": "code",
   "execution_count": null,
   "metadata": {},
   "outputs": [],
   "source": [
    "str2 ='''python programing'''\n",
    "print(str2)\n",
    "print(type(str2))\n"
   ]
  },
  {
   "cell_type": "code",
   "execution_count": null,
   "metadata": {},
   "outputs": [],
   "source": [
    "str3 = \"My name is\" 'John'\n",
    "print(str3)\n",
    "print(type(str3))"
   ]
  },
  {
   "cell_type": "code",
   "execution_count": null,
   "metadata": {},
   "outputs": [],
   "source": [
    "# 1.List is mutable \n",
    "\n",
    "lst = [12,13,14,15]\n",
    "\n",
    "print(lst)"
   ]
  },
  {
   "cell_type": "code",
   "execution_count": null,
   "metadata": {},
   "outputs": [],
   "source": [
    "# Tupple is immutable \n",
    "tup1= (2,4,6,7,8,9)\n",
    "print(tup1)"
   ]
  },
  {
   "cell_type": "code",
   "execution_count": null,
   "metadata": {},
   "outputs": [],
   "source": [
    "# Set\n",
    "#1. Set is combination of unique values \n",
    "#2. Set is collection of unordered element \n",
    "#3. Set is representated by curly brackets\n",
    "#4. Set is mutable \n",
    "\n",
    "set1= {1,2,3,'a','b','c','@',('a','b+5j','c'),'a',True,'b',2.11,\"Art\",False}\n",
    "print(set1)\n",
    "print(type(set1))"
   ]
  },
  {
   "cell_type": "code",
   "execution_count": null,
   "metadata": {},
   "outputs": [],
   "source": [
    "#Dictionary\n",
    "dict1= {'a':'App;e', \n",
    "        'b':'Banana', \n",
    "        'c': 'Cherrries'}\n",
    "\n",
    "print(dict1)\n",
    "print(type(dict1))\n"
   ]
  },
  {
   "cell_type": "code",
   "execution_count": null,
   "metadata": {},
   "outputs": [],
   "source": [
    "str5 = 'GOVINDA POUDEL'\n",
    "print(len(str5))\n"
   ]
  },
  {
   "cell_type": "code",
   "execution_count": null,
   "metadata": {},
   "outputs": [],
   "source": [
    "\n",
    "print(str5[0])\n",
    "print(str5[1])\n",
    "print(str5[2])\n",
    "print(str5[3])\n",
    "print(str5[4])\n",
    "print(str5[5])\n",
    "print(str5[6])\n",
    "print(str5[7])\n",
    "print(str5[8])\n",
    "print(str5[9])\n",
    "print(str5[10])\n",
    "print(str5[11])\n",
    "print(str5[12])\n",
    "print(str5[13])"
   ]
  },
  {
   "cell_type": "code",
   "execution_count": null,
   "metadata": {},
   "outputs": [],
   "source": [
    "print(str5[0:7:1]), print(str5[8:])"
   ]
  },
  {
   "cell_type": "code",
   "execution_count": null,
   "metadata": {},
   "outputs": [],
   "source": [
    "str5[0:7:1]"
   ]
  },
  {
   "cell_type": "code",
   "execution_count": null,
   "metadata": {},
   "outputs": [],
   "source": [
    "str4 = \"I love python\" \" \" 'it is fun to run python'\n",
    "print(str4)\n",
    "print(str4[::])\n",
    "print(str4[14::])\n",
    "print(str4[:13:])\n",
    "str4[:len(str4):]"
   ]
  },
  {
   "cell_type": "code",
   "execution_count": null,
   "metadata": {},
   "outputs": [],
   "source": [
    "#string in-buit function \n",
    "# string splicing [start:stop:step]\n",
    "temp_str = \"Hello Word\"\n",
    "\n",
    "print(temp_str[::2])"
   ]
  },
  {
   "cell_type": "code",
   "execution_count": null,
   "metadata": {},
   "outputs": [],
   "source": [
    "dir(temp_str)\n",
    "\n",
    "#dir is used in development and operations "
   ]
  },
  {
   "cell_type": "code",
   "execution_count": null,
   "metadata": {},
   "outputs": [],
   "source": [
    "# Takes 1st charater of string to upper case \n",
    "print(temp_str.capitalize())\n",
    "\n",
    "# capitalizes everything\n",
    "print(temp_str.upper())\n",
    "\n",
    "#capitalizes first letter of each word\n",
    "print(temp_str.title())\n"
   ]
  },
  {
   "cell_type": "code",
   "execution_count": null,
   "metadata": {},
   "outputs": [],
   "source": [
    "temp_str = \"HeLLo WOrLD\"\n",
    "\n",
    "# returns a string whrere all characters are lowercase \n",
    "print(temp_str.casefold())"
   ]
  },
  {
   "cell_type": "code",
   "execution_count": null,
   "metadata": {},
   "outputs": [],
   "source": [
    "# adds space or charecter specified to either side of the string to keep it in the center \n",
    "print(temp_str.center(15, \"*\"))\n",
    "print(temp_str.center(16, \"*\"))"
   ]
  },
  {
   "cell_type": "code",
   "execution_count": null,
   "metadata": {},
   "outputs": [],
   "source": [
    "#returns ho many times the substring appears in the given range by default picks full string \n",
    "# count function is case sensetive \n",
    "print(temp_str.count(\"Hello\"))\n",
    "print(temp_str.count(\"HeLLo\"))"
   ]
  },
  {
   "cell_type": "code",
   "execution_count": null,
   "metadata": {},
   "outputs": [],
   "source": [
    "# count(value, start, end) \n",
    "temp_str3 = \"hello world how is it going? hello all good\"\n",
    "print(temp_str3.count('hello',))\n",
    "print(temp_str3.count('hello',2))"
   ]
  },
  {
   "cell_type": "code",
   "execution_count": null,
   "metadata": {},
   "outputs": [],
   "source": [
    "# returns True or False on the basis of Suffix passed.\n",
    "temp_str4 = \"hello world how is it going? hello all good\"\n",
    "print(temp_str4.endswith(\"good\"))\n",
    "print(temp_str4.endswith(\"good!\"))"
   ]
  },
  {
   "cell_type": "code",
   "execution_count": null,
   "metadata": {},
   "outputs": [],
   "source": [
    "# endswith (value, start, stop) stop is the length not index position\n",
    "print(temp_str4.endswith(\"o\", 0, 5))\n",
    "print(temp_str4.endswith(\"goo\", 0, 5))\n",
    "print(temp_str4.endswith(\"goo\", 0, len(temp_str4)-1))\n",
    "print(temp_str4.endswith(\"good\", 0, len(temp_str4)))\n"
   ]
  },
  {
   "cell_type": "code",
   "execution_count": null,
   "metadata": {},
   "outputs": [],
   "source": [
    "#returns lowest index of the substreing if found else returns -1\n",
    "temp_str = \"hello world how is it going? hello all good! how are you?\"\n",
    "print(temp_str.find(\"how\"))\n",
    "print(temp_str.find(\"is\"))"
   ]
  },
  {
   "cell_type": "code",
   "execution_count": null,
   "metadata": {},
   "outputs": [],
   "source": [
    "temp_str = \"Hello my name is {fname}, I am a {position}!\"\n",
    "print(temp_str.format(fname=\"Govinda\", position='ML Engineer'))\n"
   ]
  },
  {
   "cell_type": "code",
   "execution_count": null,
   "metadata": {},
   "outputs": [],
   "source": [
    "temp_str = \"Hello my name is {0}, I am a {1}!\"\n",
    "temp_str.format(\"Govinda\",'ML Engineer')"
   ]
  },
  {
   "cell_type": "markdown",
   "metadata": {},
   "source": [
    "temp_str.index('Hello')\n",
    "temp_str.index('is')"
   ]
  },
  {
   "cell_type": "code",
   "execution_count": null,
   "metadata": {},
   "outputs": [],
   "source": [
    "temp_str.isalnum()"
   ]
  },
  {
   "cell_type": "code",
   "execution_count": null,
   "metadata": {},
   "outputs": [],
   "source": [
    "temp_str.isalpha()"
   ]
  },
  {
   "cell_type": "markdown",
   "metadata": {},
   "source": [
    "## Slicing and splicing\n",
    "\n",
    "## String[start (index):stop (index-1):step], stop is the length not index position"
   ]
  },
  {
   "cell_type": "code",
   "execution_count": null,
   "metadata": {},
   "outputs": [],
   "source": [
    "str1= 'Pappa Peg Prefer Python Programing'\n",
    "print(str1)"
   ]
  },
  {
   "cell_type": "code",
   "execution_count": null,
   "metadata": {},
   "outputs": [],
   "source": [
    "str1[0:5], str1[6:9], str1[10:16], str1[17:23], str1[24:]"
   ]
  },
  {
   "cell_type": "code",
   "execution_count": null,
   "metadata": {},
   "outputs": [],
   "source": [
    "str1[4::-1], str1[8:5:-1], str1[15:9:-1], str1[22:16:-1], str1[:23:-1]"
   ]
  },
  {
   "cell_type": "code",
   "execution_count": null,
   "metadata": {},
   "outputs": [],
   "source": [
    "str1[-34:-29], str1[-24:-18], str1[-17:-11:], str1[-11::]"
   ]
  },
  {
   "cell_type": "code",
   "execution_count": null,
   "metadata": {},
   "outputs": [],
   "source": [
    "lst1= ['apple', 'orange', \"fig\", \"cherrie\", 'grapes']\n",
    "print(lst1)"
   ]
  },
  {
   "cell_type": "code",
   "execution_count": null,
   "metadata": {},
   "outputs": [],
   "source": [
    "print(lst1[:])\n",
    "print(lst1[:3])\n",
    "print(lst1[::-1])\n",
    "print(lst1[2:])\n",
    "print(lst1[2::-1])\n",
    "print(lst1[2::])\n",
    "print(lst1[-1::-1])\n",
    "print(lst1[4::-1])\n",
    "print(lst1[:len(str1)])\n",
    "print(lst1[:5])"
   ]
  },
  {
   "cell_type": "code",
   "execution_count": null,
   "metadata": {},
   "outputs": [],
   "source": [
    "lst2=['dog', 1, 'cat', 'horse', 'sheep', 'goat', 12, 'monkey']\n",
    "print(lst2[0:5:1]) # positive indexing positive slicing \n",
    "print(lst2[7::-1]) # positive indexing negative slicing \n",
    "print(lst2[-7::])  # negative indexing positive slicing \n",
    "print(lst2[-1:-6:-1]) # negative indexing negative slicing \n"
   ]
  },
  {
   "cell_type": "code",
   "execution_count": null,
   "metadata": {},
   "outputs": [],
   "source": [
    "# Try it with tupple\n",
    "tupl1=(1, 2, 'apple', 'pear', 22, 17)\n",
    "print(tupl1)\n",
    "print(tupl1[0:4])\n",
    "print(tupl1[::-1])\n",
    "print(tupl1[-1::-1])\n",
    "print(tupl1[-1:-6:-1])\n"
   ]
  },
  {
   "cell_type": "code",
   "execution_count": null,
   "metadata": {},
   "outputs": [],
   "source": [
    "# converting list to tuple\n",
    "tupl2 = tuple(lst2)\n",
    "print(tupl2)"
   ]
  },
  {
   "cell_type": "code",
   "execution_count": null,
   "metadata": {},
   "outputs": [],
   "source": [
    "print(tupl2[0:5:1]) # positive indexing positive slicing \n",
    "print(tupl2[7::-1]) # positive indexing negative slicing \n",
    "print(tupl2[-7::])  # negative indexing positive slicing \n",
    "print(tupl2[-1:-6:-1]) # negative indexing negative slicing "
   ]
  },
  {
   "cell_type": "code",
   "execution_count": null,
   "metadata": {},
   "outputs": [],
   "source": [
    "# returns true if only numbers between 0-9 else returns false \n",
    "temp_str = '\\u00B2'\n",
    "print('km\\u00B2')\n",
    "print(temp_str.isdecimal())\n",
    "print(temp_str.isdigit())"
   ]
  },
  {
   "cell_type": "code",
   "execution_count": null,
   "metadata": {},
   "outputs": [],
   "source": [
    "#Join function, iterables are list, tuple, dictionary, set \n",
    "list_temp= ['Hello', 'World', 'How', 'Are', 'You']\n",
    "print('!'.join(list_temp))\n",
    "print(' '.join(list_temp))\n",
    "print('5'.join(list_temp))"
   ]
  },
  {
   "cell_type": "code",
   "execution_count": null,
   "metadata": {},
   "outputs": [],
   "source": [
    "temp_str= 'Hello World'\n",
    "print(temp_str.lower())     #lower()\n",
    "print(temp_str.casefold())  #casefold()\n",
    "print(temp_str.upper())  "
   ]
  },
  {
   "cell_type": "code",
   "execution_count": null,
   "metadata": {},
   "outputs": [],
   "source": [
    "temp_str= \"     Hello World     \"\n",
    "print(temp_str.lstrip())\n",
    "print(temp_str.rstrip())\n",
    "print(temp_str.strip())"
   ]
  },
  {
   "cell_type": "code",
   "execution_count": null,
   "metadata": {},
   "outputs": [],
   "source": [
    "temp_str = \" I could eat apples all day\"\n",
    "print(temp_str.partition(\"apples\"))\n",
    "print(temp_str.partition(\"apples1\"))"
   ]
  },
  {
   "cell_type": "code",
   "execution_count": null,
   "metadata": {},
   "outputs": [],
   "source": [
    "temp_str = \"I could eat apples all day, all of them has to be delicious\"\n",
    "print(temp_str.replace('all', 'some'))\n",
    "print(temp_str.replace('all', 'none').replace('apples', 'Pizza'))"
   ]
  },
  {
   "cell_type": "code",
   "execution_count": null,
   "metadata": {},
   "outputs": [],
   "source": [
    "print(temp_str.split())\n",
    "print(temp_str.split(','))\n",
    "print(temp_str.split('all'))\n",
    "print(temp_str.split('all'), temp_str.split('has'))\n"
   ]
  },
  {
   "cell_type": "code",
   "execution_count": null,
   "metadata": {},
   "outputs": [],
   "source": [
    "# Dictionary\n",
    "temp_str= {83:80, 83:70} # only keeps the latest value pair)\n",
    "print(temp_str)\n"
   ]
  },
  {
   "cell_type": "code",
   "execution_count": null,
   "metadata": {},
   "outputs": [],
   "source": [
    "temp_str={'brand':'Toyota', 'Model':'Camry', 'year':2015, 'year':2020}\n",
    "print(temp_str)\n",
    "print(temp_str['brand'])\n",
    "print(temp_str['brand'], temp_str['Model'])\n"
   ]
  },
  {
   "cell_type": "markdown",
   "metadata": {},
   "source": [
    "## Basic Python Operators"
   ]
  },
  {
   "cell_type": "code",
   "execution_count": null,
   "metadata": {},
   "outputs": [],
   "source": [
    "#arithmetic operators \n",
    "a= 105\n",
    "b= 20\n",
    "\n",
    "print(a+b)\n",
    "print(a-b)\n",
    "print(a/b)\n",
    "print(a%b) #modulous or remainder after devision\n",
    "print(a//b) #quotient \n",
    "print(a**b) # exponential \n"
   ]
  },
  {
   "cell_type": "code",
   "execution_count": null,
   "metadata": {},
   "outputs": [],
   "source": [
    "#comparision operators\n",
    "print(a==b)\n",
    "print(a!=b)\n",
    "print(a>b)\n",
    "print(a<b)\n",
    "print(a<=b)\n",
    "print(a>=b)"
   ]
  },
  {
   "cell_type": "code",
   "execution_count": null,
   "metadata": {},
   "outputs": [],
   "source": [
    "#Asociate operators \n",
    "\n",
    "# a= a+b =>a+=b\n",
    "\n",
    "a+=b\n",
    "print(a, b)\n",
    "a-=b\n",
    "print(a, b)\n",
    "a/=b\n",
    "print(a, b)\n",
    "\n",
    "a//=b\n",
    "print(a, b)\n",
    "\n",
    "a%=b\n",
    "print(a, b)\n"
   ]
  },
  {
   "cell_type": "markdown",
   "metadata": {},
   "source": [
    "## Python Logical Operators "
   ]
  },
  {
   "cell_type": "code",
   "execution_count": null,
   "metadata": {},
   "outputs": [],
   "source": [
    "# In case of and operators both condition has to be true for or operaters only one condition has to be true\n",
    "\n",
    "a=10\n",
    "b=30\n",
    "\n",
    "print( a>10 and b>20)\n",
    "print (a>10 or b>20 )"
   ]
  },
  {
   "cell_type": "markdown",
   "metadata": {},
   "source": [
    "## Membership operators "
   ]
  },
  {
   "cell_type": "code",
   "execution_count": null,
   "metadata": {},
   "outputs": [],
   "source": [
    "a= 100\n",
    "b = [100, 200, 300, 400,500]\n",
    "\n",
    "a in b"
   ]
  },
  {
   "cell_type": "code",
   "execution_count": null,
   "metadata": {},
   "outputs": [],
   "source": [
    "a not in b"
   ]
  },
  {
   "cell_type": "code",
   "execution_count": null,
   "metadata": {},
   "outputs": [],
   "source": [
    "a=600\n",
    "b = [100, 200, 300, 400, 500]\n",
    "\n",
    "a not in b"
   ]
  },
  {
   "cell_type": "markdown",
   "metadata": {},
   "source": [
    "## Identitiy Operators"
   ]
  },
  {
   "cell_type": "code",
   "execution_count": null,
   "metadata": {},
   "outputs": [],
   "source": [
    "a=2\n",
    "b=4\n",
    "\n",
    "a is not b\n",
    "a is b"
   ]
  },
  {
   "cell_type": "markdown",
   "metadata": {},
   "source": [
    "## IF statement "
   ]
  },
  {
   "cell_type": "code",
   "execution_count": null,
   "metadata": {},
   "outputs": [],
   "source": [
    "a = 200\n",
    "b = 30\n",
    "if a<b: \n",
    "    print( 'a is geater than b')\n",
    "else:\n",
    "    print('a is less than b')"
   ]
  },
  {
   "cell_type": "code",
   "execution_count": null,
   "metadata": {},
   "outputs": [],
   "source": [
    "if (a>b) or (a>b):      # for 'or' either condition  has to be true to execute downstream codes\n",
    "    print('Hello World!')"
   ]
  },
  {
   "cell_type": "code",
   "execution_count": null,
   "metadata": {},
   "outputs": [],
   "source": [
    "def new_func():\n",
    "    if (a>b) or (a==b):\n",
    "        print('Hello World!')\n",
    "\n",
    "new_func()"
   ]
  },
  {
   "cell_type": "code",
   "execution_count": null,
   "metadata": {},
   "outputs": [],
   "source": [
    "if (a>b) or (a!=b):\n",
    "    print('Hello World!')"
   ]
  },
  {
   "cell_type": "code",
   "execution_count": null,
   "metadata": {},
   "outputs": [],
   "source": [
    "if (a>b) and (a==b):   #for 'and' both condition have to be true to execute downstream code\n",
    "    print('Hello World!')"
   ]
  },
  {
   "cell_type": "code",
   "execution_count": null,
   "metadata": {},
   "outputs": [],
   "source": [
    "if (a>b) and (a!=b):\n",
    "    print('Hello World!')"
   ]
  },
  {
   "cell_type": "code",
   "execution_count": 1,
   "metadata": {},
   "outputs": [
    {
     "ename": "ValueError",
     "evalue": "could not convert string to float: ''",
     "output_type": "error",
     "traceback": [
      "\u001b[0;31m---------------------------------------------------------------------------\u001b[0m",
      "\u001b[0;31mValueError\u001b[0m                                Traceback (most recent call last)",
      "Cell \u001b[0;32mIn[1], line 1\u001b[0m\n\u001b[0;32m----> 1\u001b[0m percentage \u001b[38;5;241m=\u001b[39m \u001b[38;5;28;43mfloat\u001b[39;49m\u001b[43m(\u001b[49m\u001b[38;5;28;43minput\u001b[39;49m\u001b[43m(\u001b[49m\u001b[38;5;124;43m\"\u001b[39;49m\u001b[38;5;124;43mEnter your percentage: \u001b[39;49m\u001b[38;5;124;43m\"\u001b[39;49m\u001b[43m)\u001b[49m\u001b[43m)\u001b[49m\n\u001b[1;32m      3\u001b[0m \u001b[38;5;28;01mif\u001b[39;00m percentage \u001b[38;5;241m>\u001b[39m\u001b[38;5;241m=\u001b[39m \u001b[38;5;241m80\u001b[39m:\n\u001b[1;32m      4\u001b[0m         \u001b[38;5;28mprint\u001b[39m(\u001b[38;5;124m\"\u001b[39m\u001b[38;5;124mHigher Distinction\u001b[39m\u001b[38;5;124m\"\u001b[39m)\n",
      "\u001b[0;31mValueError\u001b[0m: could not convert string to float: ''"
     ]
    }
   ],
   "source": [
    "percentage = float(input(\"Enter your percentage: \"))\n",
    "\n",
    "if percentage >= 80:\n",
    "        print(\"Higher Distinction\")\n",
    "elif 75 <= percentage < 80:\n",
    "        print(\"Distinction\")\n",
    "elif 60 <= percentage < 75:\n",
    "        print(\"First Division\")\n",
    "elif 32 <= percentage < 60:\n",
    "        print(\"Pass\")\n",
    "else:\n",
    "        print(\"Fail\")\n"
   ]
  }
 ],
 "metadata": {
  "kernelspec": {
   "display_name": "Python 3",
   "language": "python",
   "name": "python3"
  },
  "language_info": {
   "codemirror_mode": {
    "name": "ipython",
    "version": 3
   },
   "file_extension": ".py",
   "mimetype": "text/x-python",
   "name": "python",
   "nbconvert_exporter": "python",
   "pygments_lexer": "ipython3",
   "version": "3.11.4"
  }
 },
 "nbformat": 4,
 "nbformat_minor": 2
}
