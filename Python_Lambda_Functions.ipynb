{
  "nbformat": 4,
  "nbformat_minor": 0,
  "metadata": {
    "colab": {
      "provenance": [],
      "authorship_tag": "ABX9TyN27+QiYGiE+CpEY+CadvvL",
      "include_colab_link": true
    },
    "kernelspec": {
      "name": "python3",
      "display_name": "Python 3"
    },
    "language_info": {
      "name": "python"
    }
  },
  "cells": [
    {
      "cell_type": "markdown",
      "metadata": {
        "id": "view-in-github",
        "colab_type": "text"
      },
      "source": [
        "<a href=\"https://colab.research.google.com/github/gplinkage/Core-Python/blob/main/Python_Lambda_Functions.ipynb\" target=\"_parent\"><img src=\"https://colab.research.google.com/assets/colab-badge.svg\" alt=\"Open In Colab\"/></a>"
      ]
    },
    {
      "cell_type": "code",
      "source": [
        "x = lambda a: a+10\n",
        "print(x(10))"
      ],
      "metadata": {
        "colab": {
          "base_uri": "https://localhost:8080/"
        },
        "id": "4D3Vl0fdy0i7",
        "outputId": "354cff78-f5eb-411f-add0-3451ddbbd0ea"
      },
      "execution_count": 2,
      "outputs": [
        {
          "output_type": "stream",
          "name": "stdout",
          "text": [
            "20\n"
          ]
        }
      ]
    },
    {
      "cell_type": "code",
      "source": [
        "x = lambda a, b: a*b\n",
        "print(x(2, 3))"
      ],
      "metadata": {
        "colab": {
          "base_uri": "https://localhost:8080/"
        },
        "id": "qkQj-ZnFzPl2",
        "outputId": "ce12721c-adf4-4885-b6c1-956914c87c6c"
      },
      "execution_count": 3,
      "outputs": [
        {
          "output_type": "stream",
          "name": "stdout",
          "text": [
            "6\n"
          ]
        }
      ]
    },
    {
      "cell_type": "code",
      "source": [
        "x = lambda a: a**2\n",
        "print(x(2))"
      ],
      "metadata": {
        "colab": {
          "base_uri": "https://localhost:8080/"
        },
        "id": "AdA_BdVY1T5H",
        "outputId": "f38dac85-9b91-4c42-daa5-8a2375cf77a2"
      },
      "execution_count": 5,
      "outputs": [
        {
          "output_type": "stream",
          "name": "stdout",
          "text": [
            "4\n"
          ]
        }
      ]
    },
    {
      "cell_type": "code",
      "source": [
        "x = lambda a, b: a+b\n",
        "print(x(2,3))"
      ],
      "metadata": {
        "colab": {
          "base_uri": "https://localhost:8080/"
        },
        "id": "h9F7BRaV34Np",
        "outputId": "6af208b6-a457-4875-f647-36223410547b"
      },
      "execution_count": 6,
      "outputs": [
        {
          "output_type": "stream",
          "name": "stdout",
          "text": [
            "5\n"
          ]
        }
      ]
    },
    {
      "cell_type": "code",
      "source": [
        "Max = lambda a, b: a if (a>b) else b\n",
        "print(Max(12,120))"
      ],
      "metadata": {
        "colab": {
          "base_uri": "https://localhost:8080/"
        },
        "id": "6AIu-RbZ4NHK",
        "outputId": "3e5ca96a-a3d8-4e22-8d74-9b72f4339eea"
      },
      "execution_count": 8,
      "outputs": [
        {
          "output_type": "stream",
          "name": "stdout",
          "text": [
            "120\n"
          ]
        }
      ]
    },
    {
      "cell_type": "code",
      "source": [
        "max = lambda a, b, c: a if (a > b) and (a > c) else (b if (b > a) and (b > c) else c)\n",
        "print(max(13, 22, 8))\n"
      ],
      "metadata": {
        "colab": {
          "base_uri": "https://localhost:8080/"
        },
        "id": "sPa53uB84rPU",
        "outputId": "63e6fd4d-28b7-497c-e6be-44a2e4ed56ff"
      },
      "execution_count": 12,
      "outputs": [
        {
          "output_type": "stream",
          "name": "stdout",
          "text": [
            "22\n"
          ]
        }
      ]
    },
    {
      "cell_type": "code",
      "source": [
        "result = lambda x, y: f'{x} is smaller than {y}'\\\n",
        "if x<y else (f'{x} is greater than {y}' if x>y\\\n",
        "             else f'{x} is equal to {y}')\n",
        "\n",
        "print(result(12, 11))\n",
        "print(result(12, 12))\n",
        "print(result(12, 13))"
      ],
      "metadata": {
        "colab": {
          "base_uri": "https://localhost:8080/"
        },
        "id": "kOzwVEGh6WYW",
        "outputId": "c95caaec-a10b-49e7-f489-0c070aab5bcb"
      },
      "execution_count": 13,
      "outputs": [
        {
          "output_type": "stream",
          "name": "stdout",
          "text": [
            "12 is greater than 11\n",
            "12 is equal to 12\n",
            "12 is smaller than 13\n"
          ]
        }
      ]
    },
    {
      "cell_type": "code",
      "source": [
        "result = lambda  x, y: f'{x} is greater than {y}' if x>y else (f'{x} is smaller then {y}' if x < y else f'{x} is equal to {y}')\n",
        "\n",
        "print(result(2, 1))\n",
        "print(result(2, 2))\n",
        "print(result(2, 3))"
      ],
      "metadata": {
        "colab": {
          "base_uri": "https://localhost:8080/"
        },
        "id": "JzFtVG06_Ddr",
        "outputId": "abd4fdaa-3913-40e4-d464-8a34a1919f4e"
      },
      "execution_count": 14,
      "outputs": [
        {
          "output_type": "stream",
          "name": "stdout",
          "text": [
            "2 is greater than 1\n",
            "2 is equal to 2\n",
            "2 is smaller then 3\n"
          ]
        }
      ]
    }
  ]
}