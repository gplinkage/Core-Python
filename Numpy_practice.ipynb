{
  "nbformat": 4,
  "nbformat_minor": 0,
  "metadata": {
    "colab": {
      "provenance": [],
      "authorship_tag": "ABX9TyO7vbLDnMiAtaAmPkLPzK4D",
      "include_colab_link": true
    },
    "kernelspec": {
      "name": "python3",
      "display_name": "Python 3"
    },
    "language_info": {
      "name": "python"
    }
  },
  "cells": [
    {
      "cell_type": "markdown",
      "metadata": {
        "id": "view-in-github",
        "colab_type": "text"
      },
      "source": [
        "<a href=\"https://colab.research.google.com/github/gplinkage/Core-Python/blob/main/Numpy_practice.ipynb\" target=\"_parent\"><img src=\"https://colab.research.google.com/assets/colab-badge.svg\" alt=\"Open In Colab\"/></a>"
      ]
    },
    {
      "cell_type": "code",
      "execution_count": 1,
      "metadata": {
        "id": "h3fzs0Y4KhjP"
      },
      "outputs": [],
      "source": [
        "import numpy as np\n"
      ]
    },
    {
      "cell_type": "code",
      "source": [
        "array = np.array([1, 2, 3, 4, 5 ,6])\n",
        "print(array)"
      ],
      "metadata": {
        "colab": {
          "base_uri": "https://localhost:8080/",
          "height": 0
        },
        "id": "JZNbNtPBK7RA",
        "outputId": "18f80932-add5-42c1-8d60-6f4f86dbcd62"
      },
      "execution_count": 5,
      "outputs": [
        {
          "output_type": "stream",
          "name": "stdout",
          "text": [
            "[1 2 3 4 5 6]\n"
          ]
        }
      ]
    },
    {
      "cell_type": "code",
      "source": [
        "print (np.__version__)"
      ],
      "metadata": {
        "colab": {
          "base_uri": "https://localhost:8080/",
          "height": 0
        },
        "id": "lGXIfUQ_LNe3",
        "outputId": "8b31e1b0-cc60-4642-96d6-517b4102bedf"
      },
      "execution_count": 6,
      "outputs": [
        {
          "output_type": "stream",
          "name": "stdout",
          "text": [
            "1.26.4\n"
          ]
        }
      ]
    },
    {
      "cell_type": "code",
      "source": [
        "import pandas as pd\n"
      ],
      "metadata": {
        "id": "oY3ha7Q6LZbT"
      },
      "execution_count": 7,
      "outputs": []
    },
    {
      "cell_type": "code",
      "source": [
        "print(pd.__version__)"
      ],
      "metadata": {
        "colab": {
          "base_uri": "https://localhost:8080/",
          "height": 0
        },
        "id": "Vi7SLIFZLcDU",
        "outputId": "90f730fe-f89f-4684-f248-97a61733ad83"
      },
      "execution_count": 8,
      "outputs": [
        {
          "output_type": "stream",
          "name": "stdout",
          "text": [
            "2.2.2\n"
          ]
        }
      ]
    },
    {
      "cell_type": "code",
      "source": [
        "v = np.zeros(10)\n",
        "print(v)"
      ],
      "metadata": {
        "colab": {
          "base_uri": "https://localhost:8080/",
          "height": 0
        },
        "id": "irf8pTTXLg-q",
        "outputId": "889d6bf3-4442-4465-e5fd-37be73441fa9"
      },
      "execution_count": 9,
      "outputs": [
        {
          "output_type": "stream",
          "name": "stdout",
          "text": [
            "[0. 0. 0. 0. 0. 0. 0. 0. 0. 0.]\n"
          ]
        }
      ]
    },
    {
      "cell_type": "code",
      "source": [
        "print ('%d bytes'%(v.size * v.itemsize))"
      ],
      "metadata": {
        "colab": {
          "base_uri": "https://localhost:8080/",
          "height": 0
        },
        "id": "JwPiAGd7LuKK",
        "outputId": "4276fa36-2aec-49dc-97aa-9bd85284e0bc"
      },
      "execution_count": 12,
      "outputs": [
        {
          "output_type": "stream",
          "name": "stdout",
          "text": [
            "80 bytes\n"
          ]
        }
      ]
    },
    {
      "cell_type": "code",
      "source": [
        "import numpy\n",
        "numpy.info(numpy.add)"
      ],
      "metadata": {
        "colab": {
          "base_uri": "https://localhost:8080/",
          "height": 0
        },
        "id": "KbroG0wBME_f",
        "outputId": "85f967ed-be3b-40b1-f9d9-e4994b9dcaef"
      },
      "execution_count": 15,
      "outputs": [
        {
          "output_type": "stream",
          "name": "stdout",
          "text": [
            "add(x1, x2, /, out=None, *, where=True, casting='same_kind', order='K', dtype=None, subok=True[, signature, extobj])\n",
            "\n",
            "Add arguments element-wise.\n",
            "\n",
            "Parameters\n",
            "----------\n",
            "x1, x2 : array_like\n",
            "    The arrays to be added.\n",
            "    If ``x1.shape != x2.shape``, they must be broadcastable to a common\n",
            "    shape (which becomes the shape of the output).\n",
            "out : ndarray, None, or tuple of ndarray and None, optional\n",
            "    A location into which the result is stored. If provided, it must have\n",
            "    a shape that the inputs broadcast to. If not provided or None,\n",
            "    a freshly-allocated array is returned. A tuple (possible only as a\n",
            "    keyword argument) must have length equal to the number of outputs.\n",
            "where : array_like, optional\n",
            "    This condition is broadcast over the input. At locations where the\n",
            "    condition is True, the `out` array will be set to the ufunc result.\n",
            "    Elsewhere, the `out` array will retain its original value.\n",
            "    Note that if an uninitialized `out` array is created via the default\n",
            "    ``out=None``, locations within it where the condition is False will\n",
            "    remain uninitialized.\n",
            "**kwargs\n",
            "    For other keyword-only arguments, see the\n",
            "    :ref:`ufunc docs <ufuncs.kwargs>`.\n",
            "\n",
            "Returns\n",
            "-------\n",
            "add : ndarray or scalar\n",
            "    The sum of `x1` and `x2`, element-wise.\n",
            "    This is a scalar if both `x1` and `x2` are scalars.\n",
            "\n",
            "Notes\n",
            "-----\n",
            "Equivalent to `x1` + `x2` in terms of array broadcasting.\n",
            "\n",
            "Examples\n",
            "--------\n",
            ">>> np.add(1.0, 4.0)\n",
            "5.0\n",
            ">>> x1 = np.arange(9.0).reshape((3, 3))\n",
            ">>> x2 = np.arange(3.0)\n",
            ">>> np.add(x1, x2)\n",
            "array([[  0.,   2.,   4.],\n",
            "       [  3.,   5.,   7.],\n",
            "       [  6.,   8.,  10.]])\n",
            "\n",
            "The ``+`` operator can be used as a shorthand for ``np.add`` on ndarrays.\n",
            "\n",
            ">>> x1 = np.arange(9.0).reshape((3, 3))\n",
            ">>> x2 = np.arange(3.0)\n",
            ">>> x1 + x2\n",
            "array([[ 0.,  2.,  4.],\n",
            "       [ 3.,  5.,  7.],\n",
            "       [ 6.,  8., 10.]])\n"
          ]
        }
      ]
    },
    {
      "cell_type": "code",
      "source": [
        " v= np.zeros(10)\n",
        " print(v)"
      ],
      "metadata": {
        "colab": {
          "base_uri": "https://localhost:8080/",
          "height": 0
        },
        "id": "T-45xHdnMWll",
        "outputId": "3258a1ac-babc-4ca1-ff87-3fd1477c2035"
      },
      "execution_count": 16,
      "outputs": [
        {
          "output_type": "stream",
          "name": "stdout",
          "text": [
            "[0. 0. 0. 0. 0. 0. 0. 0. 0. 0.]\n"
          ]
        }
      ]
    },
    {
      "cell_type": "code",
      "source": [
        "v[5]=1\n",
        "print(v)"
      ],
      "metadata": {
        "colab": {
          "base_uri": "https://localhost:8080/",
          "height": 0
        },
        "id": "VvoCwqlMMjlH",
        "outputId": "272e9199-4607-4b30-a478-c9853c4f16c8"
      },
      "execution_count": 17,
      "outputs": [
        {
          "output_type": "stream",
          "name": "stdout",
          "text": [
            "[0. 0. 0. 0. 0. 1. 0. 0. 0. 0.]\n"
          ]
        }
      ]
    },
    {
      "cell_type": "code",
      "source": [
        "v = np.arange(10, 30, 2)\n",
        "print(v)"
      ],
      "metadata": {
        "colab": {
          "base_uri": "https://localhost:8080/",
          "height": 0
        },
        "id": "Eb6C2GASMsPl",
        "outputId": "48d37689-0527-4826-afa8-a3e2aac71f9e"
      },
      "execution_count": 22,
      "outputs": [
        {
          "output_type": "stream",
          "name": "stdout",
          "text": [
            "[10 12 14 16 18 20 22 24 26 28]\n"
          ]
        }
      ]
    },
    {
      "cell_type": "code",
      "source": [
        "v= v[::-1]\n",
        "print(v)"
      ],
      "metadata": {
        "colab": {
          "base_uri": "https://localhost:8080/",
          "height": 0
        },
        "id": "evddvHJdM82F",
        "outputId": "09ed1e3c-6ef2-48ef-fa07-71a4905fac37"
      },
      "execution_count": 25,
      "outputs": [
        {
          "output_type": "stream",
          "name": "stdout",
          "text": [
            "[28 26 24 22 20 18 16 14 12 10]\n"
          ]
        }
      ]
    },
    {
      "cell_type": "code",
      "source": [
        "v = np.arange(9).reshape(3,3)\n",
        "print(v)"
      ],
      "metadata": {
        "colab": {
          "base_uri": "https://localhost:8080/",
          "height": 0
        },
        "id": "X743sxEJNKVp",
        "outputId": "15cb16ed-e879-4631-daf7-1be690b5ebfa"
      },
      "execution_count": 27,
      "outputs": [
        {
          "output_type": "stream",
          "name": "stdout",
          "text": [
            "[[0 1 2]\n",
            " [3 4 5]\n",
            " [6 7 8]]\n"
          ]
        }
      ]
    },
    {
      "cell_type": "code",
      "source": [
        "nz= np.nonzero([1, 2, 4, 5, 0, 2, 0, 43, 56, 100])\n",
        "print(nz)"
      ],
      "metadata": {
        "colab": {
          "base_uri": "https://localhost:8080/",
          "height": 0
        },
        "id": "wW-OiKXxNUbQ",
        "outputId": "8be00189-6ff1-4f22-ae37-3e647d289c6a"
      },
      "execution_count": 29,
      "outputs": [
        {
          "output_type": "stream",
          "name": "stdout",
          "text": [
            "(array([0, 1, 2, 3, 5, 7, 8, 9]),)\n"
          ]
        }
      ]
    },
    {
      "cell_type": "code",
      "source": [
        "v = np.eye(5)\n",
        "print (v)"
      ],
      "metadata": {
        "colab": {
          "base_uri": "https://localhost:8080/",
          "height": 0
        },
        "id": "pXH4GqaFNnY8",
        "outputId": "ae870867-e341-4e19-ae77-e86cac2ba34d"
      },
      "execution_count": 30,
      "outputs": [
        {
          "output_type": "stream",
          "name": "stdout",
          "text": [
            "[[1. 0. 0. 0. 0.]\n",
            " [0. 1. 0. 0. 0.]\n",
            " [0. 0. 1. 0. 0.]\n",
            " [0. 0. 0. 1. 0.]\n",
            " [0. 0. 0. 0. 1.]]\n"
          ]
        }
      ]
    },
    {
      "cell_type": "code",
      "source": [
        "v = np.random.random(10)\n",
        "v"
      ],
      "metadata": {
        "colab": {
          "base_uri": "https://localhost:8080/"
        },
        "id": "LJVjQBfwO9l1",
        "outputId": "5f633ef7-458f-4a33-aacc-fbeafcafce71"
      },
      "execution_count": 36,
      "outputs": [
        {
          "output_type": "execute_result",
          "data": {
            "text/plain": [
              "array([0.42517974, 0.64579602, 0.2618613 , 0.93442287, 0.10447883,\n",
              "       0.45857167, 0.18319023, 0.02267018, 0.23127947, 0.66108487])"
            ]
          },
          "metadata": {},
          "execution_count": 36
        }
      ]
    },
    {
      "cell_type": "code",
      "source": [
        "v = np.random.random((10,10))\n",
        "print(v)"
      ],
      "metadata": {
        "colab": {
          "base_uri": "https://localhost:8080/"
        },
        "id": "gvu4_sI3O-rs",
        "outputId": "abf5386c-3cdd-489e-83ed-f09bfa9097dc"
      },
      "execution_count": 37,
      "outputs": [
        {
          "output_type": "stream",
          "name": "stdout",
          "text": [
            "[[0.28077517 0.31964019 0.62489741 0.10527323 0.40368118 0.42376672\n",
            "  0.22058538 0.4694834  0.49323069 0.89000861]\n",
            " [0.77606552 0.88578228 0.60548509 0.290882   0.43572033 0.41814839\n",
            "  0.45285999 0.34584885 0.77101805 0.4965358 ]\n",
            " [0.91974457 0.56301812 0.53038489 0.18964354 0.53868523 0.79249134\n",
            "  0.29903861 0.38069715 0.23441545 0.19582771]\n",
            " [0.81884278 0.00119187 0.79317966 0.68703584 0.04631473 0.91002078\n",
            "  0.44799455 0.43352481 0.79859193 0.51354341]\n",
            " [0.16179677 0.82709451 0.90138964 0.9586253  0.99582939 0.53890633\n",
            "  0.28214918 0.85064307 0.85066358 0.66653414]\n",
            " [0.79268639 0.23674377 0.17403487 0.39030161 0.36694926 0.88433831\n",
            "  0.12630262 0.05648347 0.66633683 0.2936839 ]\n",
            " [0.04463119 0.29423912 0.11813079 0.24215626 0.7702251  0.08513214\n",
            "  0.11423039 0.34005032 0.21954997 0.95576956]\n",
            " [0.71630547 0.78753654 0.00111025 0.99849281 0.6862545  0.58529433\n",
            "  0.08988021 0.34770084 0.34939353 0.24878915]\n",
            " [0.57963534 0.34539848 0.44453844 0.50146256 0.25795498 0.26969028\n",
            "  0.83159094 0.96219427 0.4950935  0.69107731]\n",
            " [0.03392794 0.05022536 0.98440408 0.42574116 0.06464326 0.60681698\n",
            "  0.74243255 0.58316137 0.81741199 0.12957795]]\n"
          ]
        }
      ]
    },
    {
      "cell_type": "code",
      "source": [
        "v = np.random.random((10,10,3))\n",
        "print(v)"
      ],
      "metadata": {
        "colab": {
          "base_uri": "https://localhost:8080/"
        },
        "id": "0NJbsVLUP6gz",
        "outputId": "40099fef-3386-4c82-ef7b-5301ba486f83"
      },
      "execution_count": 44,
      "outputs": [
        {
          "output_type": "stream",
          "name": "stdout",
          "text": [
            "[[[0.9955989  0.49452939 0.65897213]\n",
            "  [0.00462797 0.36657953 0.89532328]\n",
            "  [0.67066913 0.72445124 0.81360756]\n",
            "  [0.1051139  0.31861246 0.97329543]\n",
            "  [0.66892595 0.08388148 0.260695  ]\n",
            "  [0.88571536 0.71208736 0.55175399]\n",
            "  [0.50077523 0.70304636 0.88822255]\n",
            "  [0.5484004  0.33604581 0.35420145]\n",
            "  [0.68842456 0.69211142 0.65376469]\n",
            "  [0.74352145 0.39548759 0.10913827]]\n",
            "\n",
            " [[0.65527347 0.32711815 0.58403097]\n",
            "  [0.67537961 0.6540518  0.21831121]\n",
            "  [0.99292436 0.86900117 0.742484  ]\n",
            "  [0.76178326 0.31205716 0.20418784]\n",
            "  [0.83092779 0.18688079 0.37230109]\n",
            "  [0.73216013 0.18985544 0.64680142]\n",
            "  [0.42732428 0.76050324 0.9474642 ]\n",
            "  [0.96881833 0.20773541 0.53643312]\n",
            "  [0.65507571 0.21282437 0.40623051]\n",
            "  [0.12446372 0.32592154 0.04984413]]\n",
            "\n",
            " [[0.28142923 0.4930334  0.92656903]\n",
            "  [0.36460389 0.1881962  0.71421664]\n",
            "  [0.72545564 0.57575795 0.81143031]\n",
            "  [0.76730948 0.33301124 0.08669778]\n",
            "  [0.75413275 0.14382653 0.86100046]\n",
            "  [0.19668751 0.0608126  0.09242206]\n",
            "  [0.94718799 0.98939117 0.43268636]\n",
            "  [0.00314133 0.42680075 0.02570486]\n",
            "  [0.50779387 0.67030339 0.50852274]\n",
            "  [0.39342421 0.64694369 0.79485061]]\n",
            "\n",
            " [[0.89307086 0.67924528 0.24482941]\n",
            "  [0.94829591 0.26262442 0.11847413]\n",
            "  [0.42069843 0.15333554 0.32702264]\n",
            "  [0.6262116  0.93232056 0.57991999]\n",
            "  [0.96707804 0.88208447 0.11129377]\n",
            "  [0.96806984 0.57284097 0.75290633]\n",
            "  [0.39616162 0.08485381 0.60384073]\n",
            "  [0.23300575 0.91416217 0.46018853]\n",
            "  [0.23725338 0.28865128 0.26270316]\n",
            "  [0.30077117 0.99481611 0.14956976]]\n",
            "\n",
            " [[0.70023502 0.66524842 0.10558779]\n",
            "  [0.65422909 0.96034259 0.36276656]\n",
            "  [0.77427949 0.45607618 0.93832061]\n",
            "  [0.02495422 0.09655084 0.9786865 ]\n",
            "  [0.4836658  0.23926313 0.20734629]\n",
            "  [0.57552369 0.70086142 0.1539202 ]\n",
            "  [0.04485735 0.83592425 0.48326961]\n",
            "  [0.39651239 0.48426446 0.3424036 ]\n",
            "  [0.55327292 0.4538675  0.10287941]\n",
            "  [0.04672079 0.29946091 0.9991154 ]]\n",
            "\n",
            " [[0.09017962 0.12139905 0.48571554]\n",
            "  [0.18622297 0.21867205 0.00705533]\n",
            "  [0.26627506 0.97044319 0.47026129]\n",
            "  [0.83005277 0.31936405 0.36126702]\n",
            "  [0.66598096 0.15945259 0.98474591]\n",
            "  [0.54012591 0.92529779 0.05920324]\n",
            "  [0.65574763 0.53973305 0.72810456]\n",
            "  [0.28373975 0.43385727 0.62265592]\n",
            "  [0.11886274 0.44945853 0.01296673]\n",
            "  [0.1039774  0.61381794 0.02811247]]\n",
            "\n",
            " [[0.98714454 0.51711996 0.48430686]\n",
            "  [0.85885674 0.45054917 0.93202079]\n",
            "  [0.87151845 0.0209174  0.9365975 ]\n",
            "  [0.2646521  0.88292242 0.60219456]\n",
            "  [0.41734527 0.47666784 0.86541418]\n",
            "  [0.06511496 0.63070816 0.60154799]\n",
            "  [0.90620921 0.05312549 0.60544907]\n",
            "  [0.93280227 0.1261879  0.93505902]\n",
            "  [0.83979002 0.39904606 0.30382022]\n",
            "  [0.96516287 0.43952161 0.80435963]]\n",
            "\n",
            " [[0.91745302 0.36462728 0.34000145]\n",
            "  [0.61261318 0.65220155 0.09510891]\n",
            "  [0.86478268 0.3810028  0.95863365]\n",
            "  [0.93983523 0.94438879 0.44294087]\n",
            "  [0.22320726 0.8886234  0.5095744 ]\n",
            "  [0.24043922 0.97929299 0.1339653 ]\n",
            "  [0.053805   0.39395181 0.93525506]\n",
            "  [0.90677265 0.88924065 0.18636917]\n",
            "  [0.03693261 0.03987503 0.2562266 ]\n",
            "  [0.33882804 0.15087478 0.29248305]]\n",
            "\n",
            " [[0.3267348  0.68671078 0.9176824 ]\n",
            "  [0.39093325 0.40708887 0.62969972]\n",
            "  [0.27834948 0.16780942 0.01118986]\n",
            "  [0.66391741 0.13052409 0.15585796]\n",
            "  [0.6773855  0.296963   0.23793265]\n",
            "  [0.7170751  0.61534343 0.29470392]\n",
            "  [0.79976156 0.39739999 0.66112405]\n",
            "  [0.71631324 0.25689882 0.62272744]\n",
            "  [0.12979824 0.21319248 0.16109634]\n",
            "  [0.87183231 0.6270592  0.14473927]]\n",
            "\n",
            " [[0.88646986 0.40186301 0.34055561]\n",
            "  [0.33533989 0.65712405 0.4685971 ]\n",
            "  [0.57462284 0.79195781 0.23583664]\n",
            "  [0.20726675 0.98106604 0.26811001]\n",
            "  [0.58965292 0.7362107  0.63934648]\n",
            "  [0.0687139  0.38991151 0.96667534]\n",
            "  [0.99476055 0.5804028  0.67622872]\n",
            "  [0.90701367 0.94511495 0.59730826]\n",
            "  [0.84955685 0.18974708 0.81094141]\n",
            "  [0.73130554 0.7085975  0.14738842]]]\n"
          ]
        }
      ]
    },
    {
      "cell_type": "code",
      "source": [
        "v_max, v_min = v.max(), v.min()\n",
        "print(v_max, v_min)"
      ],
      "metadata": {
        "colab": {
          "base_uri": "https://localhost:8080/"
        },
        "id": "EoioHHqIQnvg",
        "outputId": "88f11323-3ecc-4ec4-859d-71b85e056f2b"
      },
      "execution_count": 45,
      "outputs": [
        {
          "output_type": "stream",
          "name": "stdout",
          "text": [
            "0.9991153964383259 0.003141325125183392\n"
          ]
        }
      ]
    },
    {
      "cell_type": "code",
      "source": [
        "v = np.random.random(30)\n",
        "v_mean = v.mean()\n",
        "print(v_mean)"
      ],
      "metadata": {
        "colab": {
          "base_uri": "https://localhost:8080/"
        },
        "id": "XpyKRVbcQ7TD",
        "outputId": "5519acb6-72b1-4d1b-b0e5-eeefc3beacab"
      },
      "execution_count": 48,
      "outputs": [
        {
          "output_type": "stream",
          "name": "stdout",
          "text": [
            "0.3861279036514928\n"
          ]
        }
      ]
    },
    {
      "cell_type": "code",
      "source": [
        " v = np.ones((10, 10))\n",
        " print(v)\n"
      ],
      "metadata": {
        "colab": {
          "base_uri": "https://localhost:8080/"
        },
        "id": "r5z54_6ERTDz",
        "outputId": "29399380-ae38-48a8-8ba9-c84f75adcbfb"
      },
      "execution_count": 49,
      "outputs": [
        {
          "output_type": "stream",
          "name": "stdout",
          "text": [
            "[[1. 1. 1. 1. 1. 1. 1. 1. 1. 1.]\n",
            " [1. 1. 1. 1. 1. 1. 1. 1. 1. 1.]\n",
            " [1. 1. 1. 1. 1. 1. 1. 1. 1. 1.]\n",
            " [1. 1. 1. 1. 1. 1. 1. 1. 1. 1.]\n",
            " [1. 1. 1. 1. 1. 1. 1. 1. 1. 1.]\n",
            " [1. 1. 1. 1. 1. 1. 1. 1. 1. 1.]\n",
            " [1. 1. 1. 1. 1. 1. 1. 1. 1. 1.]\n",
            " [1. 1. 1. 1. 1. 1. 1. 1. 1. 1.]\n",
            " [1. 1. 1. 1. 1. 1. 1. 1. 1. 1.]\n",
            " [1. 1. 1. 1. 1. 1. 1. 1. 1. 1.]]\n"
          ]
        }
      ]
    },
    {
      "cell_type": "code",
      "source": [
        "3 * 0.1"
      ],
      "metadata": {
        "colab": {
          "base_uri": "https://localhost:8080/"
        },
        "id": "MnNM8q7TR2NP",
        "outputId": "49a7846d-ed03-4426-d654-bc0667832057"
      },
      "execution_count": 50,
      "outputs": [
        {
          "output_type": "execute_result",
          "data": {
            "text/plain": [
              "0.30000000000000004"
            ]
          },
          "metadata": {},
          "execution_count": 50
        }
      ]
    },
    {
      "cell_type": "code",
      "source": [
        "np.sqrt(144)"
      ],
      "metadata": {
        "colab": {
          "base_uri": "https://localhost:8080/"
        },
        "id": "jbfiT_pKR6y3",
        "outputId": "ecdb688c-7dc3-4eac-e3b7-e79fb9042877"
      },
      "execution_count": 52,
      "outputs": [
        {
          "output_type": "execute_result",
          "data": {
            "text/plain": [
              "12.0"
            ]
          },
          "metadata": {},
          "execution_count": 52
        }
      ]
    },
    {
      "cell_type": "code",
      "source": [
        "z = np.diag(1+np.arange(5), k=0)\n",
        "print(z)"
      ],
      "metadata": {
        "colab": {
          "base_uri": "https://localhost:8080/"
        },
        "id": "OGOMfXHuSmN8",
        "outputId": "15dd7521-bc0b-47c9-bf4b-6b763da9c797"
      },
      "execution_count": 58,
      "outputs": [
        {
          "output_type": "stream",
          "name": "stdout",
          "text": [
            "[[1 0 0 0 0]\n",
            " [0 2 0 0 0]\n",
            " [0 0 3 0 0]\n",
            " [0 0 0 4 0]\n",
            " [0 0 0 0 5]]\n"
          ]
        }
      ]
    },
    {
      "cell_type": "code",
      "source": [
        "# Create a 5x5 matrix with zeros\n",
        "\n",
        "z = np.zeros((5,5))\n",
        "# set values at the diagonal\n",
        "values = [1, 2, 3, 4, 5]\n",
        "np.fill_diagonal(z, values)\n",
        "print(z)"
      ],
      "metadata": {
        "colab": {
          "base_uri": "https://localhost:8080/"
        },
        "id": "NV6TrGUTTNz9",
        "outputId": "e4d2eb8b-be76-47d1-f812-b9ab413df2f3"
      },
      "execution_count": 59,
      "outputs": [
        {
          "output_type": "stream",
          "name": "stdout",
          "text": [
            "[[1. 0. 0. 0. 0.]\n",
            " [0. 2. 0. 0. 0.]\n",
            " [0. 0. 3. 0. 0.]\n",
            " [0. 0. 0. 4. 0.]\n",
            " [0. 0. 0. 0. 5.]]\n"
          ]
        }
      ]
    },
    {
      "cell_type": "code",
      "source": [
        "# Consider a (6,7,8) shape array, what is the index (x,y,z) of the 100th element?\n",
        "\n",
        "print(np.unravel_index(100, (6,7,8)))"
      ],
      "metadata": {
        "colab": {
          "base_uri": "https://localhost:8080/"
        },
        "id": "KaKqX0BWTt9Y",
        "outputId": "89342b96-4915-43b2-dd66-afee66c933ff"
      },
      "execution_count": 2,
      "outputs": [
        {
          "output_type": "stream",
          "name": "stdout",
          "text": [
            "(1, 5, 4)\n"
          ]
        }
      ]
    },
    {
      "cell_type": "code",
      "source": [
        "z = np.zeros((3,7,8))\n",
        "print(z)"
      ],
      "metadata": {
        "colab": {
          "base_uri": "https://localhost:8080/"
        },
        "id": "7rHqY1VIICA4",
        "outputId": "c6818ba3-400f-414c-8994-0a5a5bafa878"
      },
      "execution_count": 6,
      "outputs": [
        {
          "output_type": "stream",
          "name": "stdout",
          "text": [
            "[[[0. 0. 0. 0. 0. 0. 0. 0.]\n",
            "  [0. 0. 0. 0. 0. 0. 0. 0.]\n",
            "  [0. 0. 0. 0. 0. 0. 0. 0.]\n",
            "  [0. 0. 0. 0. 0. 0. 0. 0.]\n",
            "  [0. 0. 0. 0. 0. 0. 0. 0.]\n",
            "  [0. 0. 0. 0. 0. 0. 0. 0.]\n",
            "  [0. 0. 0. 0. 0. 0. 0. 0.]]\n",
            "\n",
            " [[0. 0. 0. 0. 0. 0. 0. 0.]\n",
            "  [0. 0. 0. 0. 0. 0. 0. 0.]\n",
            "  [0. 0. 0. 0. 0. 0. 0. 0.]\n",
            "  [0. 0. 0. 0. 0. 0. 0. 0.]\n",
            "  [0. 0. 0. 0. 0. 0. 0. 0.]\n",
            "  [0. 0. 0. 0. 0. 0. 0. 0.]\n",
            "  [0. 0. 0. 0. 0. 0. 0. 0.]]\n",
            "\n",
            " [[0. 0. 0. 0. 0. 0. 0. 0.]\n",
            "  [0. 0. 0. 0. 0. 0. 0. 0.]\n",
            "  [0. 0. 0. 0. 0. 0. 0. 0.]\n",
            "  [0. 0. 0. 0. 0. 0. 0. 0.]\n",
            "  [0. 0. 0. 0. 0. 0. 0. 0.]\n",
            "  [0. 0. 0. 0. 0. 0. 0. 0.]\n",
            "  [0. 0. 0. 0. 0. 0. 0. 0.]]]\n"
          ]
        }
      ]
    },
    {
      "cell_type": "code",
      "source": [
        "# Normalize a 5x5 random matrix\n",
        "\n",
        "z= np.random.random((5,5))\n",
        "zmax, zmin= z.max(), z.min()\n",
        "z= (z-zmin)/(zmax-zmin)\n",
        "print(z)"
      ],
      "metadata": {
        "colab": {
          "base_uri": "https://localhost:8080/"
        },
        "id": "I7hV2lyKIdI4",
        "outputId": "88a4e576-60fb-4315-acea-7938862d6c88"
      },
      "execution_count": 7,
      "outputs": [
        {
          "output_type": "stream",
          "name": "stdout",
          "text": [
            "[[0.27828916 0.90273428 0.56057572 0.14127888 0.00452794]\n",
            " [0.53249965 0.18686377 0.27919889 0.72687817 0.89359691]\n",
            " [0.54060604 0.6165883  0.1533044  0.80289133 0.        ]\n",
            " [0.03335232 0.51634407 0.04425914 0.16758825 0.35583913]\n",
            " [0.57264612 0.97159797 0.0248156  1.         0.10203253]]\n"
          ]
        }
      ]
    },
    {
      "cell_type": "code",
      "source": [
        "# Create a custom dtype that describes a color as four unsigned bytes (RGBA)\n",
        "\n",
        "color = np.dtype([(\"r\", np.ubyte,1),\n",
        "                  (\"g\", np.ubyte, 1),\n",
        "                  (\"b\", np.ubyte, 1),\n",
        "                  (\"a\", np.ubyte, 1)])"
      ],
      "metadata": {
        "colab": {
          "base_uri": "https://localhost:8080/"
        },
        "id": "WdHF1I23JV6r",
        "outputId": "c59efc60-169e-4505-bc57-4f7e233379a6"
      },
      "execution_count": 8,
      "outputs": [
        {
          "output_type": "stream",
          "name": "stderr",
          "text": [
            "<ipython-input-8-09c9ead1d7a9>:3: FutureWarning: Passing (type, 1) or '1type' as a synonym of type is deprecated; in a future version of numpy, it will be understood as (type, (1,)) / '(1,)type'.\n",
            "  color = np.dtype([(\"r\", np.ubyte,1),\n"
          ]
        }
      ]
    },
    {
      "cell_type": "code",
      "source": [
        "color"
      ],
      "metadata": {
        "colab": {
          "base_uri": "https://localhost:8080/"
        },
        "id": "bc6jUHBaJ0_K",
        "outputId": "8be20dcf-2964-474e-8abb-253b494a36bd"
      },
      "execution_count": 9,
      "outputs": [
        {
          "output_type": "execute_result",
          "data": {
            "text/plain": [
              "dtype([('r', 'u1'), ('g', 'u1'), ('b', 'u1'), ('a', 'u1')])"
            ]
          },
          "metadata": {},
          "execution_count": 9
        }
      ]
    },
    {
      "cell_type": "code",
      "source": [
        "# Multiply a 5x3 matrix by a 3x2 matrix (real matrix product)\n",
        "\n",
        "Z= np.dot(np.ones((5,3)), np.ones((3,2)))\n",
        "print(Z)"
      ],
      "metadata": {
        "colab": {
          "base_uri": "https://localhost:8080/"
        },
        "id": "ugcpkCOOJ_kn",
        "outputId": "0f3a81cc-c6cd-438e-f543-9e544689a944"
      },
      "execution_count": 10,
      "outputs": [
        {
          "output_type": "stream",
          "name": "stdout",
          "text": [
            "[[3. 3.]\n",
            " [3. 3.]\n",
            " [3. 3.]\n",
            " [3. 3.]\n",
            " [3. 3.]]\n"
          ]
        }
      ]
    },
    {
      "cell_type": "code",
      "source": [
        "# Given a 1D array, negate all elements which are between 3 and 8, in place.\n",
        "z= np.arange(11)\n",
        "z[(3<z)&(z<=8)] *=-1\n",
        "z"
      ],
      "metadata": {
        "colab": {
          "base_uri": "https://localhost:8080/"
        },
        "id": "8HGMFBmFKhTL",
        "outputId": "6ff762ec-1f30-4453-85d5-8df279ecc4e8"
      },
      "execution_count": 12,
      "outputs": [
        {
          "output_type": "execute_result",
          "data": {
            "text/plain": [
              "array([ 0,  1,  2,  3, -4, -5, -6, -7, -8,  9, 10])"
            ]
          },
          "metadata": {},
          "execution_count": 12
        }
      ]
    },
    {
      "cell_type": "code",
      "source": [
        "# What is the output of the following script?\n",
        "print(sum(range(2),-1))\n",
        "from numpy import *\n",
        "print(np.sum(range(5),-1))\n"
      ],
      "metadata": {
        "colab": {
          "base_uri": "https://localhost:8080/"
        },
        "id": "sQbnRBTzLp3h",
        "outputId": "8d1abe73-de0e-43bd-d3e5-300b28ff6a0d"
      },
      "execution_count": 24,
      "outputs": [
        {
          "output_type": "stream",
          "name": "stdout",
          "text": [
            "1\n",
            "10\n"
          ]
        }
      ]
    },
    {
      "cell_type": "code",
      "source": [
        "print(range(2),-1)"
      ],
      "metadata": {
        "colab": {
          "base_uri": "https://localhost:8080/"
        },
        "id": "ifdHlHZhMMB3",
        "outputId": "c7aa82bc-b786-41e6-a8bf-ff1062f175ea"
      },
      "execution_count": 22,
      "outputs": [
        {
          "output_type": "stream",
          "name": "stdout",
          "text": [
            "range(0, 2) -1\n"
          ]
        }
      ]
    },
    {
      "cell_type": "code",
      "source": [
        "# How to find common values between two arrays?\n",
        "\n",
        "z1= np.random.randint(0, 10, 10)\n",
        "z2= np.random.randint(0, 10, 10)\n",
        "print(np.intersect1d(z1, z2))"
      ],
      "metadata": {
        "colab": {
          "base_uri": "https://localhost:8080/"
        },
        "id": "gUsnfzcbN0g6",
        "outputId": "a388f4fe-f11a-4819-ae5a-ebfee178adff"
      },
      "execution_count": 25,
      "outputs": [
        {
          "output_type": "stream",
          "name": "stdout",
          "text": [
            "[1 4 5 6 9]\n"
          ]
        }
      ]
    },
    {
      "cell_type": "code",
      "source": [
        "# How to get the dates of yesterday, today and tomorrow?\n",
        "today = np.datetime64(\"today\", \"D\")\n",
        "print(today)\n",
        "yesterday = np.datetime64(\"today\", \"D\") - np.timedelta64(1,'D')\n",
        "print(yesterday)\n",
        "tomorrow = np.datetime64(\"today\", \"D\")+np.timedelta64(1, \"D\")\n",
        "print(tomorrow)"
      ],
      "metadata": {
        "colab": {
          "base_uri": "https://localhost:8080/"
        },
        "id": "aEsc3S4COydb",
        "outputId": "dc0f900c-96cb-4e26-cf9e-21783818c757"
      },
      "execution_count": 30,
      "outputs": [
        {
          "output_type": "stream",
          "name": "stdout",
          "text": [
            "2024-12-21\n",
            "2024-12-20\n",
            "2024-12-22\n"
          ]
        }
      ]
    },
    {
      "cell_type": "code",
      "source": [
        "# How to get all the dates corresponding to the month of July 2023?\n",
        "\n",
        "Z = np.arange('2023-07', '2023-08', dtype= 'datetime64[D]')\n",
        "print(Z)"
      ],
      "metadata": {
        "colab": {
          "base_uri": "https://localhost:8080/"
        },
        "id": "TrTtlaBmQsPU",
        "outputId": "25c5bfe6-6e0f-44a4-a864-cd19d7cd4259"
      },
      "execution_count": 32,
      "outputs": [
        {
          "output_type": "stream",
          "name": "stdout",
          "text": [
            "['2023-07-01' '2023-07-02' '2023-07-03' '2023-07-04' '2023-07-05'\n",
            " '2023-07-06' '2023-07-07' '2023-07-08' '2023-07-09' '2023-07-10'\n",
            " '2023-07-11' '2023-07-12' '2023-07-13' '2023-07-14' '2023-07-15'\n",
            " '2023-07-16' '2023-07-17' '2023-07-18' '2023-07-19' '2023-07-20'\n",
            " '2023-07-21' '2023-07-22' '2023-07-23' '2023-07-24' '2023-07-25'\n",
            " '2023-07-26' '2023-07-27' '2023-07-28' '2023-07-29' '2023-07-30'\n",
            " '2023-07-31']\n"
          ]
        }
      ]
    },
    {
      "cell_type": "code",
      "source": [
        "Z = np.random.uniform(0,10,10)\n",
        "print(Z.astype(int))"
      ],
      "metadata": {
        "colab": {
          "base_uri": "https://localhost:8080/"
        },
        "id": "nU2jWIOTRS8z",
        "outputId": "a2ec36ef-d689-4f67-f1da-cd82949937a5"
      },
      "execution_count": 35,
      "outputs": [
        {
          "output_type": "stream",
          "name": "stdout",
          "text": [
            "[1 9 5 0 9 7 4 5 9 8]\n"
          ]
        }
      ]
    },
    {
      "cell_type": "code",
      "source": [
        "# Create a 5x5 matrix with row values ranging from 0 to 4\n",
        "z= np.zeros((5,5))\n",
        "z+= np.arange(5)\n",
        "prin"
      ],
      "metadata": {
        "colab": {
          "base_uri": "https://localhost:8080/"
        },
        "id": "mN3o0XJfRtbO",
        "outputId": "8c4306c1-e764-4337-ec1c-8f16c0e3bf8f"
      },
      "execution_count": 36,
      "outputs": [
        {
          "output_type": "stream",
          "name": "stdout",
          "text": [
            "[[0. 1. 2. 3. 4.]\n",
            " [0. 1. 2. 3. 4.]\n",
            " [0. 1. 2. 3. 4.]\n",
            " [0. 1. 2. 3. 4.]\n",
            " [0. 1. 2. 3. 4.]]\n"
          ]
        }
      ]
    },
    {
      "cell_type": "code",
      "source": [
        "from types import GeneratorType\n",
        "# Consider a generator function that generates 10 integers and use it to build an array\n",
        "\n",
        "def generator():\n",
        "  for i in range(10):\n",
        "    yield iz = np.fromiter(generator(), dtype= float, count = 1)\n",
        ""
      ],
      "metadata": {
        "id": "h7EQatZJS05-"
      },
      "execution_count": 38,
      "outputs": []
    },
    {
      "cell_type": "code",
      "source": [
        "from types import GeneratorType\n",
        "# Consider a generator function that generates 10 integers and use it to build an array\n",
        "\n",
        "def generator():\n",
        "  for i in range(10):\n",
        "    yield i"
      ],
      "metadata": {
        "id": "ys0MTOdhT9aw"
      },
      "execution_count": 39,
      "outputs": []
    },
    {
      "cell_type": "code",
      "source": [
        "z = np.fromiter(generator(),dtype=float,count=-1)\n",
        "print(z)"
      ],
      "metadata": {
        "colab": {
          "base_uri": "https://localhost:8080/"
        },
        "id": "jEnJ99GITtM8",
        "outputId": "66a873d9-d58f-4527-9933-8572986570d1"
      },
      "execution_count": 41,
      "outputs": [
        {
          "output_type": "stream",
          "name": "stdout",
          "text": [
            "[0. 1. 2. 3. 4. 5. 6. 7. 8. 9.]\n"
          ]
        }
      ]
    },
    {
      "cell_type": "code",
      "source": [
        "# Create a random vector of size 10 and sort it\n",
        "\n",
        "z= np.random.random(10)\n",
        "z.sort()\n",
        "print(z)\n"
      ],
      "metadata": {
        "colab": {
          "base_uri": "https://localhost:8080/"
        },
        "id": "GUjkNuj0zf1c",
        "outputId": "c681f2b8-fc87-429f-a810-2b9ea2e11be8"
      },
      "execution_count": 42,
      "outputs": [
        {
          "output_type": "stream",
          "name": "stdout",
          "text": [
            "[0.1861398  0.27686572 0.30808997 0.30829786 0.4256598  0.46436422\n",
            " 0.54444085 0.78260486 0.80794054 0.97932195]\n"
          ]
        }
      ]
    }
  ]
}