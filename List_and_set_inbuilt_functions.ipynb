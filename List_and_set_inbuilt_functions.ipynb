{
  "nbformat": 4,
  "nbformat_minor": 0,
  "metadata": {
    "colab": {
      "provenance": [],
      "authorship_tag": "ABX9TyNq1k7COTmtNvHvLDFpzUrs",
      "include_colab_link": true
    },
    "kernelspec": {
      "name": "python3",
      "display_name": "Python 3"
    },
    "language_info": {
      "name": "python"
    }
  },
  "cells": [
    {
      "cell_type": "markdown",
      "metadata": {
        "id": "view-in-github",
        "colab_type": "text"
      },
      "source": [
        "<a href=\"https://colab.research.google.com/github/gplinkage/Core-Python/blob/main/List_and_set_inbuilt_functions.ipynb\" target=\"_parent\"><img src=\"https://colab.research.google.com/assets/colab-badge.svg\" alt=\"Open In Colab\"/></a>"
      ]
    },
    {
      "cell_type": "code",
      "execution_count": 9,
      "metadata": {
        "colab": {
          "base_uri": "https://localhost:8080/"
        },
        "id": "1RWf8SpWOjs1",
        "outputId": "e42dabc2-3bc8-4057-9831-e3b2fd91be20"
      },
      "outputs": [
        {
          "output_type": "stream",
          "name": "stdout",
          "text": [
            "Beofer append [1, 2, 3, 4, 5, 6, 7]\n",
            "After append [1, 2, 3, 4, 5, 6, 7, 8]\n"
          ]
        }
      ],
      "source": [
        "#appends or adds the value at the last index of the list\n",
        "\n",
        "\n",
        "a= [1,2,3,4,5,6,7]\n",
        "print(\"Beofer append\", a)\n",
        "a.append (8)\n",
        "print (\"After append\",a)"
      ]
    },
    {
      "cell_type": "code",
      "source": [
        "# clear function removes everyting from the list\n",
        "\n",
        "a = [3, 6, 9, 12]\n",
        "a.clear()\n",
        "print(a)"
      ],
      "metadata": {
        "colab": {
          "base_uri": "https://localhost:8080/"
        },
        "id": "lE0MBpGhSmPG",
        "outputId": "00a2f5df-0b2c-4e9f-e165-bebe55db13b5"
      },
      "execution_count": 10,
      "outputs": [
        {
          "output_type": "stream",
          "name": "stdout",
          "text": [
            "[]\n"
          ]
        }
      ]
    },
    {
      "cell_type": "code",
      "source": [
        "a_list = [1, 2, 3, 4,5,6]\n",
        "b_list = a_list\n",
        "c_list = a_list.copy()\n",
        "print(a_list)\n",
        "print(b_list)\n",
        "print(c_list)"
      ],
      "metadata": {
        "colab": {
          "base_uri": "https://localhost:8080/"
        },
        "id": "5fiGcC_4S2xo",
        "outputId": "f4221237-7385-4b28-e964-499da2165c1a"
      },
      "execution_count": 11,
      "outputs": [
        {
          "output_type": "stream",
          "name": "stdout",
          "text": [
            "[1, 2, 3, 4, 5, 6]\n",
            "[1, 2, 3, 4, 5, 6]\n",
            "[1, 2, 3, 4, 5, 6]\n"
          ]
        }
      ]
    },
    {
      "cell_type": "code",
      "source": [
        "#insert takes two values index and object/value/number\n",
        "a_list = [1, 2, 3, 4,5,6]\n",
        "a_list.insert(0,(4,2))\n",
        "print(a_list)"
      ],
      "metadata": {
        "colab": {
          "base_uri": "https://localhost:8080/"
        },
        "id": "1pFUABwpfMUU",
        "outputId": "f21cedc5-0335-4bfd-ceca-70411902a9a5"
      },
      "execution_count": 18,
      "outputs": [
        {
          "output_type": "stream",
          "name": "stdout",
          "text": [
            "[(4, 2), 1, 2, 3, 4, 5, 6]\n"
          ]
        }
      ]
    },
    {
      "cell_type": "code",
      "source": [
        "# Pop function removes an item from the list at a given index or the last one if index not defined\n",
        "a_list = [1, 2, 3, 4,5,6]\n",
        "a_list.pop(4)\n",
        "print(a_list)"
      ],
      "metadata": {
        "colab": {
          "base_uri": "https://localhost:8080/"
        },
        "id": "N-kbgZhTfuki",
        "outputId": "10669ca0-df7a-48f8-97ee-2f2e0d8bb2a0"
      },
      "execution_count": 21,
      "outputs": [
        {
          "output_type": "stream",
          "name": "stdout",
          "text": [
            "[1, 2, 3, 4, 6]\n"
          ]
        }
      ]
    },
    {
      "cell_type": "code",
      "source": [
        "# Remove function removes the passed item at their first occurance\n",
        "\n",
        "a_list = [1, 2, 3, 4,5,4,6]\n",
        "a_list.remove(4)\n",
        "print(a_list)\n"
      ],
      "metadata": {
        "colab": {
          "base_uri": "https://localhost:8080/"
        },
        "id": "voZy-v0Zf_Od",
        "outputId": "17ab1c7a-3366-4f16-fb50-9aa2f0db45c1"
      },
      "execution_count": 28,
      "outputs": [
        {
          "output_type": "stream",
          "name": "stdout",
          "text": [
            "[1, 2, 3, 5, 4, 6]\n"
          ]
        }
      ]
    },
    {
      "cell_type": "code",
      "source": [
        "# reverse function reverses the list\n",
        "\n",
        "a_list = [1, 2, 3, 4,5,6]\n",
        "a_list.reverse()\n",
        "print(a_list)"
      ],
      "metadata": {
        "colab": {
          "base_uri": "https://localhost:8080/"
        },
        "id": "iLNoncUvgM9I",
        "outputId": "3516f1cb-e217-4050-8380-8d129af1c662"
      },
      "execution_count": 29,
      "outputs": [
        {
          "output_type": "stream",
          "name": "stdout",
          "text": [
            "[6, 5, 4, 3, 2, 1]\n"
          ]
        }
      ]
    },
    {
      "cell_type": "code",
      "source": [
        "# Sort function, default is ascending order\n",
        "\n",
        "a_list = [1, 2, 3, 4,5,6]\n",
        "a_list.sort()\n",
        "print(a_list)"
      ],
      "metadata": {
        "colab": {
          "base_uri": "https://localhost:8080/"
        },
        "id": "HAPu5C08gTzs",
        "outputId": "98aafee2-36ad-44f8-c41d-0292a56e41a0"
      },
      "execution_count": 30,
      "outputs": [
        {
          "output_type": "stream",
          "name": "stdout",
          "text": [
            "[1, 2, 3, 4, 5, 6]\n"
          ]
        }
      ]
    }
  ]
}